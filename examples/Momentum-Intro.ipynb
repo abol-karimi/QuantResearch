{
 "cells": [
  {
   "metadata": {},
   "cell_type": "markdown",
   "source": "A basic momentum strategy",
   "id": "8bb4e9c412bda477"
  },
  {
   "metadata": {
    "ExecuteTime": {
     "end_time": "2025-06-23T23:29:14.831760Z",
     "start_time": "2025-06-23T23:29:04.226601Z"
    }
   },
   "cell_type": "code",
   "source": [
    "import pandas as pd\n",
    "\n",
    "from quant.data import get_returns\n",
    "from quant.metric import sharpe_ratio\n",
    "\n",
    "# Parameters of our strategy\n",
    "univ = ['BTCUSDT','ETHUSDT','ADAUSDT','BNBUSDT','XRPUSDT','DOTUSDT','MATICUSDT']\n",
    "data_period = 4 # in hours\n",
    "train_start = '2020-01-01'\n",
    "train_end = '2022-12-31'\n",
    "test_start = '2023-01-01'\n",
    "test_end = '2023-12-31'\n",
    "\n",
    "freq = f'{data_period}h'\n",
    "train_returns = get_returns(univ, freq, start_ts=train_start, end_ts=train_end)\n",
    "train_returns.head(3)"
   ],
   "id": "a1b819e2493f4efd",
   "outputs": [
    {
     "data": {
      "text/plain": [
       "                      BTCUSDT   ETHUSDT   ADAUSDT   BNBUSDT   XRPUSDT  \\\n",
       "2019-12-31 19:00:00       NaN       NaN       NaN       NaN       NaN   \n",
       "2019-12-31 23:00:00 -0.003487  0.002612  0.003628 -0.003699  0.005771   \n",
       "2020-01-01 03:00:00 -0.001346  0.002452  0.000301 -0.003531 -0.008198   \n",
       "\n",
       "                     DOTUSDT  MATICUSDT  \n",
       "2019-12-31 19:00:00      NaN        NaN  \n",
       "2019-12-31 23:00:00      NaN        NaN  \n",
       "2020-01-01 03:00:00      NaN        NaN  "
      ],
      "text/html": [
       "<div>\n",
       "<style scoped>\n",
       "    .dataframe tbody tr th:only-of-type {\n",
       "        vertical-align: middle;\n",
       "    }\n",
       "\n",
       "    .dataframe tbody tr th {\n",
       "        vertical-align: top;\n",
       "    }\n",
       "\n",
       "    .dataframe thead th {\n",
       "        text-align: right;\n",
       "    }\n",
       "</style>\n",
       "<table border=\"1\" class=\"dataframe\">\n",
       "  <thead>\n",
       "    <tr style=\"text-align: right;\">\n",
       "      <th></th>\n",
       "      <th>BTCUSDT</th>\n",
       "      <th>ETHUSDT</th>\n",
       "      <th>ADAUSDT</th>\n",
       "      <th>BNBUSDT</th>\n",
       "      <th>XRPUSDT</th>\n",
       "      <th>DOTUSDT</th>\n",
       "      <th>MATICUSDT</th>\n",
       "    </tr>\n",
       "  </thead>\n",
       "  <tbody>\n",
       "    <tr>\n",
       "      <th>2019-12-31 19:00:00</th>\n",
       "      <td>NaN</td>\n",
       "      <td>NaN</td>\n",
       "      <td>NaN</td>\n",
       "      <td>NaN</td>\n",
       "      <td>NaN</td>\n",
       "      <td>NaN</td>\n",
       "      <td>NaN</td>\n",
       "    </tr>\n",
       "    <tr>\n",
       "      <th>2019-12-31 23:00:00</th>\n",
       "      <td>-0.003487</td>\n",
       "      <td>0.002612</td>\n",
       "      <td>0.003628</td>\n",
       "      <td>-0.003699</td>\n",
       "      <td>0.005771</td>\n",
       "      <td>NaN</td>\n",
       "      <td>NaN</td>\n",
       "    </tr>\n",
       "    <tr>\n",
       "      <th>2020-01-01 03:00:00</th>\n",
       "      <td>-0.001346</td>\n",
       "      <td>0.002452</td>\n",
       "      <td>0.000301</td>\n",
       "      <td>-0.003531</td>\n",
       "      <td>-0.008198</td>\n",
       "      <td>NaN</td>\n",
       "      <td>NaN</td>\n",
       "    </tr>\n",
       "  </tbody>\n",
       "</table>\n",
       "</div>"
      ]
     },
     "execution_count": 1,
     "metadata": {},
     "output_type": "execute_result"
    }
   ],
   "execution_count": 1
  },
  {
   "metadata": {
    "ExecuteTime": {
     "end_time": "2025-06-23T23:29:14.917200Z",
     "start_time": "2025-06-23T23:29:14.868320Z"
    }
   },
   "cell_type": "code",
   "source": [
    "from quant.algorithms.classic.momentum import rolling_avg_rank\n",
    "\n",
    "# For each of the following multiples of data_period, we make a momentum strategy and calculate the strategy return:\n",
    "horizons = [1, 2, 3, 4, 5, 6]\n",
    "strats_returns = {}\n",
    "for h in horizons:\n",
    "    # Calculate the portfolio weights for the strategy\n",
    "    weights = rolling_avg_rank(train_returns, h)\n",
    "    # Calculate the return of the strategy for each period\n",
    "    strats_returns[h] = (weights.shift()*train_returns).sum(axis=1)\n",
    "strats_returns = pd.DataFrame(strats_returns)\n",
    "strats_returns.head(5)"
   ],
   "id": "f36d477933757a38",
   "outputs": [
    {
     "data": {
      "text/plain": [
       "                                1         2         3         4         5  \\\n",
       "2019-12-31 19:00:00  0.000000e+00  0.000000  0.000000  0.000000  0.000000   \n",
       "2019-12-31 23:00:00  0.000000e+00  0.000000  0.000000  0.000000  0.000000   \n",
       "2020-01-01 03:00:00 -1.281039e-03 -0.001281 -0.001281 -0.001281 -0.001281   \n",
       "2020-01-01 07:00:00  2.181741e-03  0.001558  0.001558  0.001558  0.001558   \n",
       "2020-01-01 11:00:00 -7.816796e-07  0.000616  0.002451  0.002451  0.002451   \n",
       "\n",
       "                            6  \n",
       "2019-12-31 19:00:00  0.000000  \n",
       "2019-12-31 23:00:00  0.000000  \n",
       "2020-01-01 03:00:00 -0.001281  \n",
       "2020-01-01 07:00:00  0.001558  \n",
       "2020-01-01 11:00:00  0.002451  "
      ],
      "text/html": [
       "<div>\n",
       "<style scoped>\n",
       "    .dataframe tbody tr th:only-of-type {\n",
       "        vertical-align: middle;\n",
       "    }\n",
       "\n",
       "    .dataframe tbody tr th {\n",
       "        vertical-align: top;\n",
       "    }\n",
       "\n",
       "    .dataframe thead th {\n",
       "        text-align: right;\n",
       "    }\n",
       "</style>\n",
       "<table border=\"1\" class=\"dataframe\">\n",
       "  <thead>\n",
       "    <tr style=\"text-align: right;\">\n",
       "      <th></th>\n",
       "      <th>1</th>\n",
       "      <th>2</th>\n",
       "      <th>3</th>\n",
       "      <th>4</th>\n",
       "      <th>5</th>\n",
       "      <th>6</th>\n",
       "    </tr>\n",
       "  </thead>\n",
       "  <tbody>\n",
       "    <tr>\n",
       "      <th>2019-12-31 19:00:00</th>\n",
       "      <td>0.000000e+00</td>\n",
       "      <td>0.000000</td>\n",
       "      <td>0.000000</td>\n",
       "      <td>0.000000</td>\n",
       "      <td>0.000000</td>\n",
       "      <td>0.000000</td>\n",
       "    </tr>\n",
       "    <tr>\n",
       "      <th>2019-12-31 23:00:00</th>\n",
       "      <td>0.000000e+00</td>\n",
       "      <td>0.000000</td>\n",
       "      <td>0.000000</td>\n",
       "      <td>0.000000</td>\n",
       "      <td>0.000000</td>\n",
       "      <td>0.000000</td>\n",
       "    </tr>\n",
       "    <tr>\n",
       "      <th>2020-01-01 03:00:00</th>\n",
       "      <td>-1.281039e-03</td>\n",
       "      <td>-0.001281</td>\n",
       "      <td>-0.001281</td>\n",
       "      <td>-0.001281</td>\n",
       "      <td>-0.001281</td>\n",
       "      <td>-0.001281</td>\n",
       "    </tr>\n",
       "    <tr>\n",
       "      <th>2020-01-01 07:00:00</th>\n",
       "      <td>2.181741e-03</td>\n",
       "      <td>0.001558</td>\n",
       "      <td>0.001558</td>\n",
       "      <td>0.001558</td>\n",
       "      <td>0.001558</td>\n",
       "      <td>0.001558</td>\n",
       "    </tr>\n",
       "    <tr>\n",
       "      <th>2020-01-01 11:00:00</th>\n",
       "      <td>-7.816796e-07</td>\n",
       "      <td>0.000616</td>\n",
       "      <td>0.002451</td>\n",
       "      <td>0.002451</td>\n",
       "      <td>0.002451</td>\n",
       "      <td>0.002451</td>\n",
       "    </tr>\n",
       "  </tbody>\n",
       "</table>\n",
       "</div>"
      ]
     },
     "execution_count": 2,
     "metadata": {},
     "output_type": "execute_result"
    }
   ],
   "execution_count": 2
  },
  {
   "metadata": {
    "ExecuteTime": {
     "end_time": "2025-06-23T23:29:14.958567Z",
     "start_time": "2025-06-23T23:29:14.952842Z"
    }
   },
   "cell_type": "code",
   "source": [
    "from quant.metric import sharpe_ratio\n",
    "\n",
    "# Calculate the annualized Sharpe of each strategy\n",
    "sr = sharpe_ratio(strats_returns, data_period)\n",
    "sr"
   ],
   "id": "e4def80c37d0ed",
   "outputs": [
    {
     "data": {
      "text/plain": [
       "1   -0.989473\n",
       "2   -0.238533\n",
       "3    0.259369\n",
       "4    1.071280\n",
       "5    1.490998\n",
       "6    0.899934\n",
       "dtype: float64"
      ]
     },
     "execution_count": 3,
     "metadata": {},
     "output_type": "execute_result"
    }
   ],
   "execution_count": 3
  },
  {
   "metadata": {
    "ExecuteTime": {
     "end_time": "2025-06-23T23:29:15.840640Z",
     "start_time": "2025-06-23T23:29:15.063025Z"
    }
   },
   "cell_type": "code",
   "source": [
    "test_returns = get_returns(univ, freq, start_ts=test_start, end_ts=test_end)\n",
    "test_returns.head(3)"
   ],
   "id": "71f10a40a749fa8d",
   "outputs": [
    {
     "data": {
      "text/plain": [
       "                      BTCUSDT   ETHUSDT   ADAUSDT   BNBUSDT  XRPUSDT  \\\n",
       "2022-12-31 19:00:00       NaN       NaN       NaN       NaN      NaN   \n",
       "2022-12-31 23:00:00  0.000410  0.000946 -0.000326 -0.004892      NaN   \n",
       "2023-01-01 03:00:00  0.001353  0.000711  0.002937  0.001229      NaN   \n",
       "\n",
       "                      DOTUSDT  MATICUSDT  \n",
       "2022-12-31 19:00:00       NaN        NaN  \n",
       "2022-12-31 23:00:00  0.004662  -0.001328  \n",
       "2023-01-01 03:00:00  0.004640   0.003989  "
      ],
      "text/html": [
       "<div>\n",
       "<style scoped>\n",
       "    .dataframe tbody tr th:only-of-type {\n",
       "        vertical-align: middle;\n",
       "    }\n",
       "\n",
       "    .dataframe tbody tr th {\n",
       "        vertical-align: top;\n",
       "    }\n",
       "\n",
       "    .dataframe thead th {\n",
       "        text-align: right;\n",
       "    }\n",
       "</style>\n",
       "<table border=\"1\" class=\"dataframe\">\n",
       "  <thead>\n",
       "    <tr style=\"text-align: right;\">\n",
       "      <th></th>\n",
       "      <th>BTCUSDT</th>\n",
       "      <th>ETHUSDT</th>\n",
       "      <th>ADAUSDT</th>\n",
       "      <th>BNBUSDT</th>\n",
       "      <th>XRPUSDT</th>\n",
       "      <th>DOTUSDT</th>\n",
       "      <th>MATICUSDT</th>\n",
       "    </tr>\n",
       "  </thead>\n",
       "  <tbody>\n",
       "    <tr>\n",
       "      <th>2022-12-31 19:00:00</th>\n",
       "      <td>NaN</td>\n",
       "      <td>NaN</td>\n",
       "      <td>NaN</td>\n",
       "      <td>NaN</td>\n",
       "      <td>NaN</td>\n",
       "      <td>NaN</td>\n",
       "      <td>NaN</td>\n",
       "    </tr>\n",
       "    <tr>\n",
       "      <th>2022-12-31 23:00:00</th>\n",
       "      <td>0.000410</td>\n",
       "      <td>0.000946</td>\n",
       "      <td>-0.000326</td>\n",
       "      <td>-0.004892</td>\n",
       "      <td>NaN</td>\n",
       "      <td>0.004662</td>\n",
       "      <td>-0.001328</td>\n",
       "    </tr>\n",
       "    <tr>\n",
       "      <th>2023-01-01 03:00:00</th>\n",
       "      <td>0.001353</td>\n",
       "      <td>0.000711</td>\n",
       "      <td>0.002937</td>\n",
       "      <td>0.001229</td>\n",
       "      <td>NaN</td>\n",
       "      <td>0.004640</td>\n",
       "      <td>0.003989</td>\n",
       "    </tr>\n",
       "  </tbody>\n",
       "</table>\n",
       "</div>"
      ]
     },
     "execution_count": 4,
     "metadata": {},
     "output_type": "execute_result"
    }
   ],
   "execution_count": 4
  },
  {
   "metadata": {
    "ExecuteTime": {
     "end_time": "2025-06-23T23:29:15.927530Z",
     "start_time": "2025-06-23T23:29:15.916372Z"
    }
   },
   "cell_type": "code",
   "source": [
    "from quant.metric import strategy_returns\n",
    "\n",
    "# Since 5*4=20 hours gained the highest sharpe ratio, we pick this value as the trained parameter of our strategy\n",
    "horizon_trained = 20\n",
    "\n",
    "# Apply the trained strategy to the test data\n",
    "weights = rolling_avg_rank(test_returns, horizon_trained)\n",
    "# Calculate the return of the strategy over each test period\n",
    "strat_returns = strategy_returns(weights, test_returns)\n",
    "strat_returns"
   ],
   "id": "98b55332c699ea42",
   "outputs": [
    {
     "data": {
      "text/plain": [
       "2022-12-31 19:00:00    0.000000\n",
       "2022-12-31 23:00:00    0.000000\n",
       "2023-01-01 03:00:00    0.000313\n",
       "2023-01-01 07:00:00    0.000131\n",
       "2023-01-01 11:00:00    0.003304\n",
       "                         ...   \n",
       "2023-12-30 03:00:00    0.003509\n",
       "2023-12-30 07:00:00   -0.003829\n",
       "2023-12-30 11:00:00   -0.001690\n",
       "2023-12-30 15:00:00    0.004224\n",
       "2023-12-30 19:00:00    0.005529\n",
       "Freq: 4h, Length: 2185, dtype: float64"
      ]
     },
     "execution_count": 5,
     "metadata": {},
     "output_type": "execute_result"
    }
   ],
   "execution_count": 5
  },
  {
   "metadata": {
    "ExecuteTime": {
     "end_time": "2025-06-23T23:29:16.003447Z",
     "start_time": "2025-06-23T23:29:15.999705Z"
    }
   },
   "cell_type": "code",
   "source": [
    "sharpe = sharpe_ratio(strat_returns, data_period)\n",
    "sharpe"
   ],
   "id": "19a6998ea1725b8a",
   "outputs": [
    {
     "data": {
      "text/plain": [
       "np.float64(0.756299226388108)"
      ]
     },
     "execution_count": 6,
     "metadata": {},
     "output_type": "execute_result"
    }
   ],
   "execution_count": 6
  },
  {
   "metadata": {
    "ExecuteTime": {
     "end_time": "2025-06-23T23:29:16.116290Z",
     "start_time": "2025-06-23T23:29:16.112280Z"
    }
   },
   "cell_type": "code",
   "source": [
    "strat_returns_cumulative = strat_returns.cumsum()\n",
    "print(strat_returns_cumulative)"
   ],
   "id": "7bef2a6cc5e18065",
   "outputs": [
    {
     "name": "stdout",
     "output_type": "stream",
     "text": [
      "2022-12-31 19:00:00    0.000000\n",
      "2022-12-31 23:00:00    0.000000\n",
      "2023-01-01 03:00:00    0.000313\n",
      "2023-01-01 07:00:00    0.000445\n",
      "2023-01-01 11:00:00    0.003748\n",
      "                         ...   \n",
      "2023-12-30 03:00:00    0.114554\n",
      "2023-12-30 07:00:00    0.110725\n",
      "2023-12-30 11:00:00    0.109035\n",
      "2023-12-30 15:00:00    0.113259\n",
      "2023-12-30 19:00:00    0.118788\n",
      "Freq: 4h, Length: 2185, dtype: float64\n"
     ]
    }
   ],
   "execution_count": 7
  },
  {
   "metadata": {
    "ExecuteTime": {
     "end_time": "2025-06-23T23:29:16.277458Z",
     "start_time": "2025-06-23T23:29:16.270291Z"
    }
   },
   "cell_type": "code",
   "source": [
    "import importlib\n",
    "import quant.metric\n",
    "importlib.reload(quant.metric)\n",
    "\n",
    "from quant.metric import max_drawdown_stats\n",
    "\n",
    "stats = max_drawdown_stats(strat_returns_cumulative)\n",
    "stats"
   ],
   "id": "38d75051123ad599",
   "outputs": [
    {
     "data": {
      "text/plain": [
       "{'value': np.float64(-2.390973303713002),\n",
       " 'peak_date': Timestamp('2023-01-08 19:00:00'),\n",
       " 'trough_date': Timestamp('2023-11-30 15:00:00'),\n",
       " 'recovery_date': Timestamp('2023-12-13 15:00:00'),\n",
       " 'running_drawdown': 2022-12-31 19:00:00         NaN\n",
       " 2022-12-31 23:00:00         NaN\n",
       " 2023-01-01 03:00:00    0.000000\n",
       " 2023-01-01 07:00:00    0.000000\n",
       " 2023-01-01 11:00:00    0.000000\n",
       "                          ...   \n",
       " 2023-12-30 03:00:00   -0.110724\n",
       " 2023-12-30 07:00:00   -0.140447\n",
       " 2023-12-30 11:00:00   -0.153566\n",
       " 2023-12-30 15:00:00   -0.120777\n",
       " 2023-12-30 19:00:00   -0.077856\n",
       " Freq: 4h, Length: 2185, dtype: float64}"
      ]
     },
     "execution_count": 8,
     "metadata": {},
     "output_type": "execute_result"
    }
   ],
   "execution_count": 8
  }
 ],
 "metadata": {
  "kernelspec": {
   "display_name": "Python 3",
   "language": "python",
   "name": "python3"
  },
  "language_info": {
   "codemirror_mode": {
    "name": "ipython",
    "version": 2
   },
   "file_extension": ".py",
   "mimetype": "text/x-python",
   "name": "python",
   "nbconvert_exporter": "python",
   "pygments_lexer": "ipython2",
   "version": "2.7.6"
  }
 },
 "nbformat": 4,
 "nbformat_minor": 5
}
