{
 "cells": [
  {
   "cell_type": "code",
   "execution_count": 31,
   "id": "69e42a22-e52c-4384-8f20-646f616f8a11",
   "metadata": {},
   "outputs": [],
   "source": [
    "from binance.client import Client as bnb_client\n",
    "from datetime import datetime\n",
    "import pandas as pd \n",
    "from datetime import datetime, timezone\n",
    "from itertools import product"
   ]
  },
  {
   "cell_type": "code",
   "execution_count": 32,
   "id": "00acb1ea-6082-426b-b207-dfafc21c365f",
   "metadata": {},
   "outputs": [],
   "source": [
    "# Downloading Data \n",
    "\n",
    "client = bnb_client(tld='US')\n",
    "\n",
    "def get_binance_px(symbol, freq, start_ts = '2020-01-01', end_ts='2024-06-30'):\n",
    "    data = client.get_historical_klines(symbol, freq, start_ts, end_ts)\n",
    "    columns = ['open_time','open','high','low','close','volume','close_time','quote_volume',\n",
    "    'num_trades','taker_base_volume','taker_quote_volume','ignore']\n",
    "\n",
    "    data = pd.DataFrame(data,columns = columns)\n",
    "    \n",
    "    # Convert from POSIX timestamp (number of millisecond since jan 1, 1970)\n",
    "    data['open_time'] = data['open_time'].map(lambda x: datetime.fromtimestamp(x/1000, timezone.utc))\n",
    "    data['close_time'] = data['close_time'].map(lambda x: datetime.fromtimestamp(x/1000, timezone.utc))\n",
    "    return data \n",
    "\n",
    "univ = ['BTCUSDT','ETHUSDT','ADAUSDT','BNBUSDT','DOTUSDT', 'MATICUSDT']\n",
    "start_ts = '2020-01-01'\n",
    "end_ts = '2024-06-30'\n",
    "\n",
    "columns = pd.MultiIndex.from_tuples(product(('Close', 'Vol'), univ), names=['Category', 'Asset'])\n",
    "\n",
    "freq = '1h'\n",
    "px = pd.DataFrame(columns=columns) \n",
    "for x in univ:\n",
    "    df = get_binance_px(x, freq, start_ts, end_ts).set_index('open_time')\n",
    "    px['Close', x] = df['close'].astype(float)\n",
    "    px['Vol', x] = df['volume'].astype(float)\n",
    "\n",
    "freq = '1d'\n",
    "px_w = pd.DataFrame(columns=columns) \n",
    "for x in univ:\n",
    "    df = get_binance_px(x, freq, start_ts, end_ts).set_index('open_time')\n",
    "    px_w['Close', x] = df['close'].astype(float)\n",
    "    px_w['Vol', x] = df['volume'].astype(float)"
   ]
  },
  {
   "cell_type": "code",
   "execution_count": 33,
   "id": "62d2db7c",
   "metadata": {},
   "outputs": [],
   "source": [
    "px_filename = '../../data/AmirAlamir/1h_2020-01-01_2024-06-30'\n",
    "px_w_filename = '../../data/AmirAlamir/1d_2020-01-01_2024-06-30'\n",
    "\n",
    "px.to_csv(px_filename + '.csv')\n",
    "px_w.to_csv(px_w_filename + '.csv')\n",
    "\n",
    "px.to_pickle(px_filename + '.pkl')\n",
    "px_w.to_pickle(px_w_filename + '.pkl')"
   ]
  }
 ],
 "metadata": {
  "kernelspec": {
   "display_name": ".venv",
   "language": "python",
   "name": "python3"
  },
  "language_info": {
   "codemirror_mode": {
    "name": "ipython",
    "version": 3
   },
   "file_extension": ".py",
   "mimetype": "text/x-python",
   "name": "python",
   "nbconvert_exporter": "python",
   "pygments_lexer": "ipython3",
   "version": "3.12.3"
  }
 },
 "nbformat": 4,
 "nbformat_minor": 5
}
