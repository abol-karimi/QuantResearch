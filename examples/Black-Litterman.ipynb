{
 "cells": [
  {
   "cell_type": "code",
   "execution_count": null,
   "id": "initial_id",
   "metadata": {
    "collapsed": true
   },
   "outputs": [],
   "source": [
    "import pandas as pd\n",
    "\n",
    "from quantresearch.interface.binance import get_binance_px\n",
    "\n",
    "univ = ['BTCUSDT','ETHUSDT','ADAUSDT','BNBUSDT','XRPUSDT','DOTUSDT','MATICUSDT']\n",
    "freq = '4h'\n",
    "px = {}\n",
    "for x in univ:\n",
    "    data = get_binance_px(x,freq)\n",
    "    px[x] = data.set_index('open_time')['close']\n",
    "\n",
    "px = pd.DataFrame(px).astype(float)\n",
    "px = px.reindex(pd.date_range(px.index[0],px.index[-1],freq=freq))"
   ]
  }
 ],
 "metadata": {
  "kernelspec": {
   "display_name": "Python 3",
   "language": "python",
   "name": "python3"
  },
  "language_info": {
   "codemirror_mode": {
    "name": "ipython",
    "version": 2
   },
   "file_extension": ".py",
   "mimetype": "text/x-python",
   "name": "python",
   "nbconvert_exporter": "python",
   "pygments_lexer": "ipython2",
   "version": "2.7.6"
  }
 },
 "nbformat": 4,
 "nbformat_minor": 5
}
