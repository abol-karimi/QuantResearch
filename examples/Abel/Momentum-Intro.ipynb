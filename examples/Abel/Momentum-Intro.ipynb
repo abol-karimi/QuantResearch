{
 "cells": [
  {
   "metadata": {},
   "cell_type": "markdown",
   "source": "A basic momentum strategy",
   "id": "8bb4e9c412bda477"
  },
  {
   "metadata": {
    "ExecuteTime": {
     "end_time": "2025-09-29T18:53:03.026717Z",
     "start_time": "2025-09-29T18:53:02.991836Z"
    }
   },
   "cell_type": "code",
   "source": [
    "import pandas as pd\n",
    "\n",
    "from quant.metric import sharpe_ratio\n",
    "\n",
    "# Parameters of our strategy\n",
    "univ = ['BTCUSDT','ETHUSDT','ADAUSDT','BNBUSDT','XRPUSDT','DOTUSDT','MATICUSDT']\n",
    "data_period = 4 # in hours\n",
    "train_start = '2020-01-01'\n",
    "train_end = '2022-12-31'\n",
    "test_start = '2023-01-01'\n",
    "test_end = '2023-12-31'\n",
    "\n",
    "freq = f'{data_period}h'\n",
    "train_filename = f'../../data/Abel/{freq}_{train_start}_{train_end}'\n",
    "\n",
    "train_returns = pd.read_csv(train_filename + '.csv', index_col=0, parse_dates=True)\n",
    "train_returns.head(3)"
   ],
   "id": "a1b819e2493f4efd",
   "outputs": [
    {
     "data": {
      "text/plain": [
       "                      BTCUSDT   ETHUSDT   ADAUSDT   BNBUSDT\n",
       "open-time                                                  \n",
       "2019-12-31 19:00:00       NaN       NaN       NaN       NaN\n",
       "2019-12-31 23:00:00 -0.003487  0.002612  0.003628 -0.003699\n",
       "2020-01-01 03:00:00 -0.001346  0.002452  0.000301 -0.003531"
      ],
      "text/html": [
       "<div>\n",
       "<style scoped>\n",
       "    .dataframe tbody tr th:only-of-type {\n",
       "        vertical-align: middle;\n",
       "    }\n",
       "\n",
       "    .dataframe tbody tr th {\n",
       "        vertical-align: top;\n",
       "    }\n",
       "\n",
       "    .dataframe thead th {\n",
       "        text-align: right;\n",
       "    }\n",
       "</style>\n",
       "<table border=\"1\" class=\"dataframe\">\n",
       "  <thead>\n",
       "    <tr style=\"text-align: right;\">\n",
       "      <th></th>\n",
       "      <th>BTCUSDT</th>\n",
       "      <th>ETHUSDT</th>\n",
       "      <th>ADAUSDT</th>\n",
       "      <th>BNBUSDT</th>\n",
       "    </tr>\n",
       "    <tr>\n",
       "      <th>open-time</th>\n",
       "      <th></th>\n",
       "      <th></th>\n",
       "      <th></th>\n",
       "      <th></th>\n",
       "    </tr>\n",
       "  </thead>\n",
       "  <tbody>\n",
       "    <tr>\n",
       "      <th>2019-12-31 19:00:00</th>\n",
       "      <td>NaN</td>\n",
       "      <td>NaN</td>\n",
       "      <td>NaN</td>\n",
       "      <td>NaN</td>\n",
       "    </tr>\n",
       "    <tr>\n",
       "      <th>2019-12-31 23:00:00</th>\n",
       "      <td>-0.003487</td>\n",
       "      <td>0.002612</td>\n",
       "      <td>0.003628</td>\n",
       "      <td>-0.003699</td>\n",
       "    </tr>\n",
       "    <tr>\n",
       "      <th>2020-01-01 03:00:00</th>\n",
       "      <td>-0.001346</td>\n",
       "      <td>0.002452</td>\n",
       "      <td>0.000301</td>\n",
       "      <td>-0.003531</td>\n",
       "    </tr>\n",
       "  </tbody>\n",
       "</table>\n",
       "</div>"
      ]
     },
     "execution_count": 9,
     "metadata": {},
     "output_type": "execute_result"
    }
   ],
   "execution_count": 9
  },
  {
   "metadata": {
    "ExecuteTime": {
     "end_time": "2025-09-29T18:53:03.207971Z",
     "start_time": "2025-09-29T18:53:03.132611Z"
    }
   },
   "cell_type": "code",
   "source": [
    "from quant.algorithms.classic.momentum import rolling_avg_rank\n",
    "from quant.metric import strategy_returns\n",
    "\n",
    "# For each of the following multiples of data_period, we make a momentum strategy and calculate the strategy return:\n",
    "horizons = list(range(1, 7))\n",
    "strats_returns = {}\n",
    "for h in horizons:\n",
    "    # Calculate the portfolio weights for the strategy\n",
    "    weights = rolling_avg_rank(train_returns, h)\n",
    "    strats_returns[h] = strategy_returns(weights, train_returns)\n",
    "strats_returns = pd.DataFrame(strats_returns)\n",
    "strats_returns.head(3)"
   ],
   "id": "f36d477933757a38",
   "outputs": [
    {
     "data": {
      "text/plain": [
       "                            1         2         3         4         5  \\\n",
       "open-time                                                               \n",
       "2019-12-31 19:00:00  0.000000  0.000000  0.000000  0.000000  0.000000   \n",
       "2019-12-31 23:00:00  0.000000  0.000000  0.000000  0.000000  0.000000   \n",
       "2020-01-01 03:00:00  0.001912  0.001912  0.001912  0.001912  0.001912   \n",
       "\n",
       "                            6  \n",
       "open-time                      \n",
       "2019-12-31 19:00:00  0.000000  \n",
       "2019-12-31 23:00:00  0.000000  \n",
       "2020-01-01 03:00:00  0.001912  "
      ],
      "text/html": [
       "<div>\n",
       "<style scoped>\n",
       "    .dataframe tbody tr th:only-of-type {\n",
       "        vertical-align: middle;\n",
       "    }\n",
       "\n",
       "    .dataframe tbody tr th {\n",
       "        vertical-align: top;\n",
       "    }\n",
       "\n",
       "    .dataframe thead th {\n",
       "        text-align: right;\n",
       "    }\n",
       "</style>\n",
       "<table border=\"1\" class=\"dataframe\">\n",
       "  <thead>\n",
       "    <tr style=\"text-align: right;\">\n",
       "      <th></th>\n",
       "      <th>1</th>\n",
       "      <th>2</th>\n",
       "      <th>3</th>\n",
       "      <th>4</th>\n",
       "      <th>5</th>\n",
       "      <th>6</th>\n",
       "    </tr>\n",
       "    <tr>\n",
       "      <th>open-time</th>\n",
       "      <th></th>\n",
       "      <th></th>\n",
       "      <th></th>\n",
       "      <th></th>\n",
       "      <th></th>\n",
       "      <th></th>\n",
       "    </tr>\n",
       "  </thead>\n",
       "  <tbody>\n",
       "    <tr>\n",
       "      <th>2019-12-31 19:00:00</th>\n",
       "      <td>0.000000</td>\n",
       "      <td>0.000000</td>\n",
       "      <td>0.000000</td>\n",
       "      <td>0.000000</td>\n",
       "      <td>0.000000</td>\n",
       "      <td>0.000000</td>\n",
       "    </tr>\n",
       "    <tr>\n",
       "      <th>2019-12-31 23:00:00</th>\n",
       "      <td>0.000000</td>\n",
       "      <td>0.000000</td>\n",
       "      <td>0.000000</td>\n",
       "      <td>0.000000</td>\n",
       "      <td>0.000000</td>\n",
       "      <td>0.000000</td>\n",
       "    </tr>\n",
       "    <tr>\n",
       "      <th>2020-01-01 03:00:00</th>\n",
       "      <td>0.001912</td>\n",
       "      <td>0.001912</td>\n",
       "      <td>0.001912</td>\n",
       "      <td>0.001912</td>\n",
       "      <td>0.001912</td>\n",
       "      <td>0.001912</td>\n",
       "    </tr>\n",
       "  </tbody>\n",
       "</table>\n",
       "</div>"
      ]
     },
     "execution_count": 10,
     "metadata": {},
     "output_type": "execute_result"
    }
   ],
   "execution_count": 10
  },
  {
   "metadata": {
    "ExecuteTime": {
     "end_time": "2025-09-29T18:53:03.324839Z",
     "start_time": "2025-09-29T18:53:03.312458Z"
    }
   },
   "cell_type": "code",
   "source": [
    "# Calculate the annualized Sharpe of each strategy\n",
    "sr = sharpe_ratio(strats_returns, data_period)\n",
    "horizon_ratio_trained = sr.idxmax()\n",
    "print(f'The trained horizon-to-period ratio is {horizon_ratio_trained}, so the corresponding horizon is {horizon_ratio_trained*data_period} hours.')\n",
    "sr"
   ],
   "id": "e4def80c37d0ed",
   "outputs": [
    {
     "name": "stdout",
     "output_type": "stream",
     "text": [
      "The trained horizon-to-period ratio is 5, so the corresponding horizon is 20 hours.\n"
     ]
    },
    {
     "data": {
      "text/plain": [
       "1   -2.060550\n",
       "2   -0.653345\n",
       "3    0.429198\n",
       "4    0.902171\n",
       "5    1.662567\n",
       "6    0.571180\n",
       "dtype: float64"
      ]
     },
     "execution_count": 11,
     "metadata": {},
     "output_type": "execute_result"
    }
   ],
   "execution_count": 11
  },
  {
   "metadata": {},
   "cell_type": "markdown",
   "source": "# Test the strategy",
   "id": "c3c05f694fda7b96"
  },
  {
   "metadata": {
    "ExecuteTime": {
     "end_time": "2025-09-29T18:53:03.623253Z",
     "start_time": "2025-09-29T18:53:03.600239Z"
    }
   },
   "cell_type": "code",
   "source": [
    "test_filename = f'../../data/Abel/{freq}_{test_start}_{test_end}'\n",
    "\n",
    "test_returns = pd.read_csv(test_filename + '.csv', index_col=0, parse_dates=True)\n",
    "test_returns.head(3)"
   ],
   "id": "71f10a40a749fa8d",
   "outputs": [
    {
     "data": {
      "text/plain": [
       "                      BTCUSDT   ETHUSDT   ADAUSDT   BNBUSDT\n",
       "open-time                                                  \n",
       "2022-12-31 19:00:00       NaN       NaN       NaN       NaN\n",
       "2022-12-31 23:00:00  0.000410  0.000946 -0.000326 -0.004892\n",
       "2023-01-01 03:00:00  0.001353  0.000711  0.002937  0.001229"
      ],
      "text/html": [
       "<div>\n",
       "<style scoped>\n",
       "    .dataframe tbody tr th:only-of-type {\n",
       "        vertical-align: middle;\n",
       "    }\n",
       "\n",
       "    .dataframe tbody tr th {\n",
       "        vertical-align: top;\n",
       "    }\n",
       "\n",
       "    .dataframe thead th {\n",
       "        text-align: right;\n",
       "    }\n",
       "</style>\n",
       "<table border=\"1\" class=\"dataframe\">\n",
       "  <thead>\n",
       "    <tr style=\"text-align: right;\">\n",
       "      <th></th>\n",
       "      <th>BTCUSDT</th>\n",
       "      <th>ETHUSDT</th>\n",
       "      <th>ADAUSDT</th>\n",
       "      <th>BNBUSDT</th>\n",
       "    </tr>\n",
       "    <tr>\n",
       "      <th>open-time</th>\n",
       "      <th></th>\n",
       "      <th></th>\n",
       "      <th></th>\n",
       "      <th></th>\n",
       "    </tr>\n",
       "  </thead>\n",
       "  <tbody>\n",
       "    <tr>\n",
       "      <th>2022-12-31 19:00:00</th>\n",
       "      <td>NaN</td>\n",
       "      <td>NaN</td>\n",
       "      <td>NaN</td>\n",
       "      <td>NaN</td>\n",
       "    </tr>\n",
       "    <tr>\n",
       "      <th>2022-12-31 23:00:00</th>\n",
       "      <td>0.000410</td>\n",
       "      <td>0.000946</td>\n",
       "      <td>-0.000326</td>\n",
       "      <td>-0.004892</td>\n",
       "    </tr>\n",
       "    <tr>\n",
       "      <th>2023-01-01 03:00:00</th>\n",
       "      <td>0.001353</td>\n",
       "      <td>0.000711</td>\n",
       "      <td>0.002937</td>\n",
       "      <td>0.001229</td>\n",
       "    </tr>\n",
       "  </tbody>\n",
       "</table>\n",
       "</div>"
      ]
     },
     "execution_count": 12,
     "metadata": {},
     "output_type": "execute_result"
    }
   ],
   "execution_count": 12
  },
  {
   "metadata": {
    "ExecuteTime": {
     "end_time": "2025-09-29T18:53:03.811058Z",
     "start_time": "2025-09-29T18:53:03.796971Z"
    }
   },
   "cell_type": "code",
   "source": [
    "# Apply the trained strategy to the test data\n",
    "weights = rolling_avg_rank(test_returns, horizon_ratio_trained)\n",
    "# Calculate the return of the strategy over each test period\n",
    "strat_returns = strategy_returns(weights, test_returns)\n",
    "strat_returns.head(3)"
   ],
   "id": "98b55332c699ea42",
   "outputs": [
    {
     "data": {
      "text/plain": [
       "open-time\n",
       "2022-12-31 19:00:00    0.000000\n",
       "2022-12-31 23:00:00    0.000000\n",
       "2023-01-01 03:00:00   -0.000392\n",
       "dtype: float64"
      ]
     },
     "execution_count": 13,
     "metadata": {},
     "output_type": "execute_result"
    }
   ],
   "execution_count": 13
  },
  {
   "metadata": {
    "ExecuteTime": {
     "end_time": "2025-09-29T18:53:04.045484Z",
     "start_time": "2025-09-29T18:53:04.040372Z"
    }
   },
   "cell_type": "code",
   "source": [
    "sr = sharpe_ratio(strat_returns, data_period)\n",
    "print(f'The Sharpe ratio of the strategy on the test data is {sr:.3f}')"
   ],
   "id": "19a6998ea1725b8a",
   "outputs": [
    {
     "name": "stdout",
     "output_type": "stream",
     "text": [
      "The Sharpe ratio of the strategy on the test data is 0.031\n"
     ]
    }
   ],
   "execution_count": 14
  },
  {
   "metadata": {
    "ExecuteTime": {
     "end_time": "2025-09-29T18:53:04.200589Z",
     "start_time": "2025-09-29T18:53:04.194973Z"
    }
   },
   "cell_type": "code",
   "source": [
    "strat_returns_cumulative = strat_returns.cumsum()\n",
    "print(strat_returns_cumulative)"
   ],
   "id": "7bef2a6cc5e18065",
   "outputs": [
    {
     "name": "stdout",
     "output_type": "stream",
     "text": [
      "open-time\n",
      "2022-12-31 19:00:00    0.000000\n",
      "2022-12-31 23:00:00    0.000000\n",
      "2023-01-01 03:00:00   -0.000392\n",
      "2023-01-01 07:00:00   -0.000106\n",
      "2023-01-01 11:00:00    0.002150\n",
      "                         ...   \n",
      "2023-12-30 03:00:00    0.004453\n",
      "2023-12-30 07:00:00    0.001501\n",
      "2023-12-30 11:00:00    0.000529\n",
      "2023-12-30 15:00:00    0.003529\n",
      "2023-12-30 19:00:00    0.006072\n",
      "Length: 2184, dtype: float64\n"
     ]
    }
   ],
   "execution_count": 15
  },
  {
   "metadata": {
    "ExecuteTime": {
     "end_time": "2025-09-29T18:53:04.338666Z",
     "start_time": "2025-09-29T18:53:04.328135Z"
    }
   },
   "cell_type": "code",
   "source": [
    "import importlib\n",
    "import quant.metric\n",
    "importlib.reload(quant.metric)\n",
    "\n",
    "from quant.metric import max_drawdown_stats\n",
    "\n",
    "stats = max_drawdown_stats(strat_returns_cumulative)\n",
    "stats"
   ],
   "id": "38d75051123ad599",
   "outputs": [
    {
     "data": {
      "text/plain": [
       "{'value': np.float64(-inf),\n",
       " 'peak_date': Timestamp('2022-12-31 19:00:00'),\n",
       " 'trough_date': Timestamp('2023-01-01 03:00:00'),\n",
       " 'recovery_date': Timestamp('2023-01-01 11:00:00'),\n",
       " 'running_drawdown': open-time\n",
       " 2022-12-31 19:00:00         NaN\n",
       " 2022-12-31 23:00:00         NaN\n",
       " 2023-01-01 03:00:00        -inf\n",
       " 2023-01-01 07:00:00        -inf\n",
       " 2023-01-01 11:00:00    0.000000\n",
       "                          ...   \n",
       " 2023-12-30 03:00:00   -0.963326\n",
       " 2023-12-30 07:00:00   -0.987633\n",
       " 2023-12-30 11:00:00   -0.995643\n",
       " 2023-12-30 15:00:00   -0.970929\n",
       " 2023-12-30 19:00:00   -0.949986\n",
       " Length: 2184, dtype: float64}"
      ]
     },
     "execution_count": 16,
     "metadata": {},
     "output_type": "execute_result"
    }
   ],
   "execution_count": 16
  }
 ],
 "metadata": {
  "kernelspec": {
   "display_name": "Python 3",
   "language": "python",
   "name": "python3"
  },
  "language_info": {
   "codemirror_mode": {
    "name": "ipython",
    "version": 2
   },
   "file_extension": ".py",
   "mimetype": "text/x-python",
   "name": "python",
   "nbconvert_exporter": "python",
   "pygments_lexer": "ipython2",
   "version": "2.7.6"
  }
 },
 "nbformat": 4,
 "nbformat_minor": 5
}
