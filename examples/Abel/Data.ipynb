{
 "cells": [
  {
   "cell_type": "code",
   "id": "initial_id",
   "metadata": {
    "collapsed": true,
    "ExecuteTime": {
     "end_time": "2025-09-28T18:56:41.328083Z",
     "start_time": "2025-09-28T18:56:30.592190Z"
    }
   },
   "source": [
    "from quant.data import download_returns\n",
    "\n",
    "# Parameters of our strategy\n",
    "univ = ['BTCUSDT','ETHUSDT','ADAUSDT','BNBUSDT','XRPUSDT','DOTUSDT','MATICUSDT']\n",
    "data_period = 4 # in hours\n",
    "train_start = '2020-01-01'\n",
    "train_end = '2022-12-31'\n",
    "test_start = '2023-01-01'\n",
    "test_end = '2023-12-31'\n",
    "\n",
    "freq = f'{data_period}h'\n",
    "train_returns = download_returns(univ, freq, start_ts=train_start, end_ts=train_end)\n",
    "train_filename = f'../../data/Abel/{freq}_{train_start}_{train_end}'\n",
    "train_returns.to_csv(train_filename + '.csv')\n",
    "train_returns.to_pickle(train_filename + '.pkl')\n",
    "\n",
    "test_returns = download_returns(univ, freq, start_ts=test_start, end_ts=test_end)\n",
    "test_filename = f'../../data/Abel/{freq}_{test_start}_{test_end}'\n",
    "test_returns.to_csv(test_filename + '.csv')\n",
    "test_returns.to_pickle(test_filename + '.pkl')"
   ],
   "outputs": [],
   "execution_count": 3
  }
 ],
 "metadata": {
  "kernelspec": {
   "display_name": "Python 3",
   "language": "python",
   "name": "python3"
  },
  "language_info": {
   "codemirror_mode": {
    "name": "ipython",
    "version": 2
   },
   "file_extension": ".py",
   "mimetype": "text/x-python",
   "name": "python",
   "nbconvert_exporter": "python",
   "pygments_lexer": "ipython2",
   "version": "2.7.6"
  }
 },
 "nbformat": 4,
 "nbformat_minor": 5
}
