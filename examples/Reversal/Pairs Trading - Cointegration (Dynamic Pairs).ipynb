{
 "cells": [
  {
   "cell_type": "markdown",
   "id": "b39cfe0d",
   "metadata": {},
   "source": [
    "### Pairs Trading - Cointegration\n",
    "\n",
    "**Motivation:**\n",
    "- Security A - (Something Correlated to it) is more mean-reverting. Similar securties should trade similarily. Hence, any discrepancies between the correlated pairs should converge\n",
    "- When there is a discrepancy, we form a long-short spread trade and bet on the discrepancy converging\n",
    "- Pairs trading is one of the most popular statistical arbitrage strategies in traditional markets. We want to test the performance of this strategy in the cryptocurrency market, as it is still relatively new and should be fertile grounds for finding market inefficiencies\n",
    "- We will use cointegration to find similar pairs as it is a robust statistical approach for identifying long-term equilibrium relationships between assets"
   ]
  },
  {
   "cell_type": "code",
   "id": "1be38501",
   "metadata": {
    "ExecuteTime": {
     "end_time": "2025-06-24T18:50:54.319213Z",
     "start_time": "2025-06-24T18:50:53.130448Z"
    }
   },
   "source": [
    "import pandas as pd\n",
    "import numpy as np\n",
    "import matplotlib.pyplot as plt\n",
    "\n",
    "import statsmodels.api as sm\n",
    "from statsmodels.tsa.stattools import adfuller\n",
    "\n",
    "import warnings\n",
    "warnings.filterwarnings(\"ignore\", category=FutureWarning)\n",
    "\n",
    "from joblib import Parallel, delayed\n",
    "from itertools import combinations"
   ],
   "outputs": [],
   "execution_count": 1
  },
  {
   "cell_type": "markdown",
   "id": "53d6ca0e",
   "metadata": {},
   "source": [
    "### Data \n",
    "We selected the top 1,000 currencies sorted by volume from CoinGecko. Then, we filtered out coins with fewer than 90% of daily price data points between 2018 and 2024."
   ]
  },
  {
   "cell_type": "code",
   "id": "100dfd06",
   "metadata": {
    "ExecuteTime": {
     "end_time": "2025-06-24T18:50:54.416091Z",
     "start_time": "2025-06-24T18:50:54.323684Z"
    }
   },
   "source": "from_pickle = pd.read_pickle('../../data/CoinGecko_px_vol_1D.pkl')",
   "outputs": [],
   "execution_count": 2
  },
  {
   "cell_type": "code",
   "id": "3bb9ab7b",
   "metadata": {
    "ExecuteTime": {
     "end_time": "2025-06-24T18:50:54.562496Z",
     "start_time": "2025-06-24T18:50:54.524628Z"
    }
   },
   "source": [
    "price_columns = [col for col in from_pickle.columns if 'price' in col]\n",
    "crypto_px = from_pickle[price_columns]\n",
    "crypto_px.columns = crypto_px.columns.droplevel(1)"
   ],
   "outputs": [],
   "execution_count": 3
  },
  {
   "cell_type": "code",
   "id": "431017e0",
   "metadata": {
    "ExecuteTime": {
     "end_time": "2025-06-24T18:50:54.623687Z",
     "start_time": "2025-06-24T18:50:54.589180Z"
    }
   },
   "source": [
    "crypto_px = crypto_px.loc['2018-01-01':]\n",
    "crypto_px = crypto_px.drop(columns=['TUSD', 'DAI', 'WBTC', 'WETH', 'USDC', 'BSV'])"
   ],
   "outputs": [],
   "execution_count": 4
  },
  {
   "cell_type": "code",
   "id": "aecc87c3",
   "metadata": {
    "ExecuteTime": {
     "end_time": "2025-06-24T18:50:54.724530Z",
     "start_time": "2025-06-24T18:50:54.650200Z"
    }
   },
   "source": [
    "# Calculate the total number of data points\n",
    "total_data_points = len(crypto_px)\n",
    "\n",
    "# Calculate the number of non-NA/null entries for each coin\n",
    "non_null_counts = crypto_px.notnull().sum()\n",
    "\n",
    "# Calculate the threshold for 90% of the data points\n",
    "threshold = 0.90 * total_data_points\n",
    "\n",
    "# Filter out columns with fewer than 90% of data points\n",
    "crypto_px = crypto_px.loc[:, non_null_counts >= threshold]\n",
    "\n",
    "crypto_px"
   ],
   "outputs": [
    {
     "data": {
      "text/plain": [
       "                     BTC       XRP         BNB      DOGE       ADA       TRX  \\\n",
       "Date                                                                           \n",
       "2018-01-01  14093.606831  2.310120    8.828099  0.009091  0.747140  0.051654   \n",
       "2018-01-02  15321.932852  2.455290    9.090393  0.009335  0.807430  0.080893   \n",
       "2018-01-03  15583.885538  3.125710    9.886323  0.009592  1.075401  0.098107   \n",
       "2018-01-04  15976.365194  3.220050    9.675758  0.010098  1.179347  0.218139   \n",
       "2018-01-05  18336.922980  2.931380   16.488523  0.013841  1.077821  0.231673   \n",
       "...                  ...       ...         ...       ...       ...       ...   \n",
       "2024-08-12  58804.234500  0.552884  503.472306  0.100570  0.328140  0.127716   \n",
       "2024-08-13  59350.074333  0.568612  518.752217  0.107647  0.338874  0.126661   \n",
       "2024-08-14  60601.223178  0.576440  523.553455  0.106469  0.340317  0.128873   \n",
       "2024-08-15  58739.193822  0.568488  523.842262  0.102529  0.335251  0.130504   \n",
       "2024-08-16  57624.116929  0.561137  519.989791  0.100275  0.325393  0.130136   \n",
       "\n",
       "                   LTC       LINK          BCH        EOS  ...       UTK  \\\n",
       "Date                                                       ...             \n",
       "2018-01-01  230.462120   0.751033  2426.970077   7.672278  ...  0.467207   \n",
       "2018-01-02  255.048185   0.689388  2627.026940   9.504036  ...  0.647065   \n",
       "2018-01-03  248.042194   0.704623  2630.511811  10.090184  ...  0.896774   \n",
       "2018-01-04  244.834372   1.036826  2458.894372  11.713284  ...  0.874131   \n",
       "2018-01-05  254.138525   0.996575  2551.321685   9.673192  ...  0.762206   \n",
       "...                ...        ...          ...        ...  ...       ...   \n",
       "2024-08-12   59.691360  10.012537   330.440521   0.467477  ...  0.038229   \n",
       "2024-08-13   61.414267  10.561648   354.155288   0.500104  ...  0.039951   \n",
       "2024-08-14   63.411783  10.577495   352.234629   0.507208  ...  0.039211   \n",
       "2024-08-15   63.906408  10.396984   338.005714   0.506509  ...  0.037562   \n",
       "2024-08-16   65.236601  10.171003   334.436579   0.490075  ...  0.034784   \n",
       "\n",
       "                 PIVX       SYS       REQ       FUN       VIB      NULS  \\\n",
       "Date                                                                      \n",
       "2018-01-01  10.689500  0.783623  0.867352  0.086325  0.455327  2.267259   \n",
       "2018-01-02  11.555000  0.817777  0.809224  0.088933  0.464458  2.510494   \n",
       "2018-01-03  10.923600  0.798803  0.795348  0.106564  0.584170  3.696732   \n",
       "2018-01-04  10.581200  0.784280  0.826834  0.178514  0.698240  4.788923   \n",
       "2018-01-05   9.951170  0.748309  0.761799  0.161191  0.585847  5.659994   \n",
       "...               ...       ...       ...       ...       ...       ...   \n",
       "2024-08-12   0.193892  0.073564  0.090949  0.003115  0.057157  0.245821   \n",
       "2024-08-13   0.204125  0.078151  0.094758  0.003233  0.058272  0.255234   \n",
       "2024-08-14   0.203198  0.076065  0.094747  0.003273  0.058356  0.251570   \n",
       "2024-08-15   0.198953  0.073143  0.093194  0.003204  0.057466  0.247779   \n",
       "2024-08-16   0.179495  0.069979  0.090133  0.003019  0.056720  0.226651   \n",
       "\n",
       "                IDEX       MDT      BORG  \n",
       "Date                                      \n",
       "2018-01-01       NaN       NaN       NaN  \n",
       "2018-01-02       NaN       NaN       NaN  \n",
       "2018-01-03       NaN       NaN       NaN  \n",
       "2018-01-04       NaN       NaN       NaN  \n",
       "2018-01-05       NaN       NaN       NaN  \n",
       "...              ...       ...       ...  \n",
       "2024-08-12  0.032078  0.036722  0.170774  \n",
       "2024-08-13  0.033471  0.038736  0.168182  \n",
       "2024-08-14  0.033162  0.038288  0.171173  \n",
       "2024-08-15  0.031942  0.038439  0.165207  \n",
       "2024-08-16  0.029790  0.036554  0.159102  \n",
       "\n",
       "[2568 rows x 86 columns]"
      ],
      "text/html": [
       "<div>\n",
       "<style scoped>\n",
       "    .dataframe tbody tr th:only-of-type {\n",
       "        vertical-align: middle;\n",
       "    }\n",
       "\n",
       "    .dataframe tbody tr th {\n",
       "        vertical-align: top;\n",
       "    }\n",
       "\n",
       "    .dataframe thead th {\n",
       "        text-align: right;\n",
       "    }\n",
       "</style>\n",
       "<table border=\"1\" class=\"dataframe\">\n",
       "  <thead>\n",
       "    <tr style=\"text-align: right;\">\n",
       "      <th></th>\n",
       "      <th>BTC</th>\n",
       "      <th>XRP</th>\n",
       "      <th>BNB</th>\n",
       "      <th>DOGE</th>\n",
       "      <th>ADA</th>\n",
       "      <th>TRX</th>\n",
       "      <th>LTC</th>\n",
       "      <th>LINK</th>\n",
       "      <th>BCH</th>\n",
       "      <th>EOS</th>\n",
       "      <th>...</th>\n",
       "      <th>UTK</th>\n",
       "      <th>PIVX</th>\n",
       "      <th>SYS</th>\n",
       "      <th>REQ</th>\n",
       "      <th>FUN</th>\n",
       "      <th>VIB</th>\n",
       "      <th>NULS</th>\n",
       "      <th>IDEX</th>\n",
       "      <th>MDT</th>\n",
       "      <th>BORG</th>\n",
       "    </tr>\n",
       "    <tr>\n",
       "      <th>Date</th>\n",
       "      <th></th>\n",
       "      <th></th>\n",
       "      <th></th>\n",
       "      <th></th>\n",
       "      <th></th>\n",
       "      <th></th>\n",
       "      <th></th>\n",
       "      <th></th>\n",
       "      <th></th>\n",
       "      <th></th>\n",
       "      <th></th>\n",
       "      <th></th>\n",
       "      <th></th>\n",
       "      <th></th>\n",
       "      <th></th>\n",
       "      <th></th>\n",
       "      <th></th>\n",
       "      <th></th>\n",
       "      <th></th>\n",
       "      <th></th>\n",
       "      <th></th>\n",
       "    </tr>\n",
       "  </thead>\n",
       "  <tbody>\n",
       "    <tr>\n",
       "      <th>2018-01-01</th>\n",
       "      <td>14093.606831</td>\n",
       "      <td>2.310120</td>\n",
       "      <td>8.828099</td>\n",
       "      <td>0.009091</td>\n",
       "      <td>0.747140</td>\n",
       "      <td>0.051654</td>\n",
       "      <td>230.462120</td>\n",
       "      <td>0.751033</td>\n",
       "      <td>2426.970077</td>\n",
       "      <td>7.672278</td>\n",
       "      <td>...</td>\n",
       "      <td>0.467207</td>\n",
       "      <td>10.689500</td>\n",
       "      <td>0.783623</td>\n",
       "      <td>0.867352</td>\n",
       "      <td>0.086325</td>\n",
       "      <td>0.455327</td>\n",
       "      <td>2.267259</td>\n",
       "      <td>NaN</td>\n",
       "      <td>NaN</td>\n",
       "      <td>NaN</td>\n",
       "    </tr>\n",
       "    <tr>\n",
       "      <th>2018-01-02</th>\n",
       "      <td>15321.932852</td>\n",
       "      <td>2.455290</td>\n",
       "      <td>9.090393</td>\n",
       "      <td>0.009335</td>\n",
       "      <td>0.807430</td>\n",
       "      <td>0.080893</td>\n",
       "      <td>255.048185</td>\n",
       "      <td>0.689388</td>\n",
       "      <td>2627.026940</td>\n",
       "      <td>9.504036</td>\n",
       "      <td>...</td>\n",
       "      <td>0.647065</td>\n",
       "      <td>11.555000</td>\n",
       "      <td>0.817777</td>\n",
       "      <td>0.809224</td>\n",
       "      <td>0.088933</td>\n",
       "      <td>0.464458</td>\n",
       "      <td>2.510494</td>\n",
       "      <td>NaN</td>\n",
       "      <td>NaN</td>\n",
       "      <td>NaN</td>\n",
       "    </tr>\n",
       "    <tr>\n",
       "      <th>2018-01-03</th>\n",
       "      <td>15583.885538</td>\n",
       "      <td>3.125710</td>\n",
       "      <td>9.886323</td>\n",
       "      <td>0.009592</td>\n",
       "      <td>1.075401</td>\n",
       "      <td>0.098107</td>\n",
       "      <td>248.042194</td>\n",
       "      <td>0.704623</td>\n",
       "      <td>2630.511811</td>\n",
       "      <td>10.090184</td>\n",
       "      <td>...</td>\n",
       "      <td>0.896774</td>\n",
       "      <td>10.923600</td>\n",
       "      <td>0.798803</td>\n",
       "      <td>0.795348</td>\n",
       "      <td>0.106564</td>\n",
       "      <td>0.584170</td>\n",
       "      <td>3.696732</td>\n",
       "      <td>NaN</td>\n",
       "      <td>NaN</td>\n",
       "      <td>NaN</td>\n",
       "    </tr>\n",
       "    <tr>\n",
       "      <th>2018-01-04</th>\n",
       "      <td>15976.365194</td>\n",
       "      <td>3.220050</td>\n",
       "      <td>9.675758</td>\n",
       "      <td>0.010098</td>\n",
       "      <td>1.179347</td>\n",
       "      <td>0.218139</td>\n",
       "      <td>244.834372</td>\n",
       "      <td>1.036826</td>\n",
       "      <td>2458.894372</td>\n",
       "      <td>11.713284</td>\n",
       "      <td>...</td>\n",
       "      <td>0.874131</td>\n",
       "      <td>10.581200</td>\n",
       "      <td>0.784280</td>\n",
       "      <td>0.826834</td>\n",
       "      <td>0.178514</td>\n",
       "      <td>0.698240</td>\n",
       "      <td>4.788923</td>\n",
       "      <td>NaN</td>\n",
       "      <td>NaN</td>\n",
       "      <td>NaN</td>\n",
       "    </tr>\n",
       "    <tr>\n",
       "      <th>2018-01-05</th>\n",
       "      <td>18336.922980</td>\n",
       "      <td>2.931380</td>\n",
       "      <td>16.488523</td>\n",
       "      <td>0.013841</td>\n",
       "      <td>1.077821</td>\n",
       "      <td>0.231673</td>\n",
       "      <td>254.138525</td>\n",
       "      <td>0.996575</td>\n",
       "      <td>2551.321685</td>\n",
       "      <td>9.673192</td>\n",
       "      <td>...</td>\n",
       "      <td>0.762206</td>\n",
       "      <td>9.951170</td>\n",
       "      <td>0.748309</td>\n",
       "      <td>0.761799</td>\n",
       "      <td>0.161191</td>\n",
       "      <td>0.585847</td>\n",
       "      <td>5.659994</td>\n",
       "      <td>NaN</td>\n",
       "      <td>NaN</td>\n",
       "      <td>NaN</td>\n",
       "    </tr>\n",
       "    <tr>\n",
       "      <th>...</th>\n",
       "      <td>...</td>\n",
       "      <td>...</td>\n",
       "      <td>...</td>\n",
       "      <td>...</td>\n",
       "      <td>...</td>\n",
       "      <td>...</td>\n",
       "      <td>...</td>\n",
       "      <td>...</td>\n",
       "      <td>...</td>\n",
       "      <td>...</td>\n",
       "      <td>...</td>\n",
       "      <td>...</td>\n",
       "      <td>...</td>\n",
       "      <td>...</td>\n",
       "      <td>...</td>\n",
       "      <td>...</td>\n",
       "      <td>...</td>\n",
       "      <td>...</td>\n",
       "      <td>...</td>\n",
       "      <td>...</td>\n",
       "      <td>...</td>\n",
       "    </tr>\n",
       "    <tr>\n",
       "      <th>2024-08-12</th>\n",
       "      <td>58804.234500</td>\n",
       "      <td>0.552884</td>\n",
       "      <td>503.472306</td>\n",
       "      <td>0.100570</td>\n",
       "      <td>0.328140</td>\n",
       "      <td>0.127716</td>\n",
       "      <td>59.691360</td>\n",
       "      <td>10.012537</td>\n",
       "      <td>330.440521</td>\n",
       "      <td>0.467477</td>\n",
       "      <td>...</td>\n",
       "      <td>0.038229</td>\n",
       "      <td>0.193892</td>\n",
       "      <td>0.073564</td>\n",
       "      <td>0.090949</td>\n",
       "      <td>0.003115</td>\n",
       "      <td>0.057157</td>\n",
       "      <td>0.245821</td>\n",
       "      <td>0.032078</td>\n",
       "      <td>0.036722</td>\n",
       "      <td>0.170774</td>\n",
       "    </tr>\n",
       "    <tr>\n",
       "      <th>2024-08-13</th>\n",
       "      <td>59350.074333</td>\n",
       "      <td>0.568612</td>\n",
       "      <td>518.752217</td>\n",
       "      <td>0.107647</td>\n",
       "      <td>0.338874</td>\n",
       "      <td>0.126661</td>\n",
       "      <td>61.414267</td>\n",
       "      <td>10.561648</td>\n",
       "      <td>354.155288</td>\n",
       "      <td>0.500104</td>\n",
       "      <td>...</td>\n",
       "      <td>0.039951</td>\n",
       "      <td>0.204125</td>\n",
       "      <td>0.078151</td>\n",
       "      <td>0.094758</td>\n",
       "      <td>0.003233</td>\n",
       "      <td>0.058272</td>\n",
       "      <td>0.255234</td>\n",
       "      <td>0.033471</td>\n",
       "      <td>0.038736</td>\n",
       "      <td>0.168182</td>\n",
       "    </tr>\n",
       "    <tr>\n",
       "      <th>2024-08-14</th>\n",
       "      <td>60601.223178</td>\n",
       "      <td>0.576440</td>\n",
       "      <td>523.553455</td>\n",
       "      <td>0.106469</td>\n",
       "      <td>0.340317</td>\n",
       "      <td>0.128873</td>\n",
       "      <td>63.411783</td>\n",
       "      <td>10.577495</td>\n",
       "      <td>352.234629</td>\n",
       "      <td>0.507208</td>\n",
       "      <td>...</td>\n",
       "      <td>0.039211</td>\n",
       "      <td>0.203198</td>\n",
       "      <td>0.076065</td>\n",
       "      <td>0.094747</td>\n",
       "      <td>0.003273</td>\n",
       "      <td>0.058356</td>\n",
       "      <td>0.251570</td>\n",
       "      <td>0.033162</td>\n",
       "      <td>0.038288</td>\n",
       "      <td>0.171173</td>\n",
       "    </tr>\n",
       "    <tr>\n",
       "      <th>2024-08-15</th>\n",
       "      <td>58739.193822</td>\n",
       "      <td>0.568488</td>\n",
       "      <td>523.842262</td>\n",
       "      <td>0.102529</td>\n",
       "      <td>0.335251</td>\n",
       "      <td>0.130504</td>\n",
       "      <td>63.906408</td>\n",
       "      <td>10.396984</td>\n",
       "      <td>338.005714</td>\n",
       "      <td>0.506509</td>\n",
       "      <td>...</td>\n",
       "      <td>0.037562</td>\n",
       "      <td>0.198953</td>\n",
       "      <td>0.073143</td>\n",
       "      <td>0.093194</td>\n",
       "      <td>0.003204</td>\n",
       "      <td>0.057466</td>\n",
       "      <td>0.247779</td>\n",
       "      <td>0.031942</td>\n",
       "      <td>0.038439</td>\n",
       "      <td>0.165207</td>\n",
       "    </tr>\n",
       "    <tr>\n",
       "      <th>2024-08-16</th>\n",
       "      <td>57624.116929</td>\n",
       "      <td>0.561137</td>\n",
       "      <td>519.989791</td>\n",
       "      <td>0.100275</td>\n",
       "      <td>0.325393</td>\n",
       "      <td>0.130136</td>\n",
       "      <td>65.236601</td>\n",
       "      <td>10.171003</td>\n",
       "      <td>334.436579</td>\n",
       "      <td>0.490075</td>\n",
       "      <td>...</td>\n",
       "      <td>0.034784</td>\n",
       "      <td>0.179495</td>\n",
       "      <td>0.069979</td>\n",
       "      <td>0.090133</td>\n",
       "      <td>0.003019</td>\n",
       "      <td>0.056720</td>\n",
       "      <td>0.226651</td>\n",
       "      <td>0.029790</td>\n",
       "      <td>0.036554</td>\n",
       "      <td>0.159102</td>\n",
       "    </tr>\n",
       "  </tbody>\n",
       "</table>\n",
       "<p>2568 rows × 86 columns</p>\n",
       "</div>"
      ]
     },
     "execution_count": 5,
     "metadata": {},
     "output_type": "execute_result"
    }
   ],
   "execution_count": 5
  },
  {
   "cell_type": "markdown",
   "id": "ea0fa30e",
   "metadata": {},
   "source": [
    "We have 86 coins and will select pairs from among them."
   ]
  },
  {
   "cell_type": "code",
   "id": "acc37f51",
   "metadata": {
    "ExecuteTime": {
     "end_time": "2025-06-24T18:50:54.801042Z",
     "start_time": "2025-06-24T18:50:54.789775Z"
    }
   },
   "source": [
    "coins_ret = crypto_px / crypto_px.shift() - 1"
   ],
   "outputs": [],
   "execution_count": 6
  },
  {
   "cell_type": "code",
   "id": "1c3e4398",
   "metadata": {
    "ExecuteTime": {
     "end_time": "2025-06-24T18:50:54.856486Z",
     "start_time": "2025-06-24T18:50:54.853400Z"
    }
   },
   "source": [
    "def compute_turnover(port):\n",
    "    to = (port.fillna(0)-port.shift().fillna(0)).abs().sum(1)   \n",
    "    return to"
   ],
   "outputs": [],
   "execution_count": 7
  },
  {
   "cell_type": "code",
   "id": "85e8ae6a",
   "metadata": {
    "ExecuteTime": {
     "end_time": "2025-06-24T18:50:54.905136Z",
     "start_time": "2025-06-24T18:50:54.902527Z"
    }
   },
   "source": [
    "def compute_sharpe_ratio(rets):\n",
    "    mean_rets = rets.mean()*252\n",
    "    vol = rets.std()*np.sqrt(252)\n",
    "    sharpe_ratio = mean_rets / vol\n",
    "    return sharpe_ratio"
   ],
   "outputs": [],
   "execution_count": 8
  },
  {
   "cell_type": "code",
   "id": "b562feec",
   "metadata": {
    "ExecuteTime": {
     "end_time": "2025-06-24T18:50:54.983489Z",
     "start_time": "2025-06-24T18:50:54.980331Z"
    }
   },
   "source": [
    "def compute_stats(rets):\n",
    "    stats={}\n",
    "    stats['avg'] = rets.mean()*252\n",
    "    stats['vol'] = rets.std()*np.sqrt(252)\n",
    "    stats['sharpe'] = stats['avg']/stats['vol']\n",
    "    stats['hit_rate'] = rets[rets>0].count() / rets.count()\n",
    "    stats = pd.DataFrame(stats)\n",
    "    return stats"
   ],
   "outputs": [],
   "execution_count": 9
  },
  {
   "cell_type": "code",
   "id": "c6bc0ace",
   "metadata": {
    "ExecuteTime": {
     "end_time": "2025-06-24T18:50:55.097850Z",
     "start_time": "2025-06-24T18:50:55.093707Z"
    }
   },
   "source": [
    "# def drawdown(px):\n",
    "#     return (px / (px.expanding(min_periods=1).max()) - 1)\n",
    "def drawdown(returns):\n",
    "    \"\"\"\n",
    "    Calculate the drawdown series from the return series.\n",
    "    \n",
    "    Parameters:\n",
    "    - returns: Series of returns (e.g., daily returns) for the strategy.\n",
    "    \n",
    "    Returns:\n",
    "    - drawdown: Series of drawdowns over time.\n",
    "    \"\"\"\n",
    "    # Calculate cumulative returns\n",
    "    cumulative = (1 + returns).cumprod()\n",
    "\n",
    "    # Calculate the running maximum\n",
    "    running_max = cumulative.cummax()\n",
    "\n",
    "    # Calculate drawdown\n",
    "    drawdown = (cumulative - running_max) / running_max\n",
    "\n",
    "    return drawdown"
   ],
   "outputs": [],
   "execution_count": 10
  },
  {
   "cell_type": "code",
   "id": "91b5073d",
   "metadata": {
    "ExecuteTime": {
     "end_time": "2025-06-24T18:50:55.143605Z",
     "start_time": "2025-06-24T18:50:55.138423Z"
    }
   },
   "source": [
    "def duration(px):\n",
    "    peak = px.expanding(min_periods=1).max()\n",
    "    res = pd.DataFrame(index=px.index,columns=px.columns)\n",
    "    for col in px.columns:\n",
    "        for dt in px.index:\n",
    "            if px.loc[dt,col] >= peak.loc[dt,col]:\n",
    "                 res.loc[dt,col] = 0\n",
    "            else: \n",
    "                res.loc[dt,col] = res.loc[:dt,col].iloc[-2] + 1\n",
    "    return res"
   ],
   "outputs": [],
   "execution_count": 11
  },
  {
   "cell_type": "code",
   "id": "5a027c76",
   "metadata": {
    "ExecuteTime": {
     "end_time": "2025-06-24T18:50:55.194963Z",
     "start_time": "2025-06-24T18:50:55.190766Z"
    }
   },
   "source": [
    "def final_results(avg_return, volatility, sharpe, hit_rate, max_drawdown, max_duration, holding_period, IR):\n",
    "    stats = {}\n",
    "    stats['Return (Ann.)'] = f\"{(avg_return * 100):.2f}%\"  \n",
    "    stats['Volatility (Ann.)'] = f\"{(volatility * 100):.2f}%\"  \n",
    "    stats['Sharpe Ratio'] = f\"{sharpe:.2f}\"  \n",
    "    stats['Hit Rate'] = f\"{(hit_rate * 100):.2f}%\"  \n",
    "    stats['Max Drawdown'] = f\"{(max_drawdown):.2f}%\"  \n",
    "    stats['Max Duration'] = f\"{max_duration:.2f} days\"  \n",
    "    stats['Holding Period'] = f\"{holding_period:.2f} days\"  \n",
    "    stats['Information Ratio'] = f\"{IR:.2f}\" \n",
    "\n",
    "    stats_df = pd.DataFrame(stats, index=['Cointegration']).T  \n",
    "    return stats_df"
   ],
   "outputs": [],
   "execution_count": 12
  },
  {
   "cell_type": "markdown",
   "id": "01b6b102",
   "metadata": {},
   "source": [
    "### Pairs Selection\n",
    "\n",
    "Pairs are selected and updated every half year, making the process more practical for real-time implementation. Here’s how it works:\n",
    "\n",
    "- **Rolling OLS Regression**: Every six months, perform Ordinary Least Squares (OLS) regression on the log prices of two securities over the past year to obtain the residuals:\n",
    "  \n",
    "  $$\n",
    "  \\log(p_{i,t}) = \\alpha + \\beta \\log(p_{j,t}) + \\epsilon_t\n",
    "  $$\n",
    "  \n",
    "- **Stationarity Test**: Apply the Augmented Dickey-Fuller (ADF) test to the residuals to check for stationarity. A p-value < 0.05 indicates that the residuals are stationary.\n",
    "\n",
    "- **Selection Criteria**: For each coin, select the pair with the most negative test statistic from the ADF test, ensuring all selected pairs have p-values less than 0.05."
   ]
  },
  {
   "cell_type": "code",
   "id": "7618b35b",
   "metadata": {
    "ExecuteTime": {
     "end_time": "2025-06-24T18:50:55.280267Z",
     "start_time": "2025-06-24T18:50:55.276453Z"
    }
   },
   "source": [
    "def adf_for_pair(symbol_i, symbol_j, crypto_px):\n",
    "    \"\"\"\n",
    "    Perform the ADF test on the residuals of the OLS regression between two assets.\n",
    "\n",
    "    Parameters:\n",
    "    symbol_i (str): The first asset's symbol.\n",
    "    symbol_j (str): The second asset's symbol.\n",
    "    in_sample_px (DataFrame): The DataFrame containing in-sample price data for the assets.\n",
    "\n",
    "    Returns:\n",
    "    tuple: A tuple containing the pair (symbol_i, symbol_j) and a tuple of (p_value, test_statistic).\n",
    "    \"\"\"\n",
    "    # Convert raw price to log price\n",
    "    crypto_log_px = np.log(crypto_px)\n",
    "    \n",
    "    # Handle missing data\n",
    "    X = crypto_log_px[symbol_i].fillna(0).values\n",
    "    Y = crypto_log_px[symbol_j].fillna(0).values\n",
    "\n",
    "    # OLS regression\n",
    "    model = sm.OLS(Y, sm.add_constant(X)).fit()\n",
    "    alpha = model.params[0]\n",
    "    beta = model.params[1]\n",
    "    residuals = Y - beta * X - alpha\n",
    "\n",
    "    # ADF test on residuals\n",
    "    adf_result = adfuller(residuals)\n",
    "    p_value = adf_result[1]\n",
    "    test_statistic = adf_result[0]\n",
    "    \n",
    "    return (symbol_i, symbol_j), (p_value, test_statistic)"
   ],
   "outputs": [],
   "execution_count": 13
  },
  {
   "cell_type": "code",
   "id": "ee93486b",
   "metadata": {
    "ExecuteTime": {
     "end_time": "2025-06-24T18:50:55.365581Z",
     "start_time": "2025-06-24T18:50:55.358255Z"
    }
   },
   "source": [
    "def select_pairs(crypto_px, significance_level=0.05, top_n=1, n_jobs=-1):\n",
    "    \"\"\"\n",
    "    Compute ADF test results for all pairs, select the top `n` cointegrated pairs for each coin,\n",
    "    and display the results along with the update date.\n",
    "    \n",
    "    Parameters:\n",
    "    crypto_px (DataFrame): DataFrame containing price data of assets.\n",
    "    significance_level (float): The significance level threshold for p-values to select cointegrated pairs.\n",
    "    top_n (int): The number of top pairs to select for each coin.\n",
    "    n_jobs (int): Number of parallel jobs to run.\n",
    "\n",
    "    Returns:\n",
    "    list: A sorted list of unique cointegrated pairs.\n",
    "    \"\"\"\n",
    "    \n",
    "    # Get all combinations of pairs\n",
    "    symbols = crypto_px.columns.tolist()\n",
    "    pairs = list(combinations(symbols, 2))\n",
    "\n",
    "    # Parallel computation of ADF tests for all pairs\n",
    "    adf_results = Parallel(n_jobs=n_jobs)(\n",
    "        delayed(adf_for_pair)(symbol_i, symbol_j, crypto_px) for symbol_i, symbol_j in pairs\n",
    "    )\n",
    "\n",
    "    # Create a DataFrame with ADF results\n",
    "    pairs, results = zip(*adf_results)\n",
    "    adf_df = pd.DataFrame(results, columns=['p_value', 'test_statistic'], index=pairs)\n",
    "    \n",
    "    # Filter pairs with p-values less than the significance level\n",
    "    filtered_df = adf_df[adf_df['p_value'] < significance_level]\n",
    "    \n",
    "    # Initialize a set to store unique pairs\n",
    "    final_pairs_set = set()\n",
    "\n",
    "    # Initialize a dictionary to store top pairs for each coin\n",
    "    top_pairs_per_coin = {}\n",
    "\n",
    "    # Iterate over all unique coins in the filtered pairs\n",
    "    all_coins = set(sum([list(pair) for pair in filtered_df.index], []))\n",
    "    for coin in all_coins:\n",
    "        # Filter pairs where the coin is involved\n",
    "        coin_pairs = filtered_df.loc[[(coin in pair) for pair in filtered_df.index]]\n",
    "        \n",
    "        # Sort the pairs by the ADF test statistic (smaller test statistic is better)\n",
    "        sorted_pairs = coin_pairs.sort_values(by='test_statistic')\n",
    "        \n",
    "        # Select the top `n` pairs for this coin\n",
    "        top_pairs = sorted_pairs.head(top_n)\n",
    "        \n",
    "        # Store the result in the dictionary\n",
    "        top_pairs_per_coin[coin] = top_pairs\n",
    "        \n",
    "        # Add the selected pairs to the final set\n",
    "        final_pairs_set.update(top_pairs.index.tolist())\n",
    "\n",
    "    # Convert the set to a sorted list\n",
    "    final_pairs = sorted(final_pairs_set)\n",
    "    \n",
    "    # Determine the update date as the end date of crypto_px + 1 day\n",
    "    update_date = crypto_px.index[-1] + pd.Timedelta(days=1)\n",
    "    print(f\"Pairs Updated date: {update_date.strftime('%Y-%m-%d')}\")\n",
    "    \n",
    "    # Display the top cointegrated pairs for each coin\n",
    "    sorted_coins = sorted(top_pairs_per_coin.keys())\n",
    "    for coin in sorted_coins:\n",
    "        df = top_pairs_per_coin[coin]\n",
    "        top_coins = [pair[1] if pair[0] == coin else pair[0] for pair in df.index]\n",
    "    \n",
    "    # Print the final pairs and the count\n",
    "    print(f\"Final pairs to be traded: {final_pairs}\")\n",
    "    print(f\"Number of pairs to be traded: {len(final_pairs)}\")\n",
    "    \n",
    "    return final_pairs"
   ],
   "outputs": [],
   "execution_count": 14
  },
  {
   "cell_type": "markdown",
   "id": "d93484b7",
   "metadata": {},
   "source": [
    "### Trading Strategy\n",
    "\n",
    "#### 1. Signal Generation\n",
    "\n",
    "- **Residual Calculation:**\n",
    "\n",
    "  $$\n",
    "  \\epsilon_t = \\log(p_{i,t}) - (\\beta_t \\log(p_{j,t}) + \\alpha_t)\n",
    "  $$\n",
    "\n",
    "  where:\n",
    "  - $\\log(p_{i,t})$ and $\\log(p_{j,t})$ are the log prices of coins $i$ and $j$ at time $t$.\n",
    "  - **$\\beta_t$** is calculated as:\n",
    "\n",
    "   $$\n",
    "   \\beta_t = \\text{Corr}_{t} \\times \\frac{\\text{Vol}_{j,t}}{\\text{Vol}_{i,t}}\n",
    "   $$\n",
    "\n",
    "\n",
    "    with:\n",
    "    - **$\\text{Corr}_{t}$** is the 90-day rolling correlation between $\\log(p_{i,t})$ and $\\log(p_{j,t})$.\n",
    "    - **$\\text{Vol}_{i,t}$** and **$\\text{Vol}_{j,t}$** are the 90-day rolling volatilities of $\\log(p_{i,t})$ and $\\log(p_{j,t})$, respectively.\n",
    "  - **$\\alpha_t$** is calculated as:\n",
    "\n",
    "  $$\n",
    "  \\alpha_t = \\mu_{\\log(p_{j,t})} - \\beta_t \\cdot \\mu_{\\log(p_{i,t})}\n",
    "  $$\n",
    "  \n",
    "  where:\n",
    "  - $\\mu_{\\log(p_{j,t},90)}$ is the 90-day rolling mean of $\\log(p_{j,t})$.\n",
    "  - $\\mu_{\\log(p_{i,t},90)}$ is the 90-day rolling mean of $\\log(p_{i,t})$.\n",
    "\n",
    "  \n",
    "- **Z-Score Calculation:**\n",
    "\n",
    "  $$\n",
    "  z_t = \\frac{\\epsilon_t - \\mu_t}{\\sigma_t}\n",
    "  $$\n",
    "\n",
    "  where:\n",
    "  - $\\mu_t$ is the 90-day rolling mean of the spread.\n",
    "  - $\\sigma_t$ is the 90-day rolling standard deviation of the spread.\n",
    "\n",
    "#### 2. Portfolio Construction\n",
    "\n",
    "- **Entry Signals:**\n",
    "  - **Short** coin $i$ and **long** $\\beta_t$ units of coin $j$ if $z_t > 1$.\n",
    "  - **Long** coin $i$ and **short** $\\beta_t$ units of coin $j$ if $z_t < -1$.\n",
    "\n",
    "- **Exit Signals:**\n",
    "  - Close the position when $z_t$ moves to any of the following thresholds:\n",
    "\n",
    "    $$\n",
    "    z_t \\geq -\\text{threshold} \\quad \\text{or} \\quad z_t \\leq \\text{threshold}\n",
    "    $$\n",
    "\n",
    "    where threshold is one of the values: 0.1, 0.2, 0.5, or 0.7."
   ]
  },
  {
   "cell_type": "code",
   "id": "76db0096",
   "metadata": {
    "ExecuteTime": {
     "end_time": "2025-06-24T18:50:55.453027Z",
     "start_time": "2025-06-24T18:50:55.444899Z"
    }
   },
   "source": [
    "def gen_signals(px, pairs, window=90):\n",
    "    signal_df = {}\n",
    "    for pair in pairs:\n",
    "        asset_i, asset_j = pair\n",
    "        \n",
    "        # Forward-fill missing values and replace zeros with NaNs\n",
    "        px_i = px[asset_i].replace(0, np.nan).ffill()\n",
    "        px_j = px[asset_j].replace(0, np.nan).ffill()\n",
    "        \n",
    "        # Apply log transformation\n",
    "        log_px_i = np.log(px_i)\n",
    "        log_px_j = np.log(px_j)\n",
    "        \n",
    "        # Calculate rolling covariance and variance \n",
    "        rolling_cov = log_px_i.rolling(window=window, min_periods=1).cov(log_px_j)\n",
    "        rolling_var = log_px_i.rolling(window=window, min_periods=1).var()\n",
    "        \n",
    "        # Calculate beta and alpha\n",
    "        beta = rolling_cov / rolling_var\n",
    "        alpha = log_px_j.rolling(window=window).mean() - beta * log_px_i.rolling(window=window).mean()\n",
    "        \n",
    "        # Calculate spread for time t using beta and alpha\n",
    "        spread = log_px_i - (beta * log_px_j + alpha)\n",
    "        \n",
    "        # Calculate rolling mean and standard deviation of the spread using data up to t\n",
    "        spread_mean = spread.rolling(window=window, min_periods=1).mean()\n",
    "        spread_std = spread.rolling(window=window, min_periods=1).std()\n",
    "        \n",
    "        # Calculate the z-score for time t using spread(t), mean(t), and std(t)\n",
    "        z_score = (spread - spread_mean) / spread_std\n",
    "        \n",
    "        # Store beta, alpha, spread, and z-score in a multi-level column DataFrame\n",
    "        signal_df[(pair, 'beta')] = beta\n",
    "        signal_df[(pair, 'alpha')] = alpha\n",
    "        signal_df[(pair, 'spread')] = spread\n",
    "        signal_df[(pair, 'z_score')] = z_score\n",
    "    \n",
    "    # Convert the dictionary to a DataFrame\n",
    "    signal_df = pd.DataFrame(signal_df)\n",
    "    \n",
    "    return signal_df"
   ],
   "outputs": [],
   "execution_count": 15
  },
  {
   "cell_type": "code",
   "id": "4d3b35c2",
   "metadata": {
    "ExecuteTime": {
     "end_time": "2025-06-24T18:50:55.492711Z",
     "start_time": "2025-06-24T18:50:55.487803Z"
    }
   },
   "source": [
    "def gen_port(signal_df, pairs, crypto_px, threshold=0.5):\n",
    "    # Initialize a DataFrame with the same index and columns as crypto_px, filled with NaN\n",
    "    pos = pd.DataFrame(index=signal_df.index, columns=crypto_px.columns)\n",
    "    for pair in pairs:\n",
    "        asset_i, asset_j = pair\n",
    "        # Access z-scores and betas for this pair\n",
    "        z_scores = signal_df[(pair, 'z_score')]\n",
    "        betas = signal_df[(pair, 'beta')]\n",
    "\n",
    "        # Set positions based on z-scores\n",
    "        pos.loc[z_scores > 1, asset_i] = -1  # Short one unit of asset_i\n",
    "        pos.loc[z_scores < -1, asset_i] = 1  # Long one unit of asset_i\n",
    "        pos.loc[(z_scores.abs() <= threshold), asset_i] = 0  # Exit signal\n",
    "\n",
    "        pos.loc[z_scores > 1, asset_j] = betas  # Long beta units of asset_j\n",
    "        pos.loc[z_scores < -1, asset_j] = -betas  # Short beta units of asset_j\n",
    "        pos.loc[(z_scores.abs() <= threshold), asset_j] = 0  # Exit signal\n",
    "\n",
    "    # Forward-fill missing values\n",
    "    pos = pos.ffill()\n",
    "    # Normalize to ensure a fully-invested portfolio\n",
    "    pos = pos.divide(pos.abs().sum(axis=1), axis=0).fillna(0)\n",
    "    return pos"
   ],
   "outputs": [],
   "execution_count": 16
  },
  {
   "cell_type": "markdown",
   "id": "ea45ce5c",
   "metadata": {},
   "source": [
    "### Performance Evaluation\n",
    "\n",
    "We evaluate the strategy's performance across four exit thresholds: 0.1, 0.2, 0.5, and 0.7. For each threshold, the following key metrics are calculated:\n",
    "\n",
    "- **Sharpe Ratio**: Risk-adjusted return of the strategy.\n",
    "- **Transaction Costs**: Average costs incurred due to trading.\n",
    "- **Holding Period**: Average number of days a position is held.\n",
    "- **Turnover**: Average daily proportion of the portfolio that is traded.\n",
    "- **Annualized Return**: Average yearly return of the strategy.\n",
    "- **Annualized Volatility**: Standard deviation of returns on an annual basis, indicating risk.\n",
    "\n",
    "Cryptocurrencies can have commissions of ~7bps. While total slippage is unknown and will depend on the trader’s volume as well, let’s assume another 13 bps. So total all-in execution costs will be 20 bps for market-orders."
   ]
  },
  {
   "cell_type": "code",
   "id": "caee89a2",
   "metadata": {
    "ExecuteTime": {
     "end_time": "2025-06-24T18:56:47.261695Z",
     "start_time": "2025-06-24T18:50:55.545719Z"
    }
   },
   "source": [
    "# Define the thresholds and initialize the arrays for storing metrics\n",
    "end_of_insample = pd.Timestamp('2018-12-31')\n",
    "last_available_date = crypto_px.index[-1]\n",
    "thresholds = [0.1, 0.2, 0.5, 0.7]\n",
    "metrics = {\n",
    "    'Sharpe Ratio': np.zeros(len(thresholds)),\n",
    "    'Return': np.zeros(len(thresholds)),\n",
    "    'Volatility': np.zeros(len(thresholds)),\n",
    "    'Holding Period': np.zeros(len(thresholds)),\n",
    "    'Turnover': np.zeros(len(thresholds)),\n",
    "    'Transaction Costs': np.zeros(len(thresholds)),\n",
    "}\n",
    "\n",
    "# Dictionary to store strat_net_ret for each threshold\n",
    "strat_net_ret_dict = {}\n",
    "\n",
    "# Set the start of the out-of-sample period\n",
    "start_of_out_sample = end_of_insample + pd.DateOffset(days=1)\n",
    "\n",
    "# Define half-year periods for updating pairs\n",
    "update_dates = pd.date_range(start=start_of_out_sample, end=crypto_px.index[-1], freq='6MS')\n",
    "\n",
    "# Initialize an empty DataFrame to store the complete portfolio over all periods\n",
    "full_portfolio = pd.DataFrame(index=crypto_px.loc[start_of_out_sample:].index, columns=crypto_px.columns)\n",
    "\n",
    "# Loop over each threshold to calculate metrics\n",
    "for i, threshold in enumerate(thresholds):\n",
    "    print(f\"Evaluating with exit threshold: {threshold}\")\n",
    "    for start_date in update_dates:\n",
    "        # Define the end of the update period (6 months later)\n",
    "        end_date = start_date + pd.DateOffset(months=6) - pd.DateOffset(days=1)\n",
    "        \n",
    "        # Adjust end_date if it exceeds the last available date\n",
    "        if end_date > last_available_date:\n",
    "            end_date = last_available_date\n",
    "            \n",
    "        # Select the in-sample period for pair selection\n",
    "        insample_start = start_date - pd.DateOffset(years=1)\n",
    "        insample_end = start_date - pd.DateOffset(days=1)\n",
    "        \n",
    "        # Re-select pairs based on the ADF test or any other criteria\n",
    "        updated_pairs = select_pairs(crypto_px.loc[insample_start:insample_end])\n",
    "        \n",
    "        # Generate signals for the new pairs\n",
    "        signal_df = gen_signals(crypto_px, updated_pairs, window=90)\n",
    "        signal_df = signal_df.loc[start_date:end_date]\n",
    "        \n",
    "        # Generate portfolio for the selected pairs\n",
    "        port = gen_port(signal_df, updated_pairs, crypto_px, threshold)\n",
    "        \n",
    "        # Store the generated portfolio in the full_portfolio DataFrame\n",
    "        full_portfolio.loc[start_date:end_date, :] = port\n",
    "    \n",
    "    # Calculate out-of-sample daily returns for the entire period\n",
    "    out_sample_ret = coins_ret.loc[start_of_out_sample:][full_portfolio.columns]\n",
    "    strat_gross_ret = (full_portfolio.shift() * out_sample_ret).sum(axis=1)\n",
    "    \n",
    "    # Calculate net returns with transaction costs\n",
    "    to = compute_turnover(full_portfolio)\n",
    "    tcost_bps = 20  # (commissions + slippage)\n",
    "    strat_net_ret = strat_gross_ret.subtract(to * tcost_bps * 1e-4, fill_value=0)\n",
    "    \n",
    "    # Store the net returns for the current threshold\n",
    "    strat_net_ret_dict[threshold] = strat_net_ret\n",
    "    \n",
    "    # Compute Sharpe ratio\n",
    "    sharpe_ratio = compute_sharpe_ratio(strat_net_ret)\n",
    "    metrics['Sharpe Ratio'][i] = sharpe_ratio\n",
    "    \n",
    "    # Compute transaction costs\n",
    "    total_tcost = to * tcost_bps * 1e-4\n",
    "    metrics['Transaction Costs'][i] = total_tcost.mean()\n",
    "    \n",
    "    # Compute holding period (average number of days a position is held)\n",
    "    metrics['Holding Period'][i] = 2/to.mean()\n",
    "    \n",
    "    # Store turnover\n",
    "    metrics['Turnover'][i] = to.mean()\n",
    "    \n",
    "    # Compute return \n",
    "    returns = strat_net_ret.mean()\n",
    "    metrics['Return'][i] = returns\n",
    "    \n",
    "    # Compute volatility\n",
    "    volatility = strat_net_ret.std()\n",
    "    metrics['Volatility'][i] = volatility\n",
    "    \n",
    "# Convert metrics to a DataFrame for easier visualization\n",
    "metrics_df = pd.DataFrame(metrics, index=thresholds)"
   ],
   "outputs": [
    {
     "name": "stdout",
     "output_type": "stream",
     "text": [
      "Evaluating with exit threshold: 0.1\n",
      "Pairs Updated date: 2019-01-01\n",
      "Final pairs to be traded: [('ADA', 'MDT'), ('AMB', 'BLZ'), ('ARK', 'ANT'), ('ARK', 'SBD'), ('BAT', 'SWFTC'), ('BCH', 'DCR'), ('BCH', 'XMR'), ('BNB', 'DCR'), ('BTC', 'MKR'), ('CTXC', 'PIVX'), ('CVC', 'MDT'), ('DOGE', 'SWFTC'), ('ELF', 'CTXC'), ('ELF', 'RLC'), ('ELF', 'STORJ'), ('ENJ', 'BORG'), ('ENJ', 'MED'), ('ENJ', 'REN'), ('ENJ', 'RVN'), ('EOS', 'ZEN'), ('ETC', 'GNO'), ('ETC', 'ZEN'), ('GFT', 'BLZ'), ('GFT', 'POWR'), ('GLM', 'BLZ'), ('LINK', 'BTG'), ('LRC', 'ADX'), ('LTC', 'ZEC'), ('MANA', 'DGB'), ('MED', 'DENT'), ('MTL', 'ICX'), ('NEO', 'GNO'), ('NMR', 'MLN'), ('OMG', 'LSK'), ('ONT', 'GAS'), ('QTUM', 'GAS'), ('QTUM', 'LSK'), ('SNT', 'MDT'), ('SNX', 'SYS'), ('STEEM', 'ICX'), ('STEEM', 'NULS'), ('STMX', 'IOST'), ('STMX', 'XVG'), ('STORJ', 'LRC'), ('STORJ', 'PRO'), ('SWFTC', 'IDEX'), ('THETA', 'SWFTC'), ('THETA', 'TRAC'), ('THETA', 'ZIL'), ('TRX', 'MANA'), ('UQC', 'STRAX'), ('UTK', 'MDT'), ('VGX', 'IOTA'), ('VIB', 'MDT'), ('WAVES', 'MLN'), ('WAXP', 'ARDR'), ('WAXP', 'FUN'), ('WAXP', 'MDT'), ('XDC', 'VIC'), ('XEM', 'MDT'), ('XEM', 'REQ'), ('XLM', 'IOST'), ('XMR', 'BTG'), ('XMR', 'DASH'), ('XNO', 'STRAX'), ('XRP', 'UTK'), ('ZEC', 'DASH'), ('ZRX', 'SBD')]\n",
      "Number of pairs to be traded: 68\n",
      "Pairs Updated date: 2019-07-01\n",
      "Final pairs to be traded: [('ADA', 'GNO'), ('ADA', 'IOST'), ('ADA', 'SWFTC'), ('ADX', 'SYS'), ('AMB', 'XDC'), ('ANT', 'SYS'), ('ARDR', 'CTXC'), ('ARK', 'SYS'), ('BAT', 'MED'), ('BCH', 'XMR'), ('BCH', 'XNO'), ('BNB', 'MKR'), ('BTC', 'REN'), ('BTC', 'SNX'), ('BTC', 'UTK'), ('CTXC', 'NULS'), ('CVC', 'PRO'), ('CVC', 'SYS'), ('DASH', 'GNO'), ('DGB', 'BLZ'), ('DGB', 'FUN'), ('DGB', 'ICX'), ('DGB', 'IOTA'), ('DGB', 'XVG'), ('DOGE', 'VGX'), ('ELF', 'GNO'), ('ENJ', 'MED'), ('EOS', 'VIB'), ('ETC', 'XMR'), ('GFT', 'SYS'), ('GLM', 'BLZ'), ('GLM', 'OMG'), ('GNO', 'MTL'), ('ICX', 'SYS'), ('IOTA', 'DENT'), ('LINK', 'MED'), ('LRC', 'SYS'), ('LSK', 'SYS'), ('LTC', 'MED'), ('MANA', 'TRAC'), ('MANA', 'XEM'), ('MED', 'MLN'), ('NEO', 'GNO'), ('NEO', 'IDEX'), ('NMR', 'RLC'), ('ONT', 'MTL'), ('POWR', 'SYS'), ('QTUM', 'GNO'), ('RLC', 'BORG'), ('SBD', 'MDT'), ('SNT', 'SYS'), ('STEEM', 'GAS'), ('STORJ', 'BORG'), ('STORJ', 'MED'), ('SWFTC', 'VIB'), ('THETA', 'SBD'), ('TRX', 'MED'), ('UQC', 'STRAX'), ('VGX', 'PIVX'), ('WAXP', 'SWFTC'), ('XDC', 'PIVX'), ('XLM', 'STEEM'), ('XLM', 'WAVES'), ('XMR', 'MANA'), ('XRP', 'MED'), ('ZEC', 'XMR'), ('ZEN', 'DCR'), ('ZEN', 'GNO'), ('ZIL', 'STRAX'), ('ZRX', 'REQ'), ('ZRX', 'STMX')]\n",
      "Number of pairs to be traded: 71\n",
      "Pairs Updated date: 2020-01-01\n",
      "Final pairs to be traded: [('ADA', 'VIC'), ('ADX', 'SYS'), ('ADX', 'XVG'), ('AMB', 'UQC'), ('ANT', 'UQC'), ('ARDR', 'MTL'), ('BAT', 'NMR'), ('BCH', 'XMR'), ('BNB', 'XMR'), ('BTC', 'UQC'), ('BTG', 'XEM'), ('DASH', 'PRO'), ('DGB', 'BLZ'), ('DGB', 'CVC'), ('DGB', 'GAS'), ('DGB', 'GLM'), ('DGB', 'ICX'), ('DGB', 'OMG'), ('DGB', 'SBD'), ('DGB', 'SNT'), ('DOGE', 'XMR'), ('ELF', 'DGB'), ('ELF', 'STORJ'), ('ENJ', 'VIC'), ('EOS', 'MTL'), ('ETC', 'MED'), ('ETC', 'XMR'), ('FUN', 'MDT'), ('GFT', 'POWR'), ('IOST', 'VIC'), ('LINK', 'MLN'), ('LRC', 'PIVX'), ('LRC', 'STMX'), ('LRC', 'WAVES'), ('LSK', 'SNT'), ('LTC', 'GNO'), ('LTC', 'XMR'), ('MANA', 'DGB'), ('MDT', 'BORG'), ('MKR', 'UQC'), ('NEO', 'UQC'), ('NMR', 'UQC'), ('OMG', 'CTXC'), ('OMG', 'NULS'), ('ONT', 'MTL'), ('QTUM', 'ARDR'), ('REN', 'MDT'), ('REQ', 'MDT'), ('RLC', 'UQC'), ('RVN', 'MTL'), ('SNT', 'IDEX'), ('SNX', 'MLN'), ('STEEM', 'ARK'), ('STEEM', 'PIVX'), ('STEEM', 'STRAX'), ('THETA', 'UQC'), ('TRAC', 'UQC'), ('TRX', 'DENT'), ('UTK', 'NULS'), ('VGX', 'MDT'), ('VIB', 'MDT'), ('VIC', 'UQC'), ('WAXP', 'PRO'), ('XDC', 'UQC'), ('XEM', 'DCR'), ('XLM', 'ELF'), ('XNO', 'SWFTC'), ('XRP', 'IOTA'), ('ZEC', 'IDEX'), ('ZEN', 'UQC'), ('ZIL', 'LRC'), ('ZRX', 'MDT')]\n",
      "Number of pairs to be traded: 72\n",
      "Pairs Updated date: 2020-07-01\n",
      "Final pairs to be traded: [('ADA', 'MTL'), ('AMB', 'MTL'), ('ANT', 'FUN'), ('ARK', 'CTXC'), ('BLZ', 'UTK'), ('BNB', 'ARDR'), ('BNB', 'DOGE'), ('BNB', 'TRX'), ('BTC', 'MTL'), ('BTG', 'SWFTC'), ('BTG', 'XEM'), ('CVC', 'MTL'), ('DASH', 'STEEM'), ('DCR', 'VIB'), ('DENT', 'MTL'), ('DGB', 'MTL'), ('ELF', 'GAS'), ('ENJ', 'MED'), ('EOS', 'SWFTC'), ('ETC', 'MANA'), ('GAS', 'SYS'), ('GFT', 'MTL'), ('GLM', 'MTL'), ('GNO', 'SYS'), ('ICX', 'SWFTC'), ('IOTA', 'MTL'), ('LINK', 'MED'), ('LRC', 'MTL'), ('LSK', 'MDT'), ('LSK', 'SWFTC'), ('LTC', 'ARDR'), ('MKR', 'MTL'), ('MLN', 'REQ'), ('MLN', 'SYS'), ('NEO', 'ADX'), ('NEO', 'BAT'), ('NMR', 'FUN'), ('OMG', 'SYS'), ('OMG', 'XVG'), ('ONT', 'DCR'), ('ONT', 'IOST'), ('POWR', 'ANT'), ('PRO', 'MTL'), ('QTUM', 'ARDR'), ('QTUM', 'IOST'), ('REN', 'STMX'), ('RLC', 'FUN'), ('SBD', 'IDEX'), ('SBD', 'SNT'), ('SNX', 'MED'), ('STEEM', 'PIVX'), ('STMX', 'CTXC'), ('STORJ', 'MTL'), ('STRAX', 'SYS'), ('THETA', 'GNO'), ('TRAC', 'MTL'), ('UQC', 'BORG'), ('UQC', 'FUN'), ('UTK', 'NULS'), ('VGX', 'MTL'), ('VIC', 'FUN'), ('WAVES', 'SWFTC'), ('WAXP', 'MTL'), ('XDC', 'MTL'), ('XLM', 'MTL'), ('XMR', 'MTL'), ('XNO', 'FUN'), ('XRP', 'BCH'), ('XRP', 'MTL'), ('XRP', 'RVN'), ('ZEC', 'STEEM'), ('ZEN', 'FUN'), ('ZIL', 'MTL'), ('ZRX', 'MED')]\n",
      "Number of pairs to be traded: 74\n",
      "Pairs Updated date: 2021-01-01\n",
      "Final pairs to be traded: [('ADA', 'BORG'), ('ADA', 'MED'), ('ADA', 'MKR'), ('ADX', 'BTG'), ('AMB', 'BTG'), ('ANT', 'IDEX'), ('ANT', 'SWFTC'), ('ARK', 'FUN'), ('ARK', 'SYS'), ('BAT', 'DENT'), ('BCH', 'DASH'), ('BLZ', 'BTG'), ('BNB', 'MED'), ('BTC', 'MTL'), ('CTXC', 'SWFTC'), ('CVC', 'BTG'), ('DCR', 'SWFTC'), ('DGB', 'MED'), ('ELF', 'GFT'), ('ENJ', 'GFT'), ('EOS', 'SWFTC'), ('ETC', 'BTG'), ('GAS', 'FUN'), ('GAS', 'MTL'), ('GLM', 'BTG'), ('GNO', 'MDT'), ('GNO', 'MED'), ('ICX', 'FUN'), ('IOTA', 'DENT'), ('LINK', 'DENT'), ('LINK', 'MED'), ('LINK', 'STMX'), ('LRC', 'DENT'), ('LSK', 'MTL'), ('LTC', 'STEEM'), ('MANA', 'MED'), ('MLN', 'MDT'), ('MLN', 'UTK'), ('NEO', 'MED'), ('NMR', 'SNT'), ('OMG', 'FUN'), ('ONT', 'BTG'), ('ONT', 'DENT'), ('ONT', 'VIB'), ('PIVX', 'FUN'), ('POWR', 'BTG'), ('PRO', 'BTG'), ('QTUM', 'ARDR'), ('QTUM', 'DENT'), ('QTUM', 'GFT'), ('QTUM', 'IOST'), ('REN', 'DENT'), ('RLC', 'FUN'), ('RVN', 'BTG'), ('SBD', 'SWFTC'), ('SNX', 'DENT'), ('STEEM', 'BTG'), ('STORJ', 'MED'), ('STRAX', 'FUN'), ('STRAX', 'REQ'), ('THETA', 'MED'), ('TRAC', 'MDT'), ('TRX', 'BTG'), ('UQC', 'SWFTC'), ('VGX', 'MED'), ('VIC', 'FUN'), ('WAVES', 'DENT'), ('WAVES', 'XEM'), ('WAXP', 'BTG'), ('XDC', 'BTG'), ('XLM', 'MED'), ('XMR', 'STEEM'), ('XNO', 'FUN'), ('XRP', 'DASH'), ('XRP', 'DOGE'), ('XVG', 'MTL'), ('ZEC', 'ELF'), ('ZEN', 'BTG'), ('ZIL', 'BTG'), ('ZRX', 'DENT')]\n",
      "Number of pairs to be traded: 80\n",
      "Pairs Updated date: 2021-07-01\n",
      "Final pairs to be traded: [('ADA', 'MLN'), ('ADX', 'UTK'), ('AMB', 'BLZ'), ('ARK', 'VIB'), ('BAT', 'SYS'), ('BCH', 'GFT'), ('BNB', 'MANA'), ('BNB', 'MLN'), ('BTC', 'CVC'), ('CTXC', 'PIVX'), ('CTXC', 'REQ'), ('DASH', 'SNT'), ('DENT', 'MTL'), ('DOGE', 'RLC'), ('ELF', 'ARDR'), ('ELF', 'ICX'), ('ELF', 'IOTA'), ('ELF', 'MDT'), ('ELF', 'PIVX'), ('ELF', 'SNT'), ('ELF', 'VIB'), ('ENJ', 'DENT'), ('ENJ', 'STRAX'), ('EOS', 'PRO'), ('ETC', 'RLC'), ('GAS', 'STRAX'), ('GLM', 'TRAC'), ('GNO', 'SBD'), ('IOST', 'ICX'), ('LINK', 'UTK'), ('LRC', 'REN'), ('LSK', 'SYS'), ('LTC', 'XLM'), ('MED', 'MTL'), ('MKR', 'XNO'), ('NEO', 'OMG'), ('NMR', 'ANT'), ('NMR', 'IDEX'), ('NMR', 'SWFTC'), ('ONT', 'NMR'), ('ONT', 'NULS'), ('POWR', 'PIVX'), ('PRO', 'STRAX'), ('QTUM', 'BTG'), ('QTUM', 'MTL'), ('RLC', 'PRO'), ('RVN', 'VIC'), ('SNX', 'LRC'), ('STEEM', 'SYS'), ('STMX', 'MTL'), ('STMX', 'WAXP'), ('STORJ', 'OMG'), ('STORJ', 'UQC'), ('THETA', 'GNO'), ('THETA', 'WAVES'), ('TRX', 'MANA'), ('VGX', 'BORG'), ('VGX', 'FUN'), ('XDC', 'MLN'), ('XLM', 'BORG'), ('XLM', 'CVC'), ('XLM', 'ZIL'), ('XMR', 'SBD'), ('XRP', 'EOS'), ('XVG', 'DCR'), ('XVG', 'UTK'), ('ZEC', 'DGB'), ('ZEN', 'XNO'), ('ZIL', 'SBD'), ('ZRX', 'UTK')]\n",
      "Number of pairs to be traded: 70\n",
      "Pairs Updated date: 2022-01-01\n",
      "Final pairs to be traded: [('ADA', 'STRAX'), ('ADX', 'SNT'), ('AMB', 'XNO'), ('ANT', 'CTXC'), ('ANT', 'NULS'), ('ARK', 'XNO'), ('BAT', 'CTXC'), ('BAT', 'POWR'), ('BCH', 'XNO'), ('BLZ', 'UTK'), ('BNB', 'ENJ'), ('BTC', 'VGX'), ('BTG', 'MTL'), ('BTG', 'UQC'), ('CTXC', 'SYS'), ('CVC', 'ICX'), ('CVC', 'IOST'), ('DASH', 'XNO'), ('DENT', 'ARDR'), ('DENT', 'MTL'), ('DGB', 'XNO'), ('DOGE', 'RLC'), ('ELF', 'VGX'), ('EOS', 'XNO'), ('ETC', 'VGX'), ('GAS', 'XNO'), ('GLM', 'VIC'), ('GNO', 'FUN'), ('IOTA', 'CTXC'), ('LINK', 'VGX'), ('LRC', 'CTXC'), ('LSK', 'XNO'), ('LTC', 'MKR'), ('LTC', 'VGX'), ('LTC', 'XLM'), ('MANA', 'CTXC'), ('MED', 'MTL'), ('MTL', 'STRAX'), ('NEO', 'XNO'), ('NMR', 'SNT'), ('OMG', 'XNO'), ('ONT', 'SNT'), ('PIVX', 'BORG'), ('PIVX', 'VIB'), ('PRO', 'CTXC'), ('QTUM', 'ZEN'), ('REN', 'VIC'), ('REQ', 'IDEX'), ('RVN', 'BORG'), ('SNX', 'VGX'), ('STEEM', 'VGX'), ('STMX', 'DENT'), ('STORJ', 'ENJ'), ('STORJ', 'GFT'), ('THETA', 'SBD'), ('TRAC', 'CTXC'), ('TRX', 'QTUM'), ('WAVES', 'MLN'), ('WAXP', 'REQ'), ('XDC', 'MLN'), ('XEM', 'FUN'), ('XMR', 'VGX'), ('XRP', 'ZEN'), ('XVG', 'DCR'), ('XVG', 'SWFTC'), ('ZEC', 'GFT'), ('ZIL', 'FUN'), ('ZIL', 'UTK'), ('ZRX', 'XNO')]\n",
      "Number of pairs to be traded: 69\n",
      "Pairs Updated date: 2022-07-01\n",
      "Final pairs to be traded: [('ADA', 'STEEM'), ('ANT', 'REQ'), ('ARK', 'BLZ'), ('BAT', 'CTXC'), ('BCH', 'XEM'), ('BNB', 'GLM'), ('BTC', 'GLM'), ('CVC', 'ARDR'), ('CVC', 'OMG'), ('DASH', 'MED'), ('DASH', 'ONT'), ('DASH', 'SNT'), ('DASH', 'XEM'), ('DENT', 'UTK'), ('DGB', 'BTG'), ('DGB', 'XNO'), ('DOGE', 'EOS'), ('ELF', 'CVC'), ('ENJ', 'GFT'), ('EOS', 'XDC'), ('EOS', 'XNO'), ('ETC', 'SNX'), ('GAS', 'SBD'), ('GFT', 'NULS'), ('GLM', 'WAVES'), ('GNO', 'REQ'), ('IOST', 'MTL'), ('LINK', 'IOTA'), ('LINK', 'RVN'), ('LRC', 'REQ'), ('LSK', 'BTG'), ('LTC', 'ADX'), ('LTC', 'ARK'), ('MANA', 'MDT'), ('MED', 'VIB'), ('MKR', 'BORG'), ('MKR', 'XVG'), ('MLN', 'VIB'), ('NEO', 'DGB'), ('NMR', 'XEM'), ('POWR', 'REQ'), ('QTUM', 'UTK'), ('REN', 'ICX'), ('REQ', 'IDEX'), ('RVN', 'UTK'), ('SBD', 'STRAX'), ('SNX', 'DCR'), ('SNX', 'FUN'), ('STEEM', 'MLN'), ('STEEM', 'ZRX'), ('STMX', 'MLN'), ('STORJ', 'GFT'), ('SYS', 'MDT'), ('THETA', 'AMB'), ('THETA', 'RLC'), ('TRX', 'MTL'), ('UQC', 'STRAX'), ('VGX', 'GLM'), ('VIC', 'XVG'), ('WAXP', 'REQ'), ('WAXP', 'TRAC'), ('XLM', 'RLC'), ('XMR', 'ZIL'), ('XNO', 'PIVX'), ('XRP', 'ARDR'), ('ZEC', 'GFT'), ('ZEN', 'MED')]\n",
      "Number of pairs to be traded: 67\n",
      "Pairs Updated date: 2023-01-01\n",
      "Final pairs to be traded: [('ADA', 'MKR'), ('ADA', 'TRX'), ('ADX', 'FUN'), ('AMB', 'PIVX'), ('ANT', 'BORG'), ('ANT', 'FUN'), ('ARK', 'FUN'), ('ARK', 'IOST'), ('BAT', 'FUN'), ('BCH', 'TRAC'), ('BTC', 'GFT'), ('CVC', 'FUN'), ('DASH', 'CTXC'), ('DASH', 'TRAC'), ('DOGE', 'XMR'), ('ELF', 'MLN'), ('ELF', 'NULS'), ('ENJ', 'FUN'), ('EOS', 'FUN'), ('EOS', 'XMR'), ('ETC', 'GFT'), ('GAS', 'FUN'), ('GLM', 'FUN'), ('ICX', 'FUN'), ('IOTA', 'FUN'), ('LINK', 'DENT'), ('LRC', 'FUN'), ('LSK', 'FUN'), ('LSK', 'SNT'), ('LTC', 'ANT'), ('MANA', 'FUN'), ('MLN', 'MDT'), ('MTL', 'FUN'), ('NEO', 'ARDR'), ('NEO', 'BLZ'), ('NEO', 'FUN'), ('NEO', 'GFT'), ('NEO', 'XEM'), ('NEO', 'XVG'), ('NMR', 'REQ'), ('OMG', 'FUN'), ('ONT', 'DCR'), ('ONT', 'FUN'), ('POWR', 'FUN'), ('POWR', 'IDEX'), ('PRO', 'FUN'), ('QTUM', 'DGB'), ('QTUM', 'FUN'), ('QTUM', 'MED'), ('QTUM', 'STMX'), ('REN', 'FUN'), ('REQ', 'IDEX'), ('RLC', 'FUN'), ('RVN', 'FUN'), ('SBD', 'FUN'), ('SNX', 'BTG'), ('SNX', 'FUN'), ('SNX', 'SWFTC'), ('STEEM', 'FUN'), ('STORJ', 'FUN'), ('STRAX', 'FUN'), ('SYS', 'FUN'), ('THETA', 'DENT'), ('TRAC', 'FUN'), ('UQC', 'SWFTC'), ('UTK', 'FUN'), ('VGX', 'FUN'), ('VIC', 'FUN'), ('WAVES', 'FUN'), ('WAXP', 'FUN'), ('XDC', 'FUN'), ('XLM', 'FUN'), ('XNO', 'FUN'), ('XRP', 'BNB'), ('ZEC', 'FUN'), ('ZEN', 'FUN'), ('ZIL', 'FUN'), ('ZRX', 'FUN'), ('ZRX', 'GNO')]\n",
      "Number of pairs to be traded: 79\n",
      "Pairs Updated date: 2023-07-01\n",
      "Final pairs to be traded: [('ADA', 'LINK'), ('ADA', 'MKR'), ('ANT', 'FUN'), ('ARDR', 'XEM'), ('ARK', 'WAXP'), ('ARK', 'XEM'), ('BAT', 'MLN'), ('BLZ', 'ARDR'), ('BTC', 'DOGE'), ('CVC', 'ARK'), ('DOGE', 'XMR'), ('ELF', 'GAS'), ('ENJ', 'DENT'), ('ENJ', 'POWR'), ('EOS', 'ETC'), ('EOS', 'MKR'), ('EOS', 'RVN'), ('EOS', 'XMR'), ('GAS', 'NULS'), ('GAS', 'TRAC'), ('GFT', 'DENT'), ('GFT', 'PIVX'), ('GLM', 'MED'), ('IOTA', 'CVC'), ('LRC', 'MLN'), ('LRC', 'NMR'), ('LSK', 'MLN'), ('LSK', 'SYS'), ('LTC', 'XVG'), ('MANA', 'DENT'), ('MANA', 'IOST'), ('MANA', 'SNT'), ('MANA', 'ZIL'), ('MTL', 'IDEX'), ('MTL', 'SNT'), ('NEO', 'DENT'), ('OMG', 'FUN'), ('OMG', 'REQ'), ('OMG', 'XVG'), ('PRO', 'DCR'), ('QTUM', 'ADX'), ('QTUM', 'DENT'), ('QTUM', 'ICX'), ('QTUM', 'ONT'), ('REN', 'STMX'), ('REN', 'UTK'), ('RLC', 'CTXC'), ('RLC', 'SWFTC'), ('SBD', 'XNO'), ('SNX', 'DENT'), ('SNX', 'GNO'), ('STEEM', 'IOST'), ('STORJ', 'XEM'), ('STORJ', 'ZEN'), ('THETA', 'DENT'), ('THETA', 'DGB'), ('THETA', 'MED'), ('THETA', 'MLN'), ('THETA', 'XEM'), ('TRAC', 'MDT'), ('UQC', 'REQ'), ('VGX', 'AMB'), ('VGX', 'XVG'), ('VIB', 'IDEX'), ('VIC', 'BORG'), ('WAVES', 'BTG'), ('WAVES', 'STMX'), ('WAVES', 'SWFTC'), ('XLM', 'XMR'), ('XNO', 'STRAX'), ('XRP', 'BCH'), ('XRP', 'BNB'), ('XRP', 'DASH'), ('XRP', 'TRX'), ('XRP', 'XDC'), ('XRP', 'XMR'), ('ZEC', 'REQ'), ('ZRX', 'DENT')]\n",
      "Number of pairs to be traded: 78\n",
      "Pairs Updated date: 2024-01-01\n",
      "Final pairs to be traded: [('ADA', 'IOTA'), ('AMB', 'VIC'), ('ANT', 'XVG'), ('ARDR', 'BORG'), ('ARK', 'MTL'), ('BAT', 'NMR'), ('BCH', 'MTL'), ('BCH', 'XLM'), ('BLZ', 'MTL'), ('BNB', 'REN'), ('BTC', 'MTL'), ('CTXC', 'XNO'), ('DASH', 'REN'), ('DENT', 'ADX'), ('DGB', 'REQ'), ('DOGE', 'UQC'), ('DOGE', 'XMR'), ('ELF', 'MTL'), ('ENJ', 'REQ'), ('ENJ', 'RVN'), ('EOS', 'REN'), ('ETC', 'REQ'), ('GFT', 'NMR'), ('GLM', 'CVC'), ('GNO', 'GAS'), ('IOST', 'PIVX'), ('IOTA', 'CTXC'), ('IOTA', 'UQC'), ('LINK', 'SNT'), ('LINK', 'STORJ'), ('LRC', 'REN'), ('LSK', 'ARDR'), ('LTC', 'MKR'), ('MANA', 'REQ'), ('MANA', 'VIC'), ('MED', 'REQ'), ('MKR', 'MTL'), ('MKR', 'XVG'), ('MLN', 'DCR'), ('NEO', 'ICX'), ('NEO', 'PIVX'), ('NMR', 'FUN'), ('NMR', 'NULS'), ('NMR', 'PIVX'), ('NMR', 'VIB'), ('ONT', 'PIVX'), ('POWR', 'SNT'), ('PRO', 'NULS'), ('REN', 'SYS'), ('RLC', 'REQ'), ('SBD', 'SNT'), ('SNX', 'ZRX'), ('STEEM', 'QTUM'), ('STMX', 'XVG'), ('STRAX', 'SNT'), ('SWFTC', 'MDT'), ('THETA', 'PIVX'), ('TRAC', 'MDT'), ('TRX', 'MTL'), ('VGX', 'VIC'), ('WAVES', 'BTG'), ('WAXP', 'ADX'), ('XDC', 'XVG'), ('XEM', 'PIVX'), ('XRP', 'MTL'), ('XVG', 'IDEX'), ('ZEC', 'VIC'), ('ZEN', 'CVC'), ('ZIL', 'OMG'), ('ZIL', 'REQ'), ('ZIL', 'UTK'), ('ZRX', 'GAS')]\n",
      "Number of pairs to be traded: 72\n",
      "Pairs Updated date: 2024-07-01\n",
      "Final pairs to be traded: [('ADA', 'IOTA'), ('AMB', 'STMX'), ('ARDR', 'MTL'), ('BAT', 'MDT'), ('BCH', 'NULS'), ('BCH', 'PRO'), ('BNB', 'XDC'), ('BTC', 'REQ'), ('BTG', 'REQ'), ('DASH', 'STMX'), ('DCR', 'MDT'), ('DENT', 'ADX'), ('DGB', 'MLN'), ('DGB', 'SYS'), ('DOGE', 'REQ'), ('ELF', 'GFT'), ('ENJ', 'IOST'), ('ENJ', 'LRC'), ('EOS', 'ZIL'), ('ETC', 'RLC'), ('ETC', 'XNO'), ('GLM', 'REQ'), ('GNO', 'UQC'), ('IOST', 'OMG'), ('IOTA', 'CTXC'), ('IOTA', 'FUN'), ('LINK', 'UQC'), ('LSK', 'PIVX'), ('LTC', 'XVG'), ('MANA', 'STMX'), ('MED', 'IOST'), ('MKR', 'ANT'), ('MKR', 'GLM'), ('NEO', 'PIVX'), ('NEO', 'VIB'), ('NMR', 'RLC'), ('OMG', 'ICX'), ('ONT', 'LSK'), ('POWR', 'SNT'), ('RVN', 'SYS'), ('RVN', 'XVG'), ('SBD', 'SNT'), ('SNX', 'FUN'), ('STEEM', 'BORG'), ('STEEM', 'PIVX'), ('STEEM', 'QTUM'), ('STORJ', 'ARK'), ('STORJ', 'BLZ'), ('STORJ', 'GAS'), ('SWFTC', 'REQ'), ('THETA', 'REQ'), ('TRAC', 'UQC'), ('TRX', 'GFT'), ('UTK', 'IDEX'), ('VGX', 'XDC'), ('WAVES', 'IOST'), ('WAVES', 'XEM'), ('WAXP', 'ARDR'), ('XMR', 'XVG'), ('XRP', 'ZEC'), ('ZEC', 'XLM'), ('ZEN', 'MTL'), ('ZIL', 'IDEX'), ('ZIL', 'REN'), ('ZRX', 'ADX'), ('ZRX', 'CVC'), ('ZRX', 'PIVX')]\n",
      "Number of pairs to be traded: 67\n",
      "Evaluating with exit threshold: 0.2\n",
      "Pairs Updated date: 2019-01-01\n",
      "Final pairs to be traded: [('ADA', 'MDT'), ('AMB', 'BLZ'), ('ARK', 'ANT'), ('ARK', 'SBD'), ('BAT', 'SWFTC'), ('BCH', 'DCR'), ('BCH', 'XMR'), ('BNB', 'DCR'), ('BTC', 'MKR'), ('CTXC', 'PIVX'), ('CVC', 'MDT'), ('DOGE', 'SWFTC'), ('ELF', 'CTXC'), ('ELF', 'RLC'), ('ELF', 'STORJ'), ('ENJ', 'BORG'), ('ENJ', 'MED'), ('ENJ', 'REN'), ('ENJ', 'RVN'), ('EOS', 'ZEN'), ('ETC', 'GNO'), ('ETC', 'ZEN'), ('GFT', 'BLZ'), ('GFT', 'POWR'), ('GLM', 'BLZ'), ('LINK', 'BTG'), ('LRC', 'ADX'), ('LTC', 'ZEC'), ('MANA', 'DGB'), ('MED', 'DENT'), ('MTL', 'ICX'), ('NEO', 'GNO'), ('NMR', 'MLN'), ('OMG', 'LSK'), ('ONT', 'GAS'), ('QTUM', 'GAS'), ('QTUM', 'LSK'), ('SNT', 'MDT'), ('SNX', 'SYS'), ('STEEM', 'ICX'), ('STEEM', 'NULS'), ('STMX', 'IOST'), ('STMX', 'XVG'), ('STORJ', 'LRC'), ('STORJ', 'PRO'), ('SWFTC', 'IDEX'), ('THETA', 'SWFTC'), ('THETA', 'TRAC'), ('THETA', 'ZIL'), ('TRX', 'MANA'), ('UQC', 'STRAX'), ('UTK', 'MDT'), ('VGX', 'IOTA'), ('VIB', 'MDT'), ('WAVES', 'MLN'), ('WAXP', 'ARDR'), ('WAXP', 'FUN'), ('WAXP', 'MDT'), ('XDC', 'VIC'), ('XEM', 'MDT'), ('XEM', 'REQ'), ('XLM', 'IOST'), ('XMR', 'BTG'), ('XMR', 'DASH'), ('XNO', 'STRAX'), ('XRP', 'UTK'), ('ZEC', 'DASH'), ('ZRX', 'SBD')]\n",
      "Number of pairs to be traded: 68\n",
      "Pairs Updated date: 2019-07-01\n",
      "Final pairs to be traded: [('ADA', 'GNO'), ('ADA', 'IOST'), ('ADA', 'SWFTC'), ('ADX', 'SYS'), ('AMB', 'XDC'), ('ANT', 'SYS'), ('ARDR', 'CTXC'), ('ARK', 'SYS'), ('BAT', 'MED'), ('BCH', 'XMR'), ('BCH', 'XNO'), ('BNB', 'MKR'), ('BTC', 'REN'), ('BTC', 'SNX'), ('BTC', 'UTK'), ('CTXC', 'NULS'), ('CVC', 'PRO'), ('CVC', 'SYS'), ('DASH', 'GNO'), ('DGB', 'BLZ'), ('DGB', 'FUN'), ('DGB', 'ICX'), ('DGB', 'IOTA'), ('DGB', 'XVG'), ('DOGE', 'VGX'), ('ELF', 'GNO'), ('ENJ', 'MED'), ('EOS', 'VIB'), ('ETC', 'XMR'), ('GFT', 'SYS'), ('GLM', 'BLZ'), ('GLM', 'OMG'), ('GNO', 'MTL'), ('ICX', 'SYS'), ('IOTA', 'DENT'), ('LINK', 'MED'), ('LRC', 'SYS'), ('LSK', 'SYS'), ('LTC', 'MED'), ('MANA', 'TRAC'), ('MANA', 'XEM'), ('MED', 'MLN'), ('NEO', 'GNO'), ('NEO', 'IDEX'), ('NMR', 'RLC'), ('ONT', 'MTL'), ('POWR', 'SYS'), ('QTUM', 'GNO'), ('RLC', 'BORG'), ('SBD', 'MDT'), ('SNT', 'SYS'), ('STEEM', 'GAS'), ('STORJ', 'BORG'), ('STORJ', 'MED'), ('SWFTC', 'VIB'), ('THETA', 'SBD'), ('TRX', 'MED'), ('UQC', 'STRAX'), ('VGX', 'PIVX'), ('WAXP', 'SWFTC'), ('XDC', 'PIVX'), ('XLM', 'STEEM'), ('XLM', 'WAVES'), ('XMR', 'MANA'), ('XRP', 'MED'), ('ZEC', 'XMR'), ('ZEN', 'DCR'), ('ZEN', 'GNO'), ('ZIL', 'STRAX'), ('ZRX', 'REQ'), ('ZRX', 'STMX')]\n",
      "Number of pairs to be traded: 71\n",
      "Pairs Updated date: 2020-01-01\n",
      "Final pairs to be traded: [('ADA', 'VIC'), ('ADX', 'SYS'), ('ADX', 'XVG'), ('AMB', 'UQC'), ('ANT', 'UQC'), ('ARDR', 'MTL'), ('BAT', 'NMR'), ('BCH', 'XMR'), ('BNB', 'XMR'), ('BTC', 'UQC'), ('BTG', 'XEM'), ('DASH', 'PRO'), ('DGB', 'BLZ'), ('DGB', 'CVC'), ('DGB', 'GAS'), ('DGB', 'GLM'), ('DGB', 'ICX'), ('DGB', 'OMG'), ('DGB', 'SBD'), ('DGB', 'SNT'), ('DOGE', 'XMR'), ('ELF', 'DGB'), ('ELF', 'STORJ'), ('ENJ', 'VIC'), ('EOS', 'MTL'), ('ETC', 'MED'), ('ETC', 'XMR'), ('FUN', 'MDT'), ('GFT', 'POWR'), ('IOST', 'VIC'), ('LINK', 'MLN'), ('LRC', 'PIVX'), ('LRC', 'STMX'), ('LRC', 'WAVES'), ('LSK', 'SNT'), ('LTC', 'GNO'), ('LTC', 'XMR'), ('MANA', 'DGB'), ('MDT', 'BORG'), ('MKR', 'UQC'), ('NEO', 'UQC'), ('NMR', 'UQC'), ('OMG', 'CTXC'), ('OMG', 'NULS'), ('ONT', 'MTL'), ('QTUM', 'ARDR'), ('REN', 'MDT'), ('REQ', 'MDT'), ('RLC', 'UQC'), ('RVN', 'MTL'), ('SNT', 'IDEX'), ('SNX', 'MLN'), ('STEEM', 'ARK'), ('STEEM', 'PIVX'), ('STEEM', 'STRAX'), ('THETA', 'UQC'), ('TRAC', 'UQC'), ('TRX', 'DENT'), ('UTK', 'NULS'), ('VGX', 'MDT'), ('VIB', 'MDT'), ('VIC', 'UQC'), ('WAXP', 'PRO'), ('XDC', 'UQC'), ('XEM', 'DCR'), ('XLM', 'ELF'), ('XNO', 'SWFTC'), ('XRP', 'IOTA'), ('ZEC', 'IDEX'), ('ZEN', 'UQC'), ('ZIL', 'LRC'), ('ZRX', 'MDT')]\n",
      "Number of pairs to be traded: 72\n",
      "Pairs Updated date: 2020-07-01\n",
      "Final pairs to be traded: [('ADA', 'MTL'), ('AMB', 'MTL'), ('ANT', 'FUN'), ('ARK', 'CTXC'), ('BLZ', 'UTK'), ('BNB', 'ARDR'), ('BNB', 'DOGE'), ('BNB', 'TRX'), ('BTC', 'MTL'), ('BTG', 'SWFTC'), ('BTG', 'XEM'), ('CVC', 'MTL'), ('DASH', 'STEEM'), ('DCR', 'VIB'), ('DENT', 'MTL'), ('DGB', 'MTL'), ('ELF', 'GAS'), ('ENJ', 'MED'), ('EOS', 'SWFTC'), ('ETC', 'MANA'), ('GAS', 'SYS'), ('GFT', 'MTL'), ('GLM', 'MTL'), ('GNO', 'SYS'), ('ICX', 'SWFTC'), ('IOTA', 'MTL'), ('LINK', 'MED'), ('LRC', 'MTL'), ('LSK', 'MDT'), ('LSK', 'SWFTC'), ('LTC', 'ARDR'), ('MKR', 'MTL'), ('MLN', 'REQ'), ('MLN', 'SYS'), ('NEO', 'ADX'), ('NEO', 'BAT'), ('NMR', 'FUN'), ('OMG', 'SYS'), ('OMG', 'XVG'), ('ONT', 'DCR'), ('ONT', 'IOST'), ('POWR', 'ANT'), ('PRO', 'MTL'), ('QTUM', 'ARDR'), ('QTUM', 'IOST'), ('REN', 'STMX'), ('RLC', 'FUN'), ('SBD', 'IDEX'), ('SBD', 'SNT'), ('SNX', 'MED'), ('STEEM', 'PIVX'), ('STMX', 'CTXC'), ('STORJ', 'MTL'), ('STRAX', 'SYS'), ('THETA', 'GNO'), ('TRAC', 'MTL'), ('UQC', 'BORG'), ('UQC', 'FUN'), ('UTK', 'NULS'), ('VGX', 'MTL'), ('VIC', 'FUN'), ('WAVES', 'SWFTC'), ('WAXP', 'MTL'), ('XDC', 'MTL'), ('XLM', 'MTL'), ('XMR', 'MTL'), ('XNO', 'FUN'), ('XRP', 'BCH'), ('XRP', 'MTL'), ('XRP', 'RVN'), ('ZEC', 'STEEM'), ('ZEN', 'FUN'), ('ZIL', 'MTL'), ('ZRX', 'MED')]\n",
      "Number of pairs to be traded: 74\n",
      "Pairs Updated date: 2021-01-01\n",
      "Final pairs to be traded: [('ADA', 'BORG'), ('ADA', 'MED'), ('ADA', 'MKR'), ('ADX', 'BTG'), ('AMB', 'BTG'), ('ANT', 'IDEX'), ('ANT', 'SWFTC'), ('ARK', 'FUN'), ('ARK', 'SYS'), ('BAT', 'DENT'), ('BCH', 'DASH'), ('BLZ', 'BTG'), ('BNB', 'MED'), ('BTC', 'MTL'), ('CTXC', 'SWFTC'), ('CVC', 'BTG'), ('DCR', 'SWFTC'), ('DGB', 'MED'), ('ELF', 'GFT'), ('ENJ', 'GFT'), ('EOS', 'SWFTC'), ('ETC', 'BTG'), ('GAS', 'FUN'), ('GAS', 'MTL'), ('GLM', 'BTG'), ('GNO', 'MDT'), ('GNO', 'MED'), ('ICX', 'FUN'), ('IOTA', 'DENT'), ('LINK', 'DENT'), ('LINK', 'MED'), ('LINK', 'STMX'), ('LRC', 'DENT'), ('LSK', 'MTL'), ('LTC', 'STEEM'), ('MANA', 'MED'), ('MLN', 'MDT'), ('MLN', 'UTK'), ('NEO', 'MED'), ('NMR', 'SNT'), ('OMG', 'FUN'), ('ONT', 'BTG'), ('ONT', 'DENT'), ('ONT', 'VIB'), ('PIVX', 'FUN'), ('POWR', 'BTG'), ('PRO', 'BTG'), ('QTUM', 'ARDR'), ('QTUM', 'DENT'), ('QTUM', 'GFT'), ('QTUM', 'IOST'), ('REN', 'DENT'), ('RLC', 'FUN'), ('RVN', 'BTG'), ('SBD', 'SWFTC'), ('SNX', 'DENT'), ('STEEM', 'BTG'), ('STORJ', 'MED'), ('STRAX', 'FUN'), ('STRAX', 'REQ'), ('THETA', 'MED'), ('TRAC', 'MDT'), ('TRX', 'BTG'), ('UQC', 'SWFTC'), ('VGX', 'MED'), ('VIC', 'FUN'), ('WAVES', 'DENT'), ('WAVES', 'XEM'), ('WAXP', 'BTG'), ('XDC', 'BTG'), ('XLM', 'MED'), ('XMR', 'STEEM'), ('XNO', 'FUN'), ('XRP', 'DASH'), ('XRP', 'DOGE'), ('XVG', 'MTL'), ('ZEC', 'ELF'), ('ZEN', 'BTG'), ('ZIL', 'BTG'), ('ZRX', 'DENT')]\n",
      "Number of pairs to be traded: 80\n",
      "Pairs Updated date: 2021-07-01\n",
      "Final pairs to be traded: [('ADA', 'MLN'), ('ADX', 'UTK'), ('AMB', 'BLZ'), ('ARK', 'VIB'), ('BAT', 'SYS'), ('BCH', 'GFT'), ('BNB', 'MANA'), ('BNB', 'MLN'), ('BTC', 'CVC'), ('CTXC', 'PIVX'), ('CTXC', 'REQ'), ('DASH', 'SNT'), ('DENT', 'MTL'), ('DOGE', 'RLC'), ('ELF', 'ARDR'), ('ELF', 'ICX'), ('ELF', 'IOTA'), ('ELF', 'MDT'), ('ELF', 'PIVX'), ('ELF', 'SNT'), ('ELF', 'VIB'), ('ENJ', 'DENT'), ('ENJ', 'STRAX'), ('EOS', 'PRO'), ('ETC', 'RLC'), ('GAS', 'STRAX'), ('GLM', 'TRAC'), ('GNO', 'SBD'), ('IOST', 'ICX'), ('LINK', 'UTK'), ('LRC', 'REN'), ('LSK', 'SYS'), ('LTC', 'XLM'), ('MED', 'MTL'), ('MKR', 'XNO'), ('NEO', 'OMG'), ('NMR', 'ANT'), ('NMR', 'IDEX'), ('NMR', 'SWFTC'), ('ONT', 'NMR'), ('ONT', 'NULS'), ('POWR', 'PIVX'), ('PRO', 'STRAX'), ('QTUM', 'BTG'), ('QTUM', 'MTL'), ('RLC', 'PRO'), ('RVN', 'VIC'), ('SNX', 'LRC'), ('STEEM', 'SYS'), ('STMX', 'MTL'), ('STMX', 'WAXP'), ('STORJ', 'OMG'), ('STORJ', 'UQC'), ('THETA', 'GNO'), ('THETA', 'WAVES'), ('TRX', 'MANA'), ('VGX', 'BORG'), ('VGX', 'FUN'), ('XDC', 'MLN'), ('XLM', 'BORG'), ('XLM', 'CVC'), ('XLM', 'ZIL'), ('XMR', 'SBD'), ('XRP', 'EOS'), ('XVG', 'DCR'), ('XVG', 'UTK'), ('ZEC', 'DGB'), ('ZEN', 'XNO'), ('ZIL', 'SBD'), ('ZRX', 'UTK')]\n",
      "Number of pairs to be traded: 70\n",
      "Pairs Updated date: 2022-01-01\n",
      "Final pairs to be traded: [('ADA', 'STRAX'), ('ADX', 'SNT'), ('AMB', 'XNO'), ('ANT', 'CTXC'), ('ANT', 'NULS'), ('ARK', 'XNO'), ('BAT', 'CTXC'), ('BAT', 'POWR'), ('BCH', 'XNO'), ('BLZ', 'UTK'), ('BNB', 'ENJ'), ('BTC', 'VGX'), ('BTG', 'MTL'), ('BTG', 'UQC'), ('CTXC', 'SYS'), ('CVC', 'ICX'), ('CVC', 'IOST'), ('DASH', 'XNO'), ('DENT', 'ARDR'), ('DENT', 'MTL'), ('DGB', 'XNO'), ('DOGE', 'RLC'), ('ELF', 'VGX'), ('EOS', 'XNO'), ('ETC', 'VGX'), ('GAS', 'XNO'), ('GLM', 'VIC'), ('GNO', 'FUN'), ('IOTA', 'CTXC'), ('LINK', 'VGX'), ('LRC', 'CTXC'), ('LSK', 'XNO'), ('LTC', 'MKR'), ('LTC', 'VGX'), ('LTC', 'XLM'), ('MANA', 'CTXC'), ('MED', 'MTL'), ('MTL', 'STRAX'), ('NEO', 'XNO'), ('NMR', 'SNT'), ('OMG', 'XNO'), ('ONT', 'SNT'), ('PIVX', 'BORG'), ('PIVX', 'VIB'), ('PRO', 'CTXC'), ('QTUM', 'ZEN'), ('REN', 'VIC'), ('REQ', 'IDEX'), ('RVN', 'BORG'), ('SNX', 'VGX'), ('STEEM', 'VGX'), ('STMX', 'DENT'), ('STORJ', 'ENJ'), ('STORJ', 'GFT'), ('THETA', 'SBD'), ('TRAC', 'CTXC'), ('TRX', 'QTUM'), ('WAVES', 'MLN'), ('WAXP', 'REQ'), ('XDC', 'MLN'), ('XEM', 'FUN'), ('XMR', 'VGX'), ('XRP', 'ZEN'), ('XVG', 'DCR'), ('XVG', 'SWFTC'), ('ZEC', 'GFT'), ('ZIL', 'FUN'), ('ZIL', 'UTK'), ('ZRX', 'XNO')]\n",
      "Number of pairs to be traded: 69\n",
      "Pairs Updated date: 2022-07-01\n",
      "Final pairs to be traded: [('ADA', 'STEEM'), ('ANT', 'REQ'), ('ARK', 'BLZ'), ('BAT', 'CTXC'), ('BCH', 'XEM'), ('BNB', 'GLM'), ('BTC', 'GLM'), ('CVC', 'ARDR'), ('CVC', 'OMG'), ('DASH', 'MED'), ('DASH', 'ONT'), ('DASH', 'SNT'), ('DASH', 'XEM'), ('DENT', 'UTK'), ('DGB', 'BTG'), ('DGB', 'XNO'), ('DOGE', 'EOS'), ('ELF', 'CVC'), ('ENJ', 'GFT'), ('EOS', 'XDC'), ('EOS', 'XNO'), ('ETC', 'SNX'), ('GAS', 'SBD'), ('GFT', 'NULS'), ('GLM', 'WAVES'), ('GNO', 'REQ'), ('IOST', 'MTL'), ('LINK', 'IOTA'), ('LINK', 'RVN'), ('LRC', 'REQ'), ('LSK', 'BTG'), ('LTC', 'ADX'), ('LTC', 'ARK'), ('MANA', 'MDT'), ('MED', 'VIB'), ('MKR', 'BORG'), ('MKR', 'XVG'), ('MLN', 'VIB'), ('NEO', 'DGB'), ('NMR', 'XEM'), ('POWR', 'REQ'), ('QTUM', 'UTK'), ('REN', 'ICX'), ('REQ', 'IDEX'), ('RVN', 'UTK'), ('SBD', 'STRAX'), ('SNX', 'DCR'), ('SNX', 'FUN'), ('STEEM', 'MLN'), ('STEEM', 'ZRX'), ('STMX', 'MLN'), ('STORJ', 'GFT'), ('SYS', 'MDT'), ('THETA', 'AMB'), ('THETA', 'RLC'), ('TRX', 'MTL'), ('UQC', 'STRAX'), ('VGX', 'GLM'), ('VIC', 'XVG'), ('WAXP', 'REQ'), ('WAXP', 'TRAC'), ('XLM', 'RLC'), ('XMR', 'ZIL'), ('XNO', 'PIVX'), ('XRP', 'ARDR'), ('ZEC', 'GFT'), ('ZEN', 'MED')]\n",
      "Number of pairs to be traded: 67\n",
      "Pairs Updated date: 2023-01-01\n",
      "Final pairs to be traded: [('ADA', 'MKR'), ('ADA', 'TRX'), ('ADX', 'FUN'), ('AMB', 'PIVX'), ('ANT', 'BORG'), ('ANT', 'FUN'), ('ARK', 'FUN'), ('ARK', 'IOST'), ('BAT', 'FUN'), ('BCH', 'TRAC'), ('BTC', 'GFT'), ('CVC', 'FUN'), ('DASH', 'CTXC'), ('DASH', 'TRAC'), ('DOGE', 'XMR'), ('ELF', 'MLN'), ('ELF', 'NULS'), ('ENJ', 'FUN'), ('EOS', 'FUN'), ('EOS', 'XMR'), ('ETC', 'GFT'), ('GAS', 'FUN'), ('GLM', 'FUN'), ('ICX', 'FUN'), ('IOTA', 'FUN'), ('LINK', 'DENT'), ('LRC', 'FUN'), ('LSK', 'FUN'), ('LSK', 'SNT'), ('LTC', 'ANT'), ('MANA', 'FUN'), ('MLN', 'MDT'), ('MTL', 'FUN'), ('NEO', 'ARDR'), ('NEO', 'BLZ'), ('NEO', 'FUN'), ('NEO', 'GFT'), ('NEO', 'XEM'), ('NEO', 'XVG'), ('NMR', 'REQ'), ('OMG', 'FUN'), ('ONT', 'DCR'), ('ONT', 'FUN'), ('POWR', 'FUN'), ('POWR', 'IDEX'), ('PRO', 'FUN'), ('QTUM', 'DGB'), ('QTUM', 'FUN'), ('QTUM', 'MED'), ('QTUM', 'STMX'), ('REN', 'FUN'), ('REQ', 'IDEX'), ('RLC', 'FUN'), ('RVN', 'FUN'), ('SBD', 'FUN'), ('SNX', 'BTG'), ('SNX', 'FUN'), ('SNX', 'SWFTC'), ('STEEM', 'FUN'), ('STORJ', 'FUN'), ('STRAX', 'FUN'), ('SYS', 'FUN'), ('THETA', 'DENT'), ('TRAC', 'FUN'), ('UQC', 'SWFTC'), ('UTK', 'FUN'), ('VGX', 'FUN'), ('VIC', 'FUN'), ('WAVES', 'FUN'), ('WAXP', 'FUN'), ('XDC', 'FUN'), ('XLM', 'FUN'), ('XNO', 'FUN'), ('XRP', 'BNB'), ('ZEC', 'FUN'), ('ZEN', 'FUN'), ('ZIL', 'FUN'), ('ZRX', 'FUN'), ('ZRX', 'GNO')]\n",
      "Number of pairs to be traded: 79\n",
      "Pairs Updated date: 2023-07-01\n",
      "Final pairs to be traded: [('ADA', 'LINK'), ('ADA', 'MKR'), ('ANT', 'FUN'), ('ARDR', 'XEM'), ('ARK', 'WAXP'), ('ARK', 'XEM'), ('BAT', 'MLN'), ('BLZ', 'ARDR'), ('BTC', 'DOGE'), ('CVC', 'ARK'), ('DOGE', 'XMR'), ('ELF', 'GAS'), ('ENJ', 'DENT'), ('ENJ', 'POWR'), ('EOS', 'ETC'), ('EOS', 'MKR'), ('EOS', 'RVN'), ('EOS', 'XMR'), ('GAS', 'NULS'), ('GAS', 'TRAC'), ('GFT', 'DENT'), ('GFT', 'PIVX'), ('GLM', 'MED'), ('IOTA', 'CVC'), ('LRC', 'MLN'), ('LRC', 'NMR'), ('LSK', 'MLN'), ('LSK', 'SYS'), ('LTC', 'XVG'), ('MANA', 'DENT'), ('MANA', 'IOST'), ('MANA', 'SNT'), ('MANA', 'ZIL'), ('MTL', 'IDEX'), ('MTL', 'SNT'), ('NEO', 'DENT'), ('OMG', 'FUN'), ('OMG', 'REQ'), ('OMG', 'XVG'), ('PRO', 'DCR'), ('QTUM', 'ADX'), ('QTUM', 'DENT'), ('QTUM', 'ICX'), ('QTUM', 'ONT'), ('REN', 'STMX'), ('REN', 'UTK'), ('RLC', 'CTXC'), ('RLC', 'SWFTC'), ('SBD', 'XNO'), ('SNX', 'DENT'), ('SNX', 'GNO'), ('STEEM', 'IOST'), ('STORJ', 'XEM'), ('STORJ', 'ZEN'), ('THETA', 'DENT'), ('THETA', 'DGB'), ('THETA', 'MED'), ('THETA', 'MLN'), ('THETA', 'XEM'), ('TRAC', 'MDT'), ('UQC', 'REQ'), ('VGX', 'AMB'), ('VGX', 'XVG'), ('VIB', 'IDEX'), ('VIC', 'BORG'), ('WAVES', 'BTG'), ('WAVES', 'STMX'), ('WAVES', 'SWFTC'), ('XLM', 'XMR'), ('XNO', 'STRAX'), ('XRP', 'BCH'), ('XRP', 'BNB'), ('XRP', 'DASH'), ('XRP', 'TRX'), ('XRP', 'XDC'), ('XRP', 'XMR'), ('ZEC', 'REQ'), ('ZRX', 'DENT')]\n",
      "Number of pairs to be traded: 78\n",
      "Pairs Updated date: 2024-01-01\n",
      "Final pairs to be traded: [('ADA', 'IOTA'), ('AMB', 'VIC'), ('ANT', 'XVG'), ('ARDR', 'BORG'), ('ARK', 'MTL'), ('BAT', 'NMR'), ('BCH', 'MTL'), ('BCH', 'XLM'), ('BLZ', 'MTL'), ('BNB', 'REN'), ('BTC', 'MTL'), ('CTXC', 'XNO'), ('DASH', 'REN'), ('DENT', 'ADX'), ('DGB', 'REQ'), ('DOGE', 'UQC'), ('DOGE', 'XMR'), ('ELF', 'MTL'), ('ENJ', 'REQ'), ('ENJ', 'RVN'), ('EOS', 'REN'), ('ETC', 'REQ'), ('GFT', 'NMR'), ('GLM', 'CVC'), ('GNO', 'GAS'), ('IOST', 'PIVX'), ('IOTA', 'CTXC'), ('IOTA', 'UQC'), ('LINK', 'SNT'), ('LINK', 'STORJ'), ('LRC', 'REN'), ('LSK', 'ARDR'), ('LTC', 'MKR'), ('MANA', 'REQ'), ('MANA', 'VIC'), ('MED', 'REQ'), ('MKR', 'MTL'), ('MKR', 'XVG'), ('MLN', 'DCR'), ('NEO', 'ICX'), ('NEO', 'PIVX'), ('NMR', 'FUN'), ('NMR', 'NULS'), ('NMR', 'PIVX'), ('NMR', 'VIB'), ('ONT', 'PIVX'), ('POWR', 'SNT'), ('PRO', 'NULS'), ('REN', 'SYS'), ('RLC', 'REQ'), ('SBD', 'SNT'), ('SNX', 'ZRX'), ('STEEM', 'QTUM'), ('STMX', 'XVG'), ('STRAX', 'SNT'), ('SWFTC', 'MDT'), ('THETA', 'PIVX'), ('TRAC', 'MDT'), ('TRX', 'MTL'), ('VGX', 'VIC'), ('WAVES', 'BTG'), ('WAXP', 'ADX'), ('XDC', 'XVG'), ('XEM', 'PIVX'), ('XRP', 'MTL'), ('XVG', 'IDEX'), ('ZEC', 'VIC'), ('ZEN', 'CVC'), ('ZIL', 'OMG'), ('ZIL', 'REQ'), ('ZIL', 'UTK'), ('ZRX', 'GAS')]\n",
      "Number of pairs to be traded: 72\n",
      "Pairs Updated date: 2024-07-01\n",
      "Final pairs to be traded: [('ADA', 'IOTA'), ('AMB', 'STMX'), ('ARDR', 'MTL'), ('BAT', 'MDT'), ('BCH', 'NULS'), ('BCH', 'PRO'), ('BNB', 'XDC'), ('BTC', 'REQ'), ('BTG', 'REQ'), ('DASH', 'STMX'), ('DCR', 'MDT'), ('DENT', 'ADX'), ('DGB', 'MLN'), ('DGB', 'SYS'), ('DOGE', 'REQ'), ('ELF', 'GFT'), ('ENJ', 'IOST'), ('ENJ', 'LRC'), ('EOS', 'ZIL'), ('ETC', 'RLC'), ('ETC', 'XNO'), ('GLM', 'REQ'), ('GNO', 'UQC'), ('IOST', 'OMG'), ('IOTA', 'CTXC'), ('IOTA', 'FUN'), ('LINK', 'UQC'), ('LSK', 'PIVX'), ('LTC', 'XVG'), ('MANA', 'STMX'), ('MED', 'IOST'), ('MKR', 'ANT'), ('MKR', 'GLM'), ('NEO', 'PIVX'), ('NEO', 'VIB'), ('NMR', 'RLC'), ('OMG', 'ICX'), ('ONT', 'LSK'), ('POWR', 'SNT'), ('RVN', 'SYS'), ('RVN', 'XVG'), ('SBD', 'SNT'), ('SNX', 'FUN'), ('STEEM', 'BORG'), ('STEEM', 'PIVX'), ('STEEM', 'QTUM'), ('STORJ', 'ARK'), ('STORJ', 'BLZ'), ('STORJ', 'GAS'), ('SWFTC', 'REQ'), ('THETA', 'REQ'), ('TRAC', 'UQC'), ('TRX', 'GFT'), ('UTK', 'IDEX'), ('VGX', 'XDC'), ('WAVES', 'IOST'), ('WAVES', 'XEM'), ('WAXP', 'ARDR'), ('XMR', 'XVG'), ('XRP', 'ZEC'), ('ZEC', 'XLM'), ('ZEN', 'MTL'), ('ZIL', 'IDEX'), ('ZIL', 'REN'), ('ZRX', 'ADX'), ('ZRX', 'CVC'), ('ZRX', 'PIVX')]\n",
      "Number of pairs to be traded: 67\n",
      "Evaluating with exit threshold: 0.5\n",
      "Pairs Updated date: 2019-01-01\n",
      "Final pairs to be traded: [('ADA', 'MDT'), ('AMB', 'BLZ'), ('ARK', 'ANT'), ('ARK', 'SBD'), ('BAT', 'SWFTC'), ('BCH', 'DCR'), ('BCH', 'XMR'), ('BNB', 'DCR'), ('BTC', 'MKR'), ('CTXC', 'PIVX'), ('CVC', 'MDT'), ('DOGE', 'SWFTC'), ('ELF', 'CTXC'), ('ELF', 'RLC'), ('ELF', 'STORJ'), ('ENJ', 'BORG'), ('ENJ', 'MED'), ('ENJ', 'REN'), ('ENJ', 'RVN'), ('EOS', 'ZEN'), ('ETC', 'GNO'), ('ETC', 'ZEN'), ('GFT', 'BLZ'), ('GFT', 'POWR'), ('GLM', 'BLZ'), ('LINK', 'BTG'), ('LRC', 'ADX'), ('LTC', 'ZEC'), ('MANA', 'DGB'), ('MED', 'DENT'), ('MTL', 'ICX'), ('NEO', 'GNO'), ('NMR', 'MLN'), ('OMG', 'LSK'), ('ONT', 'GAS'), ('QTUM', 'GAS'), ('QTUM', 'LSK'), ('SNT', 'MDT'), ('SNX', 'SYS'), ('STEEM', 'ICX'), ('STEEM', 'NULS'), ('STMX', 'IOST'), ('STMX', 'XVG'), ('STORJ', 'LRC'), ('STORJ', 'PRO'), ('SWFTC', 'IDEX'), ('THETA', 'SWFTC'), ('THETA', 'TRAC'), ('THETA', 'ZIL'), ('TRX', 'MANA'), ('UQC', 'STRAX'), ('UTK', 'MDT'), ('VGX', 'IOTA'), ('VIB', 'MDT'), ('WAVES', 'MLN'), ('WAXP', 'ARDR'), ('WAXP', 'FUN'), ('WAXP', 'MDT'), ('XDC', 'VIC'), ('XEM', 'MDT'), ('XEM', 'REQ'), ('XLM', 'IOST'), ('XMR', 'BTG'), ('XMR', 'DASH'), ('XNO', 'STRAX'), ('XRP', 'UTK'), ('ZEC', 'DASH'), ('ZRX', 'SBD')]\n",
      "Number of pairs to be traded: 68\n",
      "Pairs Updated date: 2019-07-01\n",
      "Final pairs to be traded: [('ADA', 'GNO'), ('ADA', 'IOST'), ('ADA', 'SWFTC'), ('ADX', 'SYS'), ('AMB', 'XDC'), ('ANT', 'SYS'), ('ARDR', 'CTXC'), ('ARK', 'SYS'), ('BAT', 'MED'), ('BCH', 'XMR'), ('BCH', 'XNO'), ('BNB', 'MKR'), ('BTC', 'REN'), ('BTC', 'SNX'), ('BTC', 'UTK'), ('CTXC', 'NULS'), ('CVC', 'PRO'), ('CVC', 'SYS'), ('DASH', 'GNO'), ('DGB', 'BLZ'), ('DGB', 'FUN'), ('DGB', 'ICX'), ('DGB', 'IOTA'), ('DGB', 'XVG'), ('DOGE', 'VGX'), ('ELF', 'GNO'), ('ENJ', 'MED'), ('EOS', 'VIB'), ('ETC', 'XMR'), ('GFT', 'SYS'), ('GLM', 'BLZ'), ('GLM', 'OMG'), ('GNO', 'MTL'), ('ICX', 'SYS'), ('IOTA', 'DENT'), ('LINK', 'MED'), ('LRC', 'SYS'), ('LSK', 'SYS'), ('LTC', 'MED'), ('MANA', 'TRAC'), ('MANA', 'XEM'), ('MED', 'MLN'), ('NEO', 'GNO'), ('NEO', 'IDEX'), ('NMR', 'RLC'), ('ONT', 'MTL'), ('POWR', 'SYS'), ('QTUM', 'GNO'), ('RLC', 'BORG'), ('SBD', 'MDT'), ('SNT', 'SYS'), ('STEEM', 'GAS'), ('STORJ', 'BORG'), ('STORJ', 'MED'), ('SWFTC', 'VIB'), ('THETA', 'SBD'), ('TRX', 'MED'), ('UQC', 'STRAX'), ('VGX', 'PIVX'), ('WAXP', 'SWFTC'), ('XDC', 'PIVX'), ('XLM', 'STEEM'), ('XLM', 'WAVES'), ('XMR', 'MANA'), ('XRP', 'MED'), ('ZEC', 'XMR'), ('ZEN', 'DCR'), ('ZEN', 'GNO'), ('ZIL', 'STRAX'), ('ZRX', 'REQ'), ('ZRX', 'STMX')]\n",
      "Number of pairs to be traded: 71\n",
      "Pairs Updated date: 2020-01-01\n",
      "Final pairs to be traded: [('ADA', 'VIC'), ('ADX', 'SYS'), ('ADX', 'XVG'), ('AMB', 'UQC'), ('ANT', 'UQC'), ('ARDR', 'MTL'), ('BAT', 'NMR'), ('BCH', 'XMR'), ('BNB', 'XMR'), ('BTC', 'UQC'), ('BTG', 'XEM'), ('DASH', 'PRO'), ('DGB', 'BLZ'), ('DGB', 'CVC'), ('DGB', 'GAS'), ('DGB', 'GLM'), ('DGB', 'ICX'), ('DGB', 'OMG'), ('DGB', 'SBD'), ('DGB', 'SNT'), ('DOGE', 'XMR'), ('ELF', 'DGB'), ('ELF', 'STORJ'), ('ENJ', 'VIC'), ('EOS', 'MTL'), ('ETC', 'MED'), ('ETC', 'XMR'), ('FUN', 'MDT'), ('GFT', 'POWR'), ('IOST', 'VIC'), ('LINK', 'MLN'), ('LRC', 'PIVX'), ('LRC', 'STMX'), ('LRC', 'WAVES'), ('LSK', 'SNT'), ('LTC', 'GNO'), ('LTC', 'XMR'), ('MANA', 'DGB'), ('MDT', 'BORG'), ('MKR', 'UQC'), ('NEO', 'UQC'), ('NMR', 'UQC'), ('OMG', 'CTXC'), ('OMG', 'NULS'), ('ONT', 'MTL'), ('QTUM', 'ARDR'), ('REN', 'MDT'), ('REQ', 'MDT'), ('RLC', 'UQC'), ('RVN', 'MTL'), ('SNT', 'IDEX'), ('SNX', 'MLN'), ('STEEM', 'ARK'), ('STEEM', 'PIVX'), ('STEEM', 'STRAX'), ('THETA', 'UQC'), ('TRAC', 'UQC'), ('TRX', 'DENT'), ('UTK', 'NULS'), ('VGX', 'MDT'), ('VIB', 'MDT'), ('VIC', 'UQC'), ('WAXP', 'PRO'), ('XDC', 'UQC'), ('XEM', 'DCR'), ('XLM', 'ELF'), ('XNO', 'SWFTC'), ('XRP', 'IOTA'), ('ZEC', 'IDEX'), ('ZEN', 'UQC'), ('ZIL', 'LRC'), ('ZRX', 'MDT')]\n",
      "Number of pairs to be traded: 72\n",
      "Pairs Updated date: 2020-07-01\n",
      "Final pairs to be traded: [('ADA', 'MTL'), ('AMB', 'MTL'), ('ANT', 'FUN'), ('ARK', 'CTXC'), ('BLZ', 'UTK'), ('BNB', 'ARDR'), ('BNB', 'DOGE'), ('BNB', 'TRX'), ('BTC', 'MTL'), ('BTG', 'SWFTC'), ('BTG', 'XEM'), ('CVC', 'MTL'), ('DASH', 'STEEM'), ('DCR', 'VIB'), ('DENT', 'MTL'), ('DGB', 'MTL'), ('ELF', 'GAS'), ('ENJ', 'MED'), ('EOS', 'SWFTC'), ('ETC', 'MANA'), ('GAS', 'SYS'), ('GFT', 'MTL'), ('GLM', 'MTL'), ('GNO', 'SYS'), ('ICX', 'SWFTC'), ('IOTA', 'MTL'), ('LINK', 'MED'), ('LRC', 'MTL'), ('LSK', 'MDT'), ('LSK', 'SWFTC'), ('LTC', 'ARDR'), ('MKR', 'MTL'), ('MLN', 'REQ'), ('MLN', 'SYS'), ('NEO', 'ADX'), ('NEO', 'BAT'), ('NMR', 'FUN'), ('OMG', 'SYS'), ('OMG', 'XVG'), ('ONT', 'DCR'), ('ONT', 'IOST'), ('POWR', 'ANT'), ('PRO', 'MTL'), ('QTUM', 'ARDR'), ('QTUM', 'IOST'), ('REN', 'STMX'), ('RLC', 'FUN'), ('SBD', 'IDEX'), ('SBD', 'SNT'), ('SNX', 'MED'), ('STEEM', 'PIVX'), ('STMX', 'CTXC'), ('STORJ', 'MTL'), ('STRAX', 'SYS'), ('THETA', 'GNO'), ('TRAC', 'MTL'), ('UQC', 'BORG'), ('UQC', 'FUN'), ('UTK', 'NULS'), ('VGX', 'MTL'), ('VIC', 'FUN'), ('WAVES', 'SWFTC'), ('WAXP', 'MTL'), ('XDC', 'MTL'), ('XLM', 'MTL'), ('XMR', 'MTL'), ('XNO', 'FUN'), ('XRP', 'BCH'), ('XRP', 'MTL'), ('XRP', 'RVN'), ('ZEC', 'STEEM'), ('ZEN', 'FUN'), ('ZIL', 'MTL'), ('ZRX', 'MED')]\n",
      "Number of pairs to be traded: 74\n",
      "Pairs Updated date: 2021-01-01\n",
      "Final pairs to be traded: [('ADA', 'BORG'), ('ADA', 'MED'), ('ADA', 'MKR'), ('ADX', 'BTG'), ('AMB', 'BTG'), ('ANT', 'IDEX'), ('ANT', 'SWFTC'), ('ARK', 'FUN'), ('ARK', 'SYS'), ('BAT', 'DENT'), ('BCH', 'DASH'), ('BLZ', 'BTG'), ('BNB', 'MED'), ('BTC', 'MTL'), ('CTXC', 'SWFTC'), ('CVC', 'BTG'), ('DCR', 'SWFTC'), ('DGB', 'MED'), ('ELF', 'GFT'), ('ENJ', 'GFT'), ('EOS', 'SWFTC'), ('ETC', 'BTG'), ('GAS', 'FUN'), ('GAS', 'MTL'), ('GLM', 'BTG'), ('GNO', 'MDT'), ('GNO', 'MED'), ('ICX', 'FUN'), ('IOTA', 'DENT'), ('LINK', 'DENT'), ('LINK', 'MED'), ('LINK', 'STMX'), ('LRC', 'DENT'), ('LSK', 'MTL'), ('LTC', 'STEEM'), ('MANA', 'MED'), ('MLN', 'MDT'), ('MLN', 'UTK'), ('NEO', 'MED'), ('NMR', 'SNT'), ('OMG', 'FUN'), ('ONT', 'BTG'), ('ONT', 'DENT'), ('ONT', 'VIB'), ('PIVX', 'FUN'), ('POWR', 'BTG'), ('PRO', 'BTG'), ('QTUM', 'ARDR'), ('QTUM', 'DENT'), ('QTUM', 'GFT'), ('QTUM', 'IOST'), ('REN', 'DENT'), ('RLC', 'FUN'), ('RVN', 'BTG'), ('SBD', 'SWFTC'), ('SNX', 'DENT'), ('STEEM', 'BTG'), ('STORJ', 'MED'), ('STRAX', 'FUN'), ('STRAX', 'REQ'), ('THETA', 'MED'), ('TRAC', 'MDT'), ('TRX', 'BTG'), ('UQC', 'SWFTC'), ('VGX', 'MED'), ('VIC', 'FUN'), ('WAVES', 'DENT'), ('WAVES', 'XEM'), ('WAXP', 'BTG'), ('XDC', 'BTG'), ('XLM', 'MED'), ('XMR', 'STEEM'), ('XNO', 'FUN'), ('XRP', 'DASH'), ('XRP', 'DOGE'), ('XVG', 'MTL'), ('ZEC', 'ELF'), ('ZEN', 'BTG'), ('ZIL', 'BTG'), ('ZRX', 'DENT')]\n",
      "Number of pairs to be traded: 80\n",
      "Pairs Updated date: 2021-07-01\n",
      "Final pairs to be traded: [('ADA', 'MLN'), ('ADX', 'UTK'), ('AMB', 'BLZ'), ('ARK', 'VIB'), ('BAT', 'SYS'), ('BCH', 'GFT'), ('BNB', 'MANA'), ('BNB', 'MLN'), ('BTC', 'CVC'), ('CTXC', 'PIVX'), ('CTXC', 'REQ'), ('DASH', 'SNT'), ('DENT', 'MTL'), ('DOGE', 'RLC'), ('ELF', 'ARDR'), ('ELF', 'ICX'), ('ELF', 'IOTA'), ('ELF', 'MDT'), ('ELF', 'PIVX'), ('ELF', 'SNT'), ('ELF', 'VIB'), ('ENJ', 'DENT'), ('ENJ', 'STRAX'), ('EOS', 'PRO'), ('ETC', 'RLC'), ('GAS', 'STRAX'), ('GLM', 'TRAC'), ('GNO', 'SBD'), ('IOST', 'ICX'), ('LINK', 'UTK'), ('LRC', 'REN'), ('LSK', 'SYS'), ('LTC', 'XLM'), ('MED', 'MTL'), ('MKR', 'XNO'), ('NEO', 'OMG'), ('NMR', 'ANT'), ('NMR', 'IDEX'), ('NMR', 'SWFTC'), ('ONT', 'NMR'), ('ONT', 'NULS'), ('POWR', 'PIVX'), ('PRO', 'STRAX'), ('QTUM', 'BTG'), ('QTUM', 'MTL'), ('RLC', 'PRO'), ('RVN', 'VIC'), ('SNX', 'LRC'), ('STEEM', 'SYS'), ('STMX', 'MTL'), ('STMX', 'WAXP'), ('STORJ', 'OMG'), ('STORJ', 'UQC'), ('THETA', 'GNO'), ('THETA', 'WAVES'), ('TRX', 'MANA'), ('VGX', 'BORG'), ('VGX', 'FUN'), ('XDC', 'MLN'), ('XLM', 'BORG'), ('XLM', 'CVC'), ('XLM', 'ZIL'), ('XMR', 'SBD'), ('XRP', 'EOS'), ('XVG', 'DCR'), ('XVG', 'UTK'), ('ZEC', 'DGB'), ('ZEN', 'XNO'), ('ZIL', 'SBD'), ('ZRX', 'UTK')]\n",
      "Number of pairs to be traded: 70\n",
      "Pairs Updated date: 2022-01-01\n",
      "Final pairs to be traded: [('ADA', 'STRAX'), ('ADX', 'SNT'), ('AMB', 'XNO'), ('ANT', 'CTXC'), ('ANT', 'NULS'), ('ARK', 'XNO'), ('BAT', 'CTXC'), ('BAT', 'POWR'), ('BCH', 'XNO'), ('BLZ', 'UTK'), ('BNB', 'ENJ'), ('BTC', 'VGX'), ('BTG', 'MTL'), ('BTG', 'UQC'), ('CTXC', 'SYS'), ('CVC', 'ICX'), ('CVC', 'IOST'), ('DASH', 'XNO'), ('DENT', 'ARDR'), ('DENT', 'MTL'), ('DGB', 'XNO'), ('DOGE', 'RLC'), ('ELF', 'VGX'), ('EOS', 'XNO'), ('ETC', 'VGX'), ('GAS', 'XNO'), ('GLM', 'VIC'), ('GNO', 'FUN'), ('IOTA', 'CTXC'), ('LINK', 'VGX'), ('LRC', 'CTXC'), ('LSK', 'XNO'), ('LTC', 'MKR'), ('LTC', 'VGX'), ('LTC', 'XLM'), ('MANA', 'CTXC'), ('MED', 'MTL'), ('MTL', 'STRAX'), ('NEO', 'XNO'), ('NMR', 'SNT'), ('OMG', 'XNO'), ('ONT', 'SNT'), ('PIVX', 'BORG'), ('PIVX', 'VIB'), ('PRO', 'CTXC'), ('QTUM', 'ZEN'), ('REN', 'VIC'), ('REQ', 'IDEX'), ('RVN', 'BORG'), ('SNX', 'VGX'), ('STEEM', 'VGX'), ('STMX', 'DENT'), ('STORJ', 'ENJ'), ('STORJ', 'GFT'), ('THETA', 'SBD'), ('TRAC', 'CTXC'), ('TRX', 'QTUM'), ('WAVES', 'MLN'), ('WAXP', 'REQ'), ('XDC', 'MLN'), ('XEM', 'FUN'), ('XMR', 'VGX'), ('XRP', 'ZEN'), ('XVG', 'DCR'), ('XVG', 'SWFTC'), ('ZEC', 'GFT'), ('ZIL', 'FUN'), ('ZIL', 'UTK'), ('ZRX', 'XNO')]\n",
      "Number of pairs to be traded: 69\n",
      "Pairs Updated date: 2022-07-01\n",
      "Final pairs to be traded: [('ADA', 'STEEM'), ('ANT', 'REQ'), ('ARK', 'BLZ'), ('BAT', 'CTXC'), ('BCH', 'XEM'), ('BNB', 'GLM'), ('BTC', 'GLM'), ('CVC', 'ARDR'), ('CVC', 'OMG'), ('DASH', 'MED'), ('DASH', 'ONT'), ('DASH', 'SNT'), ('DASH', 'XEM'), ('DENT', 'UTK'), ('DGB', 'BTG'), ('DGB', 'XNO'), ('DOGE', 'EOS'), ('ELF', 'CVC'), ('ENJ', 'GFT'), ('EOS', 'XDC'), ('EOS', 'XNO'), ('ETC', 'SNX'), ('GAS', 'SBD'), ('GFT', 'NULS'), ('GLM', 'WAVES'), ('GNO', 'REQ'), ('IOST', 'MTL'), ('LINK', 'IOTA'), ('LINK', 'RVN'), ('LRC', 'REQ'), ('LSK', 'BTG'), ('LTC', 'ADX'), ('LTC', 'ARK'), ('MANA', 'MDT'), ('MED', 'VIB'), ('MKR', 'BORG'), ('MKR', 'XVG'), ('MLN', 'VIB'), ('NEO', 'DGB'), ('NMR', 'XEM'), ('POWR', 'REQ'), ('QTUM', 'UTK'), ('REN', 'ICX'), ('REQ', 'IDEX'), ('RVN', 'UTK'), ('SBD', 'STRAX'), ('SNX', 'DCR'), ('SNX', 'FUN'), ('STEEM', 'MLN'), ('STEEM', 'ZRX'), ('STMX', 'MLN'), ('STORJ', 'GFT'), ('SYS', 'MDT'), ('THETA', 'AMB'), ('THETA', 'RLC'), ('TRX', 'MTL'), ('UQC', 'STRAX'), ('VGX', 'GLM'), ('VIC', 'XVG'), ('WAXP', 'REQ'), ('WAXP', 'TRAC'), ('XLM', 'RLC'), ('XMR', 'ZIL'), ('XNO', 'PIVX'), ('XRP', 'ARDR'), ('ZEC', 'GFT'), ('ZEN', 'MED')]\n",
      "Number of pairs to be traded: 67\n",
      "Pairs Updated date: 2023-01-01\n",
      "Final pairs to be traded: [('ADA', 'MKR'), ('ADA', 'TRX'), ('ADX', 'FUN'), ('AMB', 'PIVX'), ('ANT', 'BORG'), ('ANT', 'FUN'), ('ARK', 'FUN'), ('ARK', 'IOST'), ('BAT', 'FUN'), ('BCH', 'TRAC'), ('BTC', 'GFT'), ('CVC', 'FUN'), ('DASH', 'CTXC'), ('DASH', 'TRAC'), ('DOGE', 'XMR'), ('ELF', 'MLN'), ('ELF', 'NULS'), ('ENJ', 'FUN'), ('EOS', 'FUN'), ('EOS', 'XMR'), ('ETC', 'GFT'), ('GAS', 'FUN'), ('GLM', 'FUN'), ('ICX', 'FUN'), ('IOTA', 'FUN'), ('LINK', 'DENT'), ('LRC', 'FUN'), ('LSK', 'FUN'), ('LSK', 'SNT'), ('LTC', 'ANT'), ('MANA', 'FUN'), ('MLN', 'MDT'), ('MTL', 'FUN'), ('NEO', 'ARDR'), ('NEO', 'BLZ'), ('NEO', 'FUN'), ('NEO', 'GFT'), ('NEO', 'XEM'), ('NEO', 'XVG'), ('NMR', 'REQ'), ('OMG', 'FUN'), ('ONT', 'DCR'), ('ONT', 'FUN'), ('POWR', 'FUN'), ('POWR', 'IDEX'), ('PRO', 'FUN'), ('QTUM', 'DGB'), ('QTUM', 'FUN'), ('QTUM', 'MED'), ('QTUM', 'STMX'), ('REN', 'FUN'), ('REQ', 'IDEX'), ('RLC', 'FUN'), ('RVN', 'FUN'), ('SBD', 'FUN'), ('SNX', 'BTG'), ('SNX', 'FUN'), ('SNX', 'SWFTC'), ('STEEM', 'FUN'), ('STORJ', 'FUN'), ('STRAX', 'FUN'), ('SYS', 'FUN'), ('THETA', 'DENT'), ('TRAC', 'FUN'), ('UQC', 'SWFTC'), ('UTK', 'FUN'), ('VGX', 'FUN'), ('VIC', 'FUN'), ('WAVES', 'FUN'), ('WAXP', 'FUN'), ('XDC', 'FUN'), ('XLM', 'FUN'), ('XNO', 'FUN'), ('XRP', 'BNB'), ('ZEC', 'FUN'), ('ZEN', 'FUN'), ('ZIL', 'FUN'), ('ZRX', 'FUN'), ('ZRX', 'GNO')]\n",
      "Number of pairs to be traded: 79\n",
      "Pairs Updated date: 2023-07-01\n",
      "Final pairs to be traded: [('ADA', 'LINK'), ('ADA', 'MKR'), ('ANT', 'FUN'), ('ARDR', 'XEM'), ('ARK', 'WAXP'), ('ARK', 'XEM'), ('BAT', 'MLN'), ('BLZ', 'ARDR'), ('BTC', 'DOGE'), ('CVC', 'ARK'), ('DOGE', 'XMR'), ('ELF', 'GAS'), ('ENJ', 'DENT'), ('ENJ', 'POWR'), ('EOS', 'ETC'), ('EOS', 'MKR'), ('EOS', 'RVN'), ('EOS', 'XMR'), ('GAS', 'NULS'), ('GAS', 'TRAC'), ('GFT', 'DENT'), ('GFT', 'PIVX'), ('GLM', 'MED'), ('IOTA', 'CVC'), ('LRC', 'MLN'), ('LRC', 'NMR'), ('LSK', 'MLN'), ('LSK', 'SYS'), ('LTC', 'XVG'), ('MANA', 'DENT'), ('MANA', 'IOST'), ('MANA', 'SNT'), ('MANA', 'ZIL'), ('MTL', 'IDEX'), ('MTL', 'SNT'), ('NEO', 'DENT'), ('OMG', 'FUN'), ('OMG', 'REQ'), ('OMG', 'XVG'), ('PRO', 'DCR'), ('QTUM', 'ADX'), ('QTUM', 'DENT'), ('QTUM', 'ICX'), ('QTUM', 'ONT'), ('REN', 'STMX'), ('REN', 'UTK'), ('RLC', 'CTXC'), ('RLC', 'SWFTC'), ('SBD', 'XNO'), ('SNX', 'DENT'), ('SNX', 'GNO'), ('STEEM', 'IOST'), ('STORJ', 'XEM'), ('STORJ', 'ZEN'), ('THETA', 'DENT'), ('THETA', 'DGB'), ('THETA', 'MED'), ('THETA', 'MLN'), ('THETA', 'XEM'), ('TRAC', 'MDT'), ('UQC', 'REQ'), ('VGX', 'AMB'), ('VGX', 'XVG'), ('VIB', 'IDEX'), ('VIC', 'BORG'), ('WAVES', 'BTG'), ('WAVES', 'STMX'), ('WAVES', 'SWFTC'), ('XLM', 'XMR'), ('XNO', 'STRAX'), ('XRP', 'BCH'), ('XRP', 'BNB'), ('XRP', 'DASH'), ('XRP', 'TRX'), ('XRP', 'XDC'), ('XRP', 'XMR'), ('ZEC', 'REQ'), ('ZRX', 'DENT')]\n",
      "Number of pairs to be traded: 78\n",
      "Pairs Updated date: 2024-01-01\n",
      "Final pairs to be traded: [('ADA', 'IOTA'), ('AMB', 'VIC'), ('ANT', 'XVG'), ('ARDR', 'BORG'), ('ARK', 'MTL'), ('BAT', 'NMR'), ('BCH', 'MTL'), ('BCH', 'XLM'), ('BLZ', 'MTL'), ('BNB', 'REN'), ('BTC', 'MTL'), ('CTXC', 'XNO'), ('DASH', 'REN'), ('DENT', 'ADX'), ('DGB', 'REQ'), ('DOGE', 'UQC'), ('DOGE', 'XMR'), ('ELF', 'MTL'), ('ENJ', 'REQ'), ('ENJ', 'RVN'), ('EOS', 'REN'), ('ETC', 'REQ'), ('GFT', 'NMR'), ('GLM', 'CVC'), ('GNO', 'GAS'), ('IOST', 'PIVX'), ('IOTA', 'CTXC'), ('IOTA', 'UQC'), ('LINK', 'SNT'), ('LINK', 'STORJ'), ('LRC', 'REN'), ('LSK', 'ARDR'), ('LTC', 'MKR'), ('MANA', 'REQ'), ('MANA', 'VIC'), ('MED', 'REQ'), ('MKR', 'MTL'), ('MKR', 'XVG'), ('MLN', 'DCR'), ('NEO', 'ICX'), ('NEO', 'PIVX'), ('NMR', 'FUN'), ('NMR', 'NULS'), ('NMR', 'PIVX'), ('NMR', 'VIB'), ('ONT', 'PIVX'), ('POWR', 'SNT'), ('PRO', 'NULS'), ('REN', 'SYS'), ('RLC', 'REQ'), ('SBD', 'SNT'), ('SNX', 'ZRX'), ('STEEM', 'QTUM'), ('STMX', 'XVG'), ('STRAX', 'SNT'), ('SWFTC', 'MDT'), ('THETA', 'PIVX'), ('TRAC', 'MDT'), ('TRX', 'MTL'), ('VGX', 'VIC'), ('WAVES', 'BTG'), ('WAXP', 'ADX'), ('XDC', 'XVG'), ('XEM', 'PIVX'), ('XRP', 'MTL'), ('XVG', 'IDEX'), ('ZEC', 'VIC'), ('ZEN', 'CVC'), ('ZIL', 'OMG'), ('ZIL', 'REQ'), ('ZIL', 'UTK'), ('ZRX', 'GAS')]\n",
      "Number of pairs to be traded: 72\n",
      "Pairs Updated date: 2024-07-01\n",
      "Final pairs to be traded: [('ADA', 'IOTA'), ('AMB', 'STMX'), ('ARDR', 'MTL'), ('BAT', 'MDT'), ('BCH', 'NULS'), ('BCH', 'PRO'), ('BNB', 'XDC'), ('BTC', 'REQ'), ('BTG', 'REQ'), ('DASH', 'STMX'), ('DCR', 'MDT'), ('DENT', 'ADX'), ('DGB', 'MLN'), ('DGB', 'SYS'), ('DOGE', 'REQ'), ('ELF', 'GFT'), ('ENJ', 'IOST'), ('ENJ', 'LRC'), ('EOS', 'ZIL'), ('ETC', 'RLC'), ('ETC', 'XNO'), ('GLM', 'REQ'), ('GNO', 'UQC'), ('IOST', 'OMG'), ('IOTA', 'CTXC'), ('IOTA', 'FUN'), ('LINK', 'UQC'), ('LSK', 'PIVX'), ('LTC', 'XVG'), ('MANA', 'STMX'), ('MED', 'IOST'), ('MKR', 'ANT'), ('MKR', 'GLM'), ('NEO', 'PIVX'), ('NEO', 'VIB'), ('NMR', 'RLC'), ('OMG', 'ICX'), ('ONT', 'LSK'), ('POWR', 'SNT'), ('RVN', 'SYS'), ('RVN', 'XVG'), ('SBD', 'SNT'), ('SNX', 'FUN'), ('STEEM', 'BORG'), ('STEEM', 'PIVX'), ('STEEM', 'QTUM'), ('STORJ', 'ARK'), ('STORJ', 'BLZ'), ('STORJ', 'GAS'), ('SWFTC', 'REQ'), ('THETA', 'REQ'), ('TRAC', 'UQC'), ('TRX', 'GFT'), ('UTK', 'IDEX'), ('VGX', 'XDC'), ('WAVES', 'IOST'), ('WAVES', 'XEM'), ('WAXP', 'ARDR'), ('XMR', 'XVG'), ('XRP', 'ZEC'), ('ZEC', 'XLM'), ('ZEN', 'MTL'), ('ZIL', 'IDEX'), ('ZIL', 'REN'), ('ZRX', 'ADX'), ('ZRX', 'CVC'), ('ZRX', 'PIVX')]\n",
      "Number of pairs to be traded: 67\n",
      "Evaluating with exit threshold: 0.7\n",
      "Pairs Updated date: 2019-01-01\n",
      "Final pairs to be traded: [('ADA', 'MDT'), ('AMB', 'BLZ'), ('ARK', 'ANT'), ('ARK', 'SBD'), ('BAT', 'SWFTC'), ('BCH', 'DCR'), ('BCH', 'XMR'), ('BNB', 'DCR'), ('BTC', 'MKR'), ('CTXC', 'PIVX'), ('CVC', 'MDT'), ('DOGE', 'SWFTC'), ('ELF', 'CTXC'), ('ELF', 'RLC'), ('ELF', 'STORJ'), ('ENJ', 'BORG'), ('ENJ', 'MED'), ('ENJ', 'REN'), ('ENJ', 'RVN'), ('EOS', 'ZEN'), ('ETC', 'GNO'), ('ETC', 'ZEN'), ('GFT', 'BLZ'), ('GFT', 'POWR'), ('GLM', 'BLZ'), ('LINK', 'BTG'), ('LRC', 'ADX'), ('LTC', 'ZEC'), ('MANA', 'DGB'), ('MED', 'DENT'), ('MTL', 'ICX'), ('NEO', 'GNO'), ('NMR', 'MLN'), ('OMG', 'LSK'), ('ONT', 'GAS'), ('QTUM', 'GAS'), ('QTUM', 'LSK'), ('SNT', 'MDT'), ('SNX', 'SYS'), ('STEEM', 'ICX'), ('STEEM', 'NULS'), ('STMX', 'IOST'), ('STMX', 'XVG'), ('STORJ', 'LRC'), ('STORJ', 'PRO'), ('SWFTC', 'IDEX'), ('THETA', 'SWFTC'), ('THETA', 'TRAC'), ('THETA', 'ZIL'), ('TRX', 'MANA'), ('UQC', 'STRAX'), ('UTK', 'MDT'), ('VGX', 'IOTA'), ('VIB', 'MDT'), ('WAVES', 'MLN'), ('WAXP', 'ARDR'), ('WAXP', 'FUN'), ('WAXP', 'MDT'), ('XDC', 'VIC'), ('XEM', 'MDT'), ('XEM', 'REQ'), ('XLM', 'IOST'), ('XMR', 'BTG'), ('XMR', 'DASH'), ('XNO', 'STRAX'), ('XRP', 'UTK'), ('ZEC', 'DASH'), ('ZRX', 'SBD')]\n",
      "Number of pairs to be traded: 68\n",
      "Pairs Updated date: 2019-07-01\n",
      "Final pairs to be traded: [('ADA', 'GNO'), ('ADA', 'IOST'), ('ADA', 'SWFTC'), ('ADX', 'SYS'), ('AMB', 'XDC'), ('ANT', 'SYS'), ('ARDR', 'CTXC'), ('ARK', 'SYS'), ('BAT', 'MED'), ('BCH', 'XMR'), ('BCH', 'XNO'), ('BNB', 'MKR'), ('BTC', 'REN'), ('BTC', 'SNX'), ('BTC', 'UTK'), ('CTXC', 'NULS'), ('CVC', 'PRO'), ('CVC', 'SYS'), ('DASH', 'GNO'), ('DGB', 'BLZ'), ('DGB', 'FUN'), ('DGB', 'ICX'), ('DGB', 'IOTA'), ('DGB', 'XVG'), ('DOGE', 'VGX'), ('ELF', 'GNO'), ('ENJ', 'MED'), ('EOS', 'VIB'), ('ETC', 'XMR'), ('GFT', 'SYS'), ('GLM', 'BLZ'), ('GLM', 'OMG'), ('GNO', 'MTL'), ('ICX', 'SYS'), ('IOTA', 'DENT'), ('LINK', 'MED'), ('LRC', 'SYS'), ('LSK', 'SYS'), ('LTC', 'MED'), ('MANA', 'TRAC'), ('MANA', 'XEM'), ('MED', 'MLN'), ('NEO', 'GNO'), ('NEO', 'IDEX'), ('NMR', 'RLC'), ('ONT', 'MTL'), ('POWR', 'SYS'), ('QTUM', 'GNO'), ('RLC', 'BORG'), ('SBD', 'MDT'), ('SNT', 'SYS'), ('STEEM', 'GAS'), ('STORJ', 'BORG'), ('STORJ', 'MED'), ('SWFTC', 'VIB'), ('THETA', 'SBD'), ('TRX', 'MED'), ('UQC', 'STRAX'), ('VGX', 'PIVX'), ('WAXP', 'SWFTC'), ('XDC', 'PIVX'), ('XLM', 'STEEM'), ('XLM', 'WAVES'), ('XMR', 'MANA'), ('XRP', 'MED'), ('ZEC', 'XMR'), ('ZEN', 'DCR'), ('ZEN', 'GNO'), ('ZIL', 'STRAX'), ('ZRX', 'REQ'), ('ZRX', 'STMX')]\n",
      "Number of pairs to be traded: 71\n",
      "Pairs Updated date: 2020-01-01\n",
      "Final pairs to be traded: [('ADA', 'VIC'), ('ADX', 'SYS'), ('ADX', 'XVG'), ('AMB', 'UQC'), ('ANT', 'UQC'), ('ARDR', 'MTL'), ('BAT', 'NMR'), ('BCH', 'XMR'), ('BNB', 'XMR'), ('BTC', 'UQC'), ('BTG', 'XEM'), ('DASH', 'PRO'), ('DGB', 'BLZ'), ('DGB', 'CVC'), ('DGB', 'GAS'), ('DGB', 'GLM'), ('DGB', 'ICX'), ('DGB', 'OMG'), ('DGB', 'SBD'), ('DGB', 'SNT'), ('DOGE', 'XMR'), ('ELF', 'DGB'), ('ELF', 'STORJ'), ('ENJ', 'VIC'), ('EOS', 'MTL'), ('ETC', 'MED'), ('ETC', 'XMR'), ('FUN', 'MDT'), ('GFT', 'POWR'), ('IOST', 'VIC'), ('LINK', 'MLN'), ('LRC', 'PIVX'), ('LRC', 'STMX'), ('LRC', 'WAVES'), ('LSK', 'SNT'), ('LTC', 'GNO'), ('LTC', 'XMR'), ('MANA', 'DGB'), ('MDT', 'BORG'), ('MKR', 'UQC'), ('NEO', 'UQC'), ('NMR', 'UQC'), ('OMG', 'CTXC'), ('OMG', 'NULS'), ('ONT', 'MTL'), ('QTUM', 'ARDR'), ('REN', 'MDT'), ('REQ', 'MDT'), ('RLC', 'UQC'), ('RVN', 'MTL'), ('SNT', 'IDEX'), ('SNX', 'MLN'), ('STEEM', 'ARK'), ('STEEM', 'PIVX'), ('STEEM', 'STRAX'), ('THETA', 'UQC'), ('TRAC', 'UQC'), ('TRX', 'DENT'), ('UTK', 'NULS'), ('VGX', 'MDT'), ('VIB', 'MDT'), ('VIC', 'UQC'), ('WAXP', 'PRO'), ('XDC', 'UQC'), ('XEM', 'DCR'), ('XLM', 'ELF'), ('XNO', 'SWFTC'), ('XRP', 'IOTA'), ('ZEC', 'IDEX'), ('ZEN', 'UQC'), ('ZIL', 'LRC'), ('ZRX', 'MDT')]\n",
      "Number of pairs to be traded: 72\n",
      "Pairs Updated date: 2020-07-01\n",
      "Final pairs to be traded: [('ADA', 'MTL'), ('AMB', 'MTL'), ('ANT', 'FUN'), ('ARK', 'CTXC'), ('BLZ', 'UTK'), ('BNB', 'ARDR'), ('BNB', 'DOGE'), ('BNB', 'TRX'), ('BTC', 'MTL'), ('BTG', 'SWFTC'), ('BTG', 'XEM'), ('CVC', 'MTL'), ('DASH', 'STEEM'), ('DCR', 'VIB'), ('DENT', 'MTL'), ('DGB', 'MTL'), ('ELF', 'GAS'), ('ENJ', 'MED'), ('EOS', 'SWFTC'), ('ETC', 'MANA'), ('GAS', 'SYS'), ('GFT', 'MTL'), ('GLM', 'MTL'), ('GNO', 'SYS'), ('ICX', 'SWFTC'), ('IOTA', 'MTL'), ('LINK', 'MED'), ('LRC', 'MTL'), ('LSK', 'MDT'), ('LSK', 'SWFTC'), ('LTC', 'ARDR'), ('MKR', 'MTL'), ('MLN', 'REQ'), ('MLN', 'SYS'), ('NEO', 'ADX'), ('NEO', 'BAT'), ('NMR', 'FUN'), ('OMG', 'SYS'), ('OMG', 'XVG'), ('ONT', 'DCR'), ('ONT', 'IOST'), ('POWR', 'ANT'), ('PRO', 'MTL'), ('QTUM', 'ARDR'), ('QTUM', 'IOST'), ('REN', 'STMX'), ('RLC', 'FUN'), ('SBD', 'IDEX'), ('SBD', 'SNT'), ('SNX', 'MED'), ('STEEM', 'PIVX'), ('STMX', 'CTXC'), ('STORJ', 'MTL'), ('STRAX', 'SYS'), ('THETA', 'GNO'), ('TRAC', 'MTL'), ('UQC', 'BORG'), ('UQC', 'FUN'), ('UTK', 'NULS'), ('VGX', 'MTL'), ('VIC', 'FUN'), ('WAVES', 'SWFTC'), ('WAXP', 'MTL'), ('XDC', 'MTL'), ('XLM', 'MTL'), ('XMR', 'MTL'), ('XNO', 'FUN'), ('XRP', 'BCH'), ('XRP', 'MTL'), ('XRP', 'RVN'), ('ZEC', 'STEEM'), ('ZEN', 'FUN'), ('ZIL', 'MTL'), ('ZRX', 'MED')]\n",
      "Number of pairs to be traded: 74\n",
      "Pairs Updated date: 2021-01-01\n",
      "Final pairs to be traded: [('ADA', 'BORG'), ('ADA', 'MED'), ('ADA', 'MKR'), ('ADX', 'BTG'), ('AMB', 'BTG'), ('ANT', 'IDEX'), ('ANT', 'SWFTC'), ('ARK', 'FUN'), ('ARK', 'SYS'), ('BAT', 'DENT'), ('BCH', 'DASH'), ('BLZ', 'BTG'), ('BNB', 'MED'), ('BTC', 'MTL'), ('CTXC', 'SWFTC'), ('CVC', 'BTG'), ('DCR', 'SWFTC'), ('DGB', 'MED'), ('ELF', 'GFT'), ('ENJ', 'GFT'), ('EOS', 'SWFTC'), ('ETC', 'BTG'), ('GAS', 'FUN'), ('GAS', 'MTL'), ('GLM', 'BTG'), ('GNO', 'MDT'), ('GNO', 'MED'), ('ICX', 'FUN'), ('IOTA', 'DENT'), ('LINK', 'DENT'), ('LINK', 'MED'), ('LINK', 'STMX'), ('LRC', 'DENT'), ('LSK', 'MTL'), ('LTC', 'STEEM'), ('MANA', 'MED'), ('MLN', 'MDT'), ('MLN', 'UTK'), ('NEO', 'MED'), ('NMR', 'SNT'), ('OMG', 'FUN'), ('ONT', 'BTG'), ('ONT', 'DENT'), ('ONT', 'VIB'), ('PIVX', 'FUN'), ('POWR', 'BTG'), ('PRO', 'BTG'), ('QTUM', 'ARDR'), ('QTUM', 'DENT'), ('QTUM', 'GFT'), ('QTUM', 'IOST'), ('REN', 'DENT'), ('RLC', 'FUN'), ('RVN', 'BTG'), ('SBD', 'SWFTC'), ('SNX', 'DENT'), ('STEEM', 'BTG'), ('STORJ', 'MED'), ('STRAX', 'FUN'), ('STRAX', 'REQ'), ('THETA', 'MED'), ('TRAC', 'MDT'), ('TRX', 'BTG'), ('UQC', 'SWFTC'), ('VGX', 'MED'), ('VIC', 'FUN'), ('WAVES', 'DENT'), ('WAVES', 'XEM'), ('WAXP', 'BTG'), ('XDC', 'BTG'), ('XLM', 'MED'), ('XMR', 'STEEM'), ('XNO', 'FUN'), ('XRP', 'DASH'), ('XRP', 'DOGE'), ('XVG', 'MTL'), ('ZEC', 'ELF'), ('ZEN', 'BTG'), ('ZIL', 'BTG'), ('ZRX', 'DENT')]\n",
      "Number of pairs to be traded: 80\n",
      "Pairs Updated date: 2021-07-01\n",
      "Final pairs to be traded: [('ADA', 'MLN'), ('ADX', 'UTK'), ('AMB', 'BLZ'), ('ARK', 'VIB'), ('BAT', 'SYS'), ('BCH', 'GFT'), ('BNB', 'MANA'), ('BNB', 'MLN'), ('BTC', 'CVC'), ('CTXC', 'PIVX'), ('CTXC', 'REQ'), ('DASH', 'SNT'), ('DENT', 'MTL'), ('DOGE', 'RLC'), ('ELF', 'ARDR'), ('ELF', 'ICX'), ('ELF', 'IOTA'), ('ELF', 'MDT'), ('ELF', 'PIVX'), ('ELF', 'SNT'), ('ELF', 'VIB'), ('ENJ', 'DENT'), ('ENJ', 'STRAX'), ('EOS', 'PRO'), ('ETC', 'RLC'), ('GAS', 'STRAX'), ('GLM', 'TRAC'), ('GNO', 'SBD'), ('IOST', 'ICX'), ('LINK', 'UTK'), ('LRC', 'REN'), ('LSK', 'SYS'), ('LTC', 'XLM'), ('MED', 'MTL'), ('MKR', 'XNO'), ('NEO', 'OMG'), ('NMR', 'ANT'), ('NMR', 'IDEX'), ('NMR', 'SWFTC'), ('ONT', 'NMR'), ('ONT', 'NULS'), ('POWR', 'PIVX'), ('PRO', 'STRAX'), ('QTUM', 'BTG'), ('QTUM', 'MTL'), ('RLC', 'PRO'), ('RVN', 'VIC'), ('SNX', 'LRC'), ('STEEM', 'SYS'), ('STMX', 'MTL'), ('STMX', 'WAXP'), ('STORJ', 'OMG'), ('STORJ', 'UQC'), ('THETA', 'GNO'), ('THETA', 'WAVES'), ('TRX', 'MANA'), ('VGX', 'BORG'), ('VGX', 'FUN'), ('XDC', 'MLN'), ('XLM', 'BORG'), ('XLM', 'CVC'), ('XLM', 'ZIL'), ('XMR', 'SBD'), ('XRP', 'EOS'), ('XVG', 'DCR'), ('XVG', 'UTK'), ('ZEC', 'DGB'), ('ZEN', 'XNO'), ('ZIL', 'SBD'), ('ZRX', 'UTK')]\n",
      "Number of pairs to be traded: 70\n",
      "Pairs Updated date: 2022-01-01\n",
      "Final pairs to be traded: [('ADA', 'STRAX'), ('ADX', 'SNT'), ('AMB', 'XNO'), ('ANT', 'CTXC'), ('ANT', 'NULS'), ('ARK', 'XNO'), ('BAT', 'CTXC'), ('BAT', 'POWR'), ('BCH', 'XNO'), ('BLZ', 'UTK'), ('BNB', 'ENJ'), ('BTC', 'VGX'), ('BTG', 'MTL'), ('BTG', 'UQC'), ('CTXC', 'SYS'), ('CVC', 'ICX'), ('CVC', 'IOST'), ('DASH', 'XNO'), ('DENT', 'ARDR'), ('DENT', 'MTL'), ('DGB', 'XNO'), ('DOGE', 'RLC'), ('ELF', 'VGX'), ('EOS', 'XNO'), ('ETC', 'VGX'), ('GAS', 'XNO'), ('GLM', 'VIC'), ('GNO', 'FUN'), ('IOTA', 'CTXC'), ('LINK', 'VGX'), ('LRC', 'CTXC'), ('LSK', 'XNO'), ('LTC', 'MKR'), ('LTC', 'VGX'), ('LTC', 'XLM'), ('MANA', 'CTXC'), ('MED', 'MTL'), ('MTL', 'STRAX'), ('NEO', 'XNO'), ('NMR', 'SNT'), ('OMG', 'XNO'), ('ONT', 'SNT'), ('PIVX', 'BORG'), ('PIVX', 'VIB'), ('PRO', 'CTXC'), ('QTUM', 'ZEN'), ('REN', 'VIC'), ('REQ', 'IDEX'), ('RVN', 'BORG'), ('SNX', 'VGX'), ('STEEM', 'VGX'), ('STMX', 'DENT'), ('STORJ', 'ENJ'), ('STORJ', 'GFT'), ('THETA', 'SBD'), ('TRAC', 'CTXC'), ('TRX', 'QTUM'), ('WAVES', 'MLN'), ('WAXP', 'REQ'), ('XDC', 'MLN'), ('XEM', 'FUN'), ('XMR', 'VGX'), ('XRP', 'ZEN'), ('XVG', 'DCR'), ('XVG', 'SWFTC'), ('ZEC', 'GFT'), ('ZIL', 'FUN'), ('ZIL', 'UTK'), ('ZRX', 'XNO')]\n",
      "Number of pairs to be traded: 69\n",
      "Pairs Updated date: 2022-07-01\n",
      "Final pairs to be traded: [('ADA', 'STEEM'), ('ANT', 'REQ'), ('ARK', 'BLZ'), ('BAT', 'CTXC'), ('BCH', 'XEM'), ('BNB', 'GLM'), ('BTC', 'GLM'), ('CVC', 'ARDR'), ('CVC', 'OMG'), ('DASH', 'MED'), ('DASH', 'ONT'), ('DASH', 'SNT'), ('DASH', 'XEM'), ('DENT', 'UTK'), ('DGB', 'BTG'), ('DGB', 'XNO'), ('DOGE', 'EOS'), ('ELF', 'CVC'), ('ENJ', 'GFT'), ('EOS', 'XDC'), ('EOS', 'XNO'), ('ETC', 'SNX'), ('GAS', 'SBD'), ('GFT', 'NULS'), ('GLM', 'WAVES'), ('GNO', 'REQ'), ('IOST', 'MTL'), ('LINK', 'IOTA'), ('LINK', 'RVN'), ('LRC', 'REQ'), ('LSK', 'BTG'), ('LTC', 'ADX'), ('LTC', 'ARK'), ('MANA', 'MDT'), ('MED', 'VIB'), ('MKR', 'BORG'), ('MKR', 'XVG'), ('MLN', 'VIB'), ('NEO', 'DGB'), ('NMR', 'XEM'), ('POWR', 'REQ'), ('QTUM', 'UTK'), ('REN', 'ICX'), ('REQ', 'IDEX'), ('RVN', 'UTK'), ('SBD', 'STRAX'), ('SNX', 'DCR'), ('SNX', 'FUN'), ('STEEM', 'MLN'), ('STEEM', 'ZRX'), ('STMX', 'MLN'), ('STORJ', 'GFT'), ('SYS', 'MDT'), ('THETA', 'AMB'), ('THETA', 'RLC'), ('TRX', 'MTL'), ('UQC', 'STRAX'), ('VGX', 'GLM'), ('VIC', 'XVG'), ('WAXP', 'REQ'), ('WAXP', 'TRAC'), ('XLM', 'RLC'), ('XMR', 'ZIL'), ('XNO', 'PIVX'), ('XRP', 'ARDR'), ('ZEC', 'GFT'), ('ZEN', 'MED')]\n",
      "Number of pairs to be traded: 67\n",
      "Pairs Updated date: 2023-01-01\n",
      "Final pairs to be traded: [('ADA', 'MKR'), ('ADA', 'TRX'), ('ADX', 'FUN'), ('AMB', 'PIVX'), ('ANT', 'BORG'), ('ANT', 'FUN'), ('ARK', 'FUN'), ('ARK', 'IOST'), ('BAT', 'FUN'), ('BCH', 'TRAC'), ('BTC', 'GFT'), ('CVC', 'FUN'), ('DASH', 'CTXC'), ('DASH', 'TRAC'), ('DOGE', 'XMR'), ('ELF', 'MLN'), ('ELF', 'NULS'), ('ENJ', 'FUN'), ('EOS', 'FUN'), ('EOS', 'XMR'), ('ETC', 'GFT'), ('GAS', 'FUN'), ('GLM', 'FUN'), ('ICX', 'FUN'), ('IOTA', 'FUN'), ('LINK', 'DENT'), ('LRC', 'FUN'), ('LSK', 'FUN'), ('LSK', 'SNT'), ('LTC', 'ANT'), ('MANA', 'FUN'), ('MLN', 'MDT'), ('MTL', 'FUN'), ('NEO', 'ARDR'), ('NEO', 'BLZ'), ('NEO', 'FUN'), ('NEO', 'GFT'), ('NEO', 'XEM'), ('NEO', 'XVG'), ('NMR', 'REQ'), ('OMG', 'FUN'), ('ONT', 'DCR'), ('ONT', 'FUN'), ('POWR', 'FUN'), ('POWR', 'IDEX'), ('PRO', 'FUN'), ('QTUM', 'DGB'), ('QTUM', 'FUN'), ('QTUM', 'MED'), ('QTUM', 'STMX'), ('REN', 'FUN'), ('REQ', 'IDEX'), ('RLC', 'FUN'), ('RVN', 'FUN'), ('SBD', 'FUN'), ('SNX', 'BTG'), ('SNX', 'FUN'), ('SNX', 'SWFTC'), ('STEEM', 'FUN'), ('STORJ', 'FUN'), ('STRAX', 'FUN'), ('SYS', 'FUN'), ('THETA', 'DENT'), ('TRAC', 'FUN'), ('UQC', 'SWFTC'), ('UTK', 'FUN'), ('VGX', 'FUN'), ('VIC', 'FUN'), ('WAVES', 'FUN'), ('WAXP', 'FUN'), ('XDC', 'FUN'), ('XLM', 'FUN'), ('XNO', 'FUN'), ('XRP', 'BNB'), ('ZEC', 'FUN'), ('ZEN', 'FUN'), ('ZIL', 'FUN'), ('ZRX', 'FUN'), ('ZRX', 'GNO')]\n",
      "Number of pairs to be traded: 79\n",
      "Pairs Updated date: 2023-07-01\n",
      "Final pairs to be traded: [('ADA', 'LINK'), ('ADA', 'MKR'), ('ANT', 'FUN'), ('ARDR', 'XEM'), ('ARK', 'WAXP'), ('ARK', 'XEM'), ('BAT', 'MLN'), ('BLZ', 'ARDR'), ('BTC', 'DOGE'), ('CVC', 'ARK'), ('DOGE', 'XMR'), ('ELF', 'GAS'), ('ENJ', 'DENT'), ('ENJ', 'POWR'), ('EOS', 'ETC'), ('EOS', 'MKR'), ('EOS', 'RVN'), ('EOS', 'XMR'), ('GAS', 'NULS'), ('GAS', 'TRAC'), ('GFT', 'DENT'), ('GFT', 'PIVX'), ('GLM', 'MED'), ('IOTA', 'CVC'), ('LRC', 'MLN'), ('LRC', 'NMR'), ('LSK', 'MLN'), ('LSK', 'SYS'), ('LTC', 'XVG'), ('MANA', 'DENT'), ('MANA', 'IOST'), ('MANA', 'SNT'), ('MANA', 'ZIL'), ('MTL', 'IDEX'), ('MTL', 'SNT'), ('NEO', 'DENT'), ('OMG', 'FUN'), ('OMG', 'REQ'), ('OMG', 'XVG'), ('PRO', 'DCR'), ('QTUM', 'ADX'), ('QTUM', 'DENT'), ('QTUM', 'ICX'), ('QTUM', 'ONT'), ('REN', 'STMX'), ('REN', 'UTK'), ('RLC', 'CTXC'), ('RLC', 'SWFTC'), ('SBD', 'XNO'), ('SNX', 'DENT'), ('SNX', 'GNO'), ('STEEM', 'IOST'), ('STORJ', 'XEM'), ('STORJ', 'ZEN'), ('THETA', 'DENT'), ('THETA', 'DGB'), ('THETA', 'MED'), ('THETA', 'MLN'), ('THETA', 'XEM'), ('TRAC', 'MDT'), ('UQC', 'REQ'), ('VGX', 'AMB'), ('VGX', 'XVG'), ('VIB', 'IDEX'), ('VIC', 'BORG'), ('WAVES', 'BTG'), ('WAVES', 'STMX'), ('WAVES', 'SWFTC'), ('XLM', 'XMR'), ('XNO', 'STRAX'), ('XRP', 'BCH'), ('XRP', 'BNB'), ('XRP', 'DASH'), ('XRP', 'TRX'), ('XRP', 'XDC'), ('XRP', 'XMR'), ('ZEC', 'REQ'), ('ZRX', 'DENT')]\n",
      "Number of pairs to be traded: 78\n",
      "Pairs Updated date: 2024-01-01\n",
      "Final pairs to be traded: [('ADA', 'IOTA'), ('AMB', 'VIC'), ('ANT', 'XVG'), ('ARDR', 'BORG'), ('ARK', 'MTL'), ('BAT', 'NMR'), ('BCH', 'MTL'), ('BCH', 'XLM'), ('BLZ', 'MTL'), ('BNB', 'REN'), ('BTC', 'MTL'), ('CTXC', 'XNO'), ('DASH', 'REN'), ('DENT', 'ADX'), ('DGB', 'REQ'), ('DOGE', 'UQC'), ('DOGE', 'XMR'), ('ELF', 'MTL'), ('ENJ', 'REQ'), ('ENJ', 'RVN'), ('EOS', 'REN'), ('ETC', 'REQ'), ('GFT', 'NMR'), ('GLM', 'CVC'), ('GNO', 'GAS'), ('IOST', 'PIVX'), ('IOTA', 'CTXC'), ('IOTA', 'UQC'), ('LINK', 'SNT'), ('LINK', 'STORJ'), ('LRC', 'REN'), ('LSK', 'ARDR'), ('LTC', 'MKR'), ('MANA', 'REQ'), ('MANA', 'VIC'), ('MED', 'REQ'), ('MKR', 'MTL'), ('MKR', 'XVG'), ('MLN', 'DCR'), ('NEO', 'ICX'), ('NEO', 'PIVX'), ('NMR', 'FUN'), ('NMR', 'NULS'), ('NMR', 'PIVX'), ('NMR', 'VIB'), ('ONT', 'PIVX'), ('POWR', 'SNT'), ('PRO', 'NULS'), ('REN', 'SYS'), ('RLC', 'REQ'), ('SBD', 'SNT'), ('SNX', 'ZRX'), ('STEEM', 'QTUM'), ('STMX', 'XVG'), ('STRAX', 'SNT'), ('SWFTC', 'MDT'), ('THETA', 'PIVX'), ('TRAC', 'MDT'), ('TRX', 'MTL'), ('VGX', 'VIC'), ('WAVES', 'BTG'), ('WAXP', 'ADX'), ('XDC', 'XVG'), ('XEM', 'PIVX'), ('XRP', 'MTL'), ('XVG', 'IDEX'), ('ZEC', 'VIC'), ('ZEN', 'CVC'), ('ZIL', 'OMG'), ('ZIL', 'REQ'), ('ZIL', 'UTK'), ('ZRX', 'GAS')]\n",
      "Number of pairs to be traded: 72\n",
      "Pairs Updated date: 2024-07-01\n",
      "Final pairs to be traded: [('ADA', 'IOTA'), ('AMB', 'STMX'), ('ARDR', 'MTL'), ('BAT', 'MDT'), ('BCH', 'NULS'), ('BCH', 'PRO'), ('BNB', 'XDC'), ('BTC', 'REQ'), ('BTG', 'REQ'), ('DASH', 'STMX'), ('DCR', 'MDT'), ('DENT', 'ADX'), ('DGB', 'MLN'), ('DGB', 'SYS'), ('DOGE', 'REQ'), ('ELF', 'GFT'), ('ENJ', 'IOST'), ('ENJ', 'LRC'), ('EOS', 'ZIL'), ('ETC', 'RLC'), ('ETC', 'XNO'), ('GLM', 'REQ'), ('GNO', 'UQC'), ('IOST', 'OMG'), ('IOTA', 'CTXC'), ('IOTA', 'FUN'), ('LINK', 'UQC'), ('LSK', 'PIVX'), ('LTC', 'XVG'), ('MANA', 'STMX'), ('MED', 'IOST'), ('MKR', 'ANT'), ('MKR', 'GLM'), ('NEO', 'PIVX'), ('NEO', 'VIB'), ('NMR', 'RLC'), ('OMG', 'ICX'), ('ONT', 'LSK'), ('POWR', 'SNT'), ('RVN', 'SYS'), ('RVN', 'XVG'), ('SBD', 'SNT'), ('SNX', 'FUN'), ('STEEM', 'BORG'), ('STEEM', 'PIVX'), ('STEEM', 'QTUM'), ('STORJ', 'ARK'), ('STORJ', 'BLZ'), ('STORJ', 'GAS'), ('SWFTC', 'REQ'), ('THETA', 'REQ'), ('TRAC', 'UQC'), ('TRX', 'GFT'), ('UTK', 'IDEX'), ('VGX', 'XDC'), ('WAVES', 'IOST'), ('WAVES', 'XEM'), ('WAXP', 'ARDR'), ('XMR', 'XVG'), ('XRP', 'ZEC'), ('ZEC', 'XLM'), ('ZEN', 'MTL'), ('ZIL', 'IDEX'), ('ZIL', 'REN'), ('ZRX', 'ADX'), ('ZRX', 'CVC'), ('ZRX', 'PIVX')]\n",
      "Number of pairs to be traded: 67\n"
     ]
    }
   ],
   "execution_count": 17
  },
  {
   "cell_type": "code",
   "id": "823197d1",
   "metadata": {
    "ExecuteTime": {
     "end_time": "2025-06-24T18:56:47.380900Z",
     "start_time": "2025-06-24T18:56:47.375934Z"
    }
   },
   "source": [
    "print(metrics_df)"
   ],
   "outputs": [
    {
     "name": "stdout",
     "output_type": "stream",
     "text": [
      "     Sharpe Ratio    Return  Volatility  Holding Period  Turnover  \\\n",
      "0.1      0.945908  0.000709    0.011894       20.229346  0.098866   \n",
      "0.2      0.878847  0.000683    0.012336       18.512020  0.108038   \n",
      "0.5      0.904451  0.000751    0.013189       16.181857  0.123595   \n",
      "0.7      0.967115  0.000859    0.014102       14.839511  0.134775   \n",
      "\n",
      "     Transaction Costs  \n",
      "0.1           0.000198  \n",
      "0.2           0.000216  \n",
      "0.5           0.000247  \n",
      "0.7           0.000270  \n"
     ]
    }
   ],
   "execution_count": 18
  },
  {
   "cell_type": "markdown",
   "id": "68760f8d",
   "metadata": {},
   "source": [
    "The performance across different thresholds is relatively robust, with only minor variations."
   ]
  },
  {
   "cell_type": "code",
   "id": "634e06d0",
   "metadata": {
    "ExecuteTime": {
     "end_time": "2025-06-24T18:56:47.583881Z",
     "start_time": "2025-06-24T18:56:47.426519Z"
    }
   },
   "source": [
    "strat_net_ret = strat_net_ret_dict[0.7]\n",
    "strat_net_ret.cumsum().plot()"
   ],
   "outputs": [
    {
     "data": {
      "text/plain": [
       "<Axes: xlabel='Date'>"
      ]
     },
     "execution_count": 19,
     "metadata": {},
     "output_type": "execute_result"
    },
    {
     "data": {
      "text/plain": [
       "<Figure size 640x480 with 1 Axes>"
      ],
      "image/png": "[encoded data removed]"
     },
     "metadata": {},
     "output_type": "display_data"
    }
   ],
   "execution_count": 19
  },
  {
   "cell_type": "markdown",
   "id": "d0d6ba98",
   "metadata": {},
   "source": [
    "We also compare the performance of our strategy against our benchmark, specifically a buy-and-hold strategy for Bitcoin. We will evaluate key metrics including alpha and beta, maximum drawdowns and maximum drawdown duration. "
   ]
  },
  {
   "cell_type": "code",
   "id": "38cecba6",
   "metadata": {
    "ExecuteTime": {
     "end_time": "2025-06-24T18:56:47.646416Z",
     "start_time": "2025-06-24T18:56:47.642389Z"
    }
   },
   "source": [
    "buy_and_hold_btc = coins_ret['BTC'][start_of_out_sample:]\n",
    "buy_and_hold_btc"
   ],
   "outputs": [
    {
     "data": {
      "text/plain": [
       "Date\n",
       "2019-01-01   -0.030762\n",
       "2019-01-02    0.027551\n",
       "2019-01-03    0.020533\n",
       "2019-01-04   -0.024701\n",
       "2019-01-05    0.010259\n",
       "                ...   \n",
       "2024-08-12   -0.034218\n",
       "2024-08-13    0.009282\n",
       "2024-08-14    0.021081\n",
       "2024-08-15   -0.030726\n",
       "2024-08-16   -0.018984\n",
       "Name: BTC, Length: 2057, dtype: float64"
      ]
     },
     "execution_count": 20,
     "metadata": {},
     "output_type": "execute_result"
    }
   ],
   "execution_count": 20
  },
  {
   "cell_type": "code",
   "id": "87cf99b5",
   "metadata": {
    "ExecuteTime": {
     "end_time": "2025-06-24T18:56:47.740439Z",
     "start_time": "2025-06-24T18:56:47.730952Z"
    }
   },
   "source": [
    "full_sample_ret = pd.DataFrame({\n",
    "    'strat_ret': strat_net_ret,\n",
    "    'buy_and_hold_btc': buy_and_hold_btc\n",
    "})\n",
    "\n",
    "full_sample_stats = compute_stats(full_sample_ret)\n",
    "print(full_sample_stats)"
   ],
   "outputs": [
    {
     "name": "stdout",
     "output_type": "stream",
     "text": [
      "                       avg       vol    sharpe  hit_rate\n",
      "strat_ret         0.216498   0.22386  0.967115  0.508994\n",
      "buy_and_hold_btc  0.468641  0.541459  0.865516  0.516318\n"
     ]
    }
   ],
   "execution_count": 21
  },
  {
   "cell_type": "code",
   "id": "dc75c7d3",
   "metadata": {
    "ExecuteTime": {
     "end_time": "2025-06-24T18:56:47.992849Z",
     "start_time": "2025-06-24T18:56:47.749069Z"
    }
   },
   "source": [
    "full_sample_ret.cumsum().plot()"
   ],
   "outputs": [
    {
     "data": {
      "text/plain": [
       "<Axes: xlabel='Date'>"
      ]
     },
     "execution_count": 22,
     "metadata": {},
     "output_type": "execute_result"
    },
    {
     "data": {
      "text/plain": [
       "<Figure size 640x480 with 1 Axes>"
      ],
      "image/png": "[encoded data removed]"
     },
     "metadata": {},
     "output_type": "display_data"
    }
   ],
   "execution_count": 22
  },
  {
   "cell_type": "code",
   "id": "eb9158f1",
   "metadata": {
    "ExecuteTime": {
     "end_time": "2025-06-24T18:56:48.059369Z",
     "start_time": "2025-06-24T18:56:48.041017Z"
    }
   },
   "source": [
    "corr = full_sample_ret.rolling(252).corr(full_sample_ret['buy_and_hold_btc'])\n",
    "vol = full_sample_ret.rolling(252).std()\n",
    "\n",
    "beta = (corr*vol).divide(vol['buy_and_hold_btc'], 0)\n",
    "\n",
    "# Computing Point-in-Time Residual Returns\n",
    "resid = full_sample_ret - beta.multiply(full_sample_ret['buy_and_hold_btc'], axis=0)\n",
    "print(resid)\n",
    "print(resid.corr())\n",
    "\n",
    "# The information ratio\n",
    "IR = resid.mean()/resid.std()*np.sqrt(252)\n",
    "print(f\"Information ratio is {IR['strat_ret']}\")"
   ],
   "outputs": [
    {
     "name": "stdout",
     "output_type": "stream",
     "text": [
      "           strat_ret  buy_and_hold_btc\n",
      "Date                                  \n",
      "2019-01-01       NaN               NaN\n",
      "2019-01-02       NaN               NaN\n",
      "2019-01-03       NaN               NaN\n",
      "2019-01-04       NaN               NaN\n",
      "2019-01-05       NaN               NaN\n",
      "...              ...               ...\n",
      "2024-08-12 -0.009819      3.330669e-16\n",
      "2024-08-13  0.004392     -9.020562e-17\n",
      "2024-08-14 -0.001412     -2.046974e-16\n",
      "2024-08-15 -0.001694      3.018419e-16\n",
      "2024-08-16 -0.009178      1.838807e-16\n",
      "\n",
      "[2057 rows x 2 columns]\n",
      "                  strat_ret  buy_and_hold_btc\n",
      "strat_ret          1.000000         -0.024929\n",
      "buy_and_hold_btc  -0.024929          1.000000\n",
      "Information ratio is 0.9016655515440276\n"
     ]
    }
   ],
   "execution_count": 23
  },
  {
   "cell_type": "markdown",
   "id": "974dcf4b",
   "metadata": {},
   "source": [
    "The correlation of the residual returns with Bitcoin is -0.03"
   ]
  },
  {
   "cell_type": "code",
   "id": "dcf73e2d",
   "metadata": {
    "ExecuteTime": {
     "end_time": "2025-06-24T18:56:48.268418Z",
     "start_time": "2025-06-24T18:56:48.079174Z"
    }
   },
   "source": [
    "# Plot drawdown\n",
    "# dd = drawdown(full_sample_ret['strat_ret'].cumsum())\n",
    "dd = drawdown(full_sample_ret['strat_ret']) * 100\n",
    "plt.figure(figsize=(10, 2))\n",
    "dd.plot()\n",
    "plt.ylim(-30, 0)\n",
    "plt.title('Drawdown')\n",
    "plt.xlabel('Date')\n",
    "plt.ylabel('Drawdown')\n",
    "plt.show()\n",
    "print(f\"The max drawdown is {dd.min()}\")"
   ],
   "outputs": [
    {
     "data": {
      "text/plain": [
       "<Figure size 1000x200 with 1 Axes>"
      ],
      "image/png": "[encoded data removed]"
     },
     "metadata": {},
     "output_type": "display_data"
    },
    {
     "name": "stdout",
     "output_type": "stream",
     "text": [
      "The max drawdown is -23.15433496412291\n"
     ]
    }
   ],
   "execution_count": 24
  },
  {
   "cell_type": "code",
   "id": "18cea543",
   "metadata": {
    "ExecuteTime": {
     "end_time": "2025-06-24T18:56:49.484239Z",
     "start_time": "2025-06-24T18:56:48.393866Z"
    }
   },
   "source": [
    "ddd = duration(full_sample_ret.cumsum())\n",
    "ddd"
   ],
   "outputs": [
    {
     "data": {
      "text/plain": [
       "           strat_ret buy_and_hold_btc\n",
       "Date                                 \n",
       "2019-01-01         0                0\n",
       "2019-01-02         0                0\n",
       "2019-01-03         0                0\n",
       "2019-01-04         0                1\n",
       "2019-01-05         0                2\n",
       "...              ...              ...\n",
       "2024-08-12        15               83\n",
       "2024-08-13        16               84\n",
       "2024-08-14        17               85\n",
       "2024-08-15        18               86\n",
       "2024-08-16        19               87\n",
       "\n",
       "[2057 rows x 2 columns]"
      ],
      "text/html": [
       "<div>\n",
       "<style scoped>\n",
       "    .dataframe tbody tr th:only-of-type {\n",
       "        vertical-align: middle;\n",
       "    }\n",
       "\n",
       "    .dataframe tbody tr th {\n",
       "        vertical-align: top;\n",
       "    }\n",
       "\n",
       "    .dataframe thead th {\n",
       "        text-align: right;\n",
       "    }\n",
       "</style>\n",
       "<table border=\"1\" class=\"dataframe\">\n",
       "  <thead>\n",
       "    <tr style=\"text-align: right;\">\n",
       "      <th></th>\n",
       "      <th>strat_ret</th>\n",
       "      <th>buy_and_hold_btc</th>\n",
       "    </tr>\n",
       "    <tr>\n",
       "      <th>Date</th>\n",
       "      <th></th>\n",
       "      <th></th>\n",
       "    </tr>\n",
       "  </thead>\n",
       "  <tbody>\n",
       "    <tr>\n",
       "      <th>2019-01-01</th>\n",
       "      <td>0</td>\n",
       "      <td>0</td>\n",
       "    </tr>\n",
       "    <tr>\n",
       "      <th>2019-01-02</th>\n",
       "      <td>0</td>\n",
       "      <td>0</td>\n",
       "    </tr>\n",
       "    <tr>\n",
       "      <th>2019-01-03</th>\n",
       "      <td>0</td>\n",
       "      <td>0</td>\n",
       "    </tr>\n",
       "    <tr>\n",
       "      <th>2019-01-04</th>\n",
       "      <td>0</td>\n",
       "      <td>1</td>\n",
       "    </tr>\n",
       "    <tr>\n",
       "      <th>2019-01-05</th>\n",
       "      <td>0</td>\n",
       "      <td>2</td>\n",
       "    </tr>\n",
       "    <tr>\n",
       "      <th>...</th>\n",
       "      <td>...</td>\n",
       "      <td>...</td>\n",
       "    </tr>\n",
       "    <tr>\n",
       "      <th>2024-08-12</th>\n",
       "      <td>15</td>\n",
       "      <td>83</td>\n",
       "    </tr>\n",
       "    <tr>\n",
       "      <th>2024-08-13</th>\n",
       "      <td>16</td>\n",
       "      <td>84</td>\n",
       "    </tr>\n",
       "    <tr>\n",
       "      <th>2024-08-14</th>\n",
       "      <td>17</td>\n",
       "      <td>85</td>\n",
       "    </tr>\n",
       "    <tr>\n",
       "      <th>2024-08-15</th>\n",
       "      <td>18</td>\n",
       "      <td>86</td>\n",
       "    </tr>\n",
       "    <tr>\n",
       "      <th>2024-08-16</th>\n",
       "      <td>19</td>\n",
       "      <td>87</td>\n",
       "    </tr>\n",
       "  </tbody>\n",
       "</table>\n",
       "<p>2057 rows × 2 columns</p>\n",
       "</div>"
      ]
     },
     "execution_count": 25,
     "metadata": {},
     "output_type": "execute_result"
    }
   ],
   "execution_count": 25
  },
  {
   "cell_type": "code",
   "id": "ca17e78a",
   "metadata": {
    "ExecuteTime": {
     "end_time": "2025-06-24T18:56:49.893946Z",
     "start_time": "2025-06-24T18:56:49.695645Z"
    }
   },
   "source": [
    "ddd.plot()"
   ],
   "outputs": [
    {
     "data": {
      "text/plain": [
       "<Axes: xlabel='Date'>"
      ]
     },
     "execution_count": 26,
     "metadata": {},
     "output_type": "execute_result"
    },
    {
     "data": {
      "text/plain": [
       "<Figure size 640x480 with 1 Axes>"
      ],
      "image/png": "[encoded data removed]"
     },
     "metadata": {},
     "output_type": "display_data"
    }
   ],
   "execution_count": 26
  },
  {
   "cell_type": "code",
   "id": "58b25f51",
   "metadata": {
    "ExecuteTime": {
     "end_time": "2025-06-24T18:56:49.932203Z",
     "start_time": "2025-06-24T18:56:49.926818Z"
    }
   },
   "source": [
    "# maximum drawdown duration\n",
    "ddd.max()"
   ],
   "outputs": [
    {
     "data": {
      "text/plain": [
       "strat_ret           236\n",
       "buy_and_hold_btc    824\n",
       "dtype: object"
      ]
     },
     "execution_count": 27,
     "metadata": {},
     "output_type": "execute_result"
    }
   ],
   "execution_count": 27
  },
  {
   "cell_type": "code",
   "id": "6752dfed",
   "metadata": {
    "ExecuteTime": {
     "end_time": "2025-06-24T18:56:49.997721Z",
     "start_time": "2025-06-24T18:56:49.991241Z"
    }
   },
   "source": [
    "avg_return = full_sample_stats.loc['strat_ret', 'avg']\n",
    "volatility = full_sample_stats.loc['strat_ret', 'vol']\n",
    "sharpe = full_sample_stats.loc['strat_ret', 'sharpe']\n",
    "hit_rate = full_sample_stats.loc['strat_ret', 'hit_rate']\n",
    "max_drawdown = dd.min()\n",
    "max_duration = ddd.max().loc['strat_ret']\n",
    "holding_period = metrics_df.loc[0.1, 'Holding Period']\n",
    "information_ratio = IR['strat_ret']\n",
    "\n",
    "# Calculate strategy stats with formatted percentages and days\n",
    "stats = final_results(avg_return, volatility, sharpe, hit_rate, max_drawdown, max_duration, holding_period, information_ratio)\n",
    "print(stats)"
   ],
   "outputs": [
    {
     "name": "stdout",
     "output_type": "stream",
     "text": [
      "                  Cointegration\n",
      "Return (Ann.)            21.65%\n",
      "Volatility (Ann.)        22.39%\n",
      "Sharpe Ratio               0.97\n",
      "Hit Rate                 50.90%\n",
      "Max Drawdown            -23.15%\n",
      "Max Duration        236.00 days\n",
      "Holding Period       20.23 days\n",
      "Information Ratio          0.90\n"
     ]
    }
   ],
   "execution_count": 28
  },
  {
   "cell_type": "markdown",
   "id": "c2bdf95d",
   "metadata": {},
   "source": [
    "Overall, the cointegration strategy did not perform as well as expected. While cointegration is theoretically sound, its practical application can be complex and less effective. We will further explore correlation-based pairs trading in the next steps to seek more effective strategies."
   ]
  }
 ],
 "metadata": {
  "kernelspec": {
   "display_name": "Python 3 (ipykernel)",
   "language": "python",
   "name": "python3"
  },
  "language_info": {
   "codemirror_mode": {
    "name": "ipython",
    "version": 3
   },
   "file_extension": ".py",
   "mimetype": "text/x-python",
   "name": "python",
   "nbconvert_exporter": "python",
   "pygments_lexer": "ipython3",
   "version": "3.11.5"
  }
 },
 "nbformat": 4,
 "nbformat_minor": 5
}
